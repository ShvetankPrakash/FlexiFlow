{
  "nbformat": 4,
  "nbformat_minor": 0,
  "metadata": {
    "colab": {
      "provenance": []
    },
    "kernelspec": {
      "name": "python3",
      "display_name": "Python 3"
    },
    "language_info": {
      "name": "python"
    }
  },
  "cells": [
    {
      "cell_type": "markdown",
      "source": [
        "## **FlexiBench Air Pollution MLP Quantization**\n",
        "### Author: Shvetank Prakash\n",
        "### Date: Jan 2025\n",
        "#### Helpful links:\n",
        "\n",
        "[Co-Design of Approximate Multilayer Perceptron for Ultra-Resource Constrained Printed Circuits](https://arxiv.org/abs/2302.14576) (Paper Results Reproduced)\n",
        "\n",
        "[Gemmlowp Paper](https://arxiv.org/pdf/1712.05877)\n",
        "\n",
        "[Gemmlowp Implementation](https://github.com/google/gemmlowp/tree/master)\n"
      ],
      "metadata": {
        "id": "B6xKk1RMw3zG"
      }
    },
    {
      "cell_type": "markdown",
      "source": [
        "# Basic Imports and Global Defs"
      ],
      "metadata": {
        "id": "zmARXYN5xetM"
      }
    },
    {
      "cell_type": "code",
      "source": [
        "!pip install tensorflow-model-optimization==0.8.0\n",
        "!pip install ucimlrepo==0.0.7"
      ],
      "metadata": {
        "colab": {
          "base_uri": "https://localhost:8080/"
        },
        "collapsed": true,
        "id": "-7RwFYPOH7xC",
        "outputId": "344a2278-3a7e-4367-f430-f5993c9612ae"
      },
      "execution_count": 1,
      "outputs": [
        {
          "output_type": "stream",
          "name": "stdout",
          "text": [
            "Requirement already satisfied: tensorflow-model-optimization==0.8.0 in /usr/local/lib/python3.11/dist-packages (0.8.0)\n",
            "Requirement already satisfied: absl-py~=1.2 in /usr/local/lib/python3.11/dist-packages (from tensorflow-model-optimization==0.8.0) (1.4.0)\n",
            "Requirement already satisfied: dm-tree~=0.1.1 in /usr/local/lib/python3.11/dist-packages (from tensorflow-model-optimization==0.8.0) (0.1.9)\n",
            "Requirement already satisfied: numpy~=1.23 in /usr/local/lib/python3.11/dist-packages (from tensorflow-model-optimization==0.8.0) (1.26.4)\n",
            "Requirement already satisfied: six~=1.14 in /usr/local/lib/python3.11/dist-packages (from tensorflow-model-optimization==0.8.0) (1.17.0)\n",
            "Requirement already satisfied: attrs>=18.2.0 in /usr/local/lib/python3.11/dist-packages (from dm-tree~=0.1.1->tensorflow-model-optimization==0.8.0) (25.3.0)\n",
            "Requirement already satisfied: wrapt>=1.11.2 in /usr/local/lib/python3.11/dist-packages (from dm-tree~=0.1.1->tensorflow-model-optimization==0.8.0) (1.17.2)\n",
            "Requirement already satisfied: ucimlrepo==0.0.7 in /usr/local/lib/python3.11/dist-packages (0.0.7)\n",
            "Requirement already satisfied: pandas>=1.0.0 in /usr/local/lib/python3.11/dist-packages (from ucimlrepo==0.0.7) (2.2.2)\n",
            "Requirement already satisfied: certifi>=2020.12.5 in /usr/local/lib/python3.11/dist-packages (from ucimlrepo==0.0.7) (2025.7.14)\n",
            "Requirement already satisfied: numpy>=1.23.2 in /usr/local/lib/python3.11/dist-packages (from pandas>=1.0.0->ucimlrepo==0.0.7) (1.26.4)\n",
            "Requirement already satisfied: python-dateutil>=2.8.2 in /usr/local/lib/python3.11/dist-packages (from pandas>=1.0.0->ucimlrepo==0.0.7) (2.9.0.post0)\n",
            "Requirement already satisfied: pytz>=2020.1 in /usr/local/lib/python3.11/dist-packages (from pandas>=1.0.0->ucimlrepo==0.0.7) (2025.2)\n",
            "Requirement already satisfied: tzdata>=2022.7 in /usr/local/lib/python3.11/dist-packages (from pandas>=1.0.0->ucimlrepo==0.0.7) (2025.2)\n",
            "Requirement already satisfied: six>=1.5 in /usr/local/lib/python3.11/dist-packages (from python-dateutil>=2.8.2->pandas>=1.0.0->ucimlrepo==0.0.7) (1.17.0)\n"
          ]
        }
      ]
    },
    {
      "cell_type": "code",
      "source": [
        "import os\n",
        "import csv\n",
        "import math\n",
        "import random\n",
        "\n",
        "\n",
        "import numpy as np\n",
        "import pandas as pd\n",
        "import matplotlib.pyplot as plt\n",
        "\n",
        "import tensorflow as tf\n",
        "from tensorflow.keras import layers\n",
        "from tensorflow.keras.optimizers import Adam\n",
        "from tensorflow.keras.callbacks import ModelCheckpoint, EarlyStopping\n",
        "\n",
        "import tensorflow_model_optimization as tfmot\n",
        "from sklearn.model_selection import train_test_split\n",
        "\n",
        "\n",
        "# Setting environment variables\n",
        "os.environ[\"TF_USE_LEGACY_KERAS\"] = \"1\"\n",
        "os.environ['TF_DETERMINISTIC_OPS'] = '1'"
      ],
      "metadata": {
        "collapsed": true,
        "id": "8tYezt7xmzUa"
      },
      "execution_count": 2,
      "outputs": []
    },
    {
      "cell_type": "code",
      "source": [
        "# Model Parameters\n",
        "INPUT_SIZE = 5\n",
        "HIDDEN_SIZE_1 = 20\n",
        "HIDDEN_SIZE_2 = 10\n",
        "OUTPUT_SIZE = 3\n",
        "\n",
        "# Training Parameters\n",
        "EPOCHS = 100\n",
        "BATCH_SIZE_TRAIN = 200\n",
        "BATCH_SIZE_TEST = 64\n",
        "LEARNING_RATE = 0.005\n",
        "\n",
        "# Set random seeds for reproducibility\n",
        "SEED = 42\n",
        "np.random.seed(SEED)\n",
        "random.seed(SEED)\n",
        "tf.random.set_seed(SEED)"
      ],
      "metadata": {
        "id": "fMfZ9zYJIdCK"
      },
      "execution_count": 3,
      "outputs": []
    },
    {
      "cell_type": "markdown",
      "source": [
        "# **Read and Preprocess Dataset**"
      ],
      "metadata": {
        "id": "2Jml3fzQBpSh"
      }
    },
    {
      "cell_type": "code",
      "source": [
        "def load_csv_data(file_path):\n",
        "    df = pd.read_csv(file_path)\n",
        "    labels = df.pop('label')\n",
        "    dataset = tf.data.Dataset.from_tensor_slices((df.values.astype('float32') / 255., labels.values.astype('int32')))\n",
        "    return dataset\n",
        "\n",
        "\n",
        "# Load in dataset from csv\n",
        "train_dataset = load_csv_data('training_data.csv')\n",
        "print(train_dataset)\n",
        "train_dataset = train_dataset.shuffle(buffer_size=len(list(train_dataset)), seed=SEED)\n",
        "train_dataset = train_dataset.batch(BATCH_SIZE_TRAIN)\n",
        "\n",
        "test_dataset = load_csv_data('samples.csv')\n",
        "print(test_dataset)\n",
        "test_dataset = test_dataset.batch(BATCH_SIZE_TEST)"
      ],
      "metadata": {
        "id": "YJ_KJE3dn4kd",
        "colab": {
          "base_uri": "https://localhost:8080/"
        },
        "outputId": "34bbd9e1-7959-44bd-a43a-58631317432f"
      },
      "execution_count": 4,
      "outputs": [
        {
          "output_type": "stream",
          "name": "stdout",
          "text": [
            "<_TensorSliceDataset element_spec=(TensorSpec(shape=(5,), dtype=tf.float32, name=None), TensorSpec(shape=(), dtype=tf.int32, name=None))>\n",
            "<_TensorSliceDataset element_spec=(TensorSpec(shape=(5,), dtype=tf.float32, name=None), TensorSpec(shape=(), dtype=tf.int32, name=None))>\n"
          ]
        }
      ]
    },
    {
      "cell_type": "code",
      "source": [
        "# # Print a single element from each dataset\n",
        "# print(\"Single element from train_dataset:\")\n",
        "# for element in train_dataset.take(1):\n",
        "#     print(element)\n",
        "\n",
        "print(\"\\nSingle element from test_dataset:\")\n",
        "for element in test_dataset.take(1):\n",
        "    print(element)"
      ],
      "metadata": {
        "colab": {
          "base_uri": "https://localhost:8080/"
        },
        "collapsed": true,
        "id": "cqoYwwI9JLVs",
        "outputId": "a9d3adf9-bcda-4bf1-9ac2-18f5c5ac8a23"
      },
      "execution_count": 5,
      "outputs": [
        {
          "output_type": "stream",
          "name": "stdout",
          "text": [
            "\n",
            "Single element from test_dataset:\n",
            "(<tf.Tensor: shape=(45, 5), dtype=float32, numpy=\n",
            "array([[0.47843137, 0.40784314, 0.47843137, 0.5058824 , 0.49803922],\n",
            "       [0.40392157, 0.57254905, 0.50980395, 0.5803922 , 0.3882353 ],\n",
            "       [0.47843137, 0.4627451 , 0.5372549 , 0.65882355, 0.49803922],\n",
            "       [0.36862746, 0.47843137, 0.5764706 , 0.5803922 , 0.27450982],\n",
            "       [0.40392157, 0.54509807, 0.4392157 , 0.6431373 , 0.5529412 ],\n",
            "       [0.25882354, 0.21568628, 0.16862746, 0.07058824, 0.        ],\n",
            "       [0.25882354, 0.18039216, 0.04705882, 0.20784314, 0.10980392],\n",
            "       [0.18431373, 0.2784314 , 0.27450982, 0.01568628, 0.05490196],\n",
            "       [0.03529412, 0.15294118, 0.04705882, 0.21960784, 0.16470589],\n",
            "       [0.14509805, 0.05098039, 0.1882353 , 0.17254902, 0.10980392],\n",
            "       [0.10980392, 0.31764707, 0.11764706, 0.10980392, 0.        ],\n",
            "       [0.        , 0.11764706, 0.03529412, 0.00392157, 0.16470589],\n",
            "       [0.14509805, 0.20784314, 0.29803923, 0.        , 0.10980392],\n",
            "       [1.        , 0.8509804 , 0.91764706, 0.8784314 , 0.8862745 ],\n",
            "       [0.8117647 , 0.90588236, 0.7490196 , 0.8235294 , 0.6666667 ],\n",
            "       [0.8862745 , 0.8235294 , 0.7882353 , 0.85490197, 0.7764706 ],\n",
            "       [0.9607843 , 0.9607843 , 0.78039217, 0.92156863, 0.8862745 ],\n",
            "       [0.        , 0.30588236, 0.08627451, 0.01568628, 0.10980392],\n",
            "       [0.5921569 , 1.        , 1.        , 1.        , 1.        ],\n",
            "       [0.7372549 , 0.9882353 , 0.7882353 , 0.8039216 , 0.72156864],\n",
            "       [1.        , 0.91764706, 0.7921569 , 0.98039216, 0.8862745 ],\n",
            "       [0.8117647 , 0.87058824, 0.7254902 , 0.95686275, 0.60784316],\n",
            "       [1.        , 0.9529412 , 0.7254902 , 0.9372549 , 0.83137256],\n",
            "       [0.9607843 , 0.93333334, 0.92156863, 0.827451  , 0.83137256],\n",
            "       [0.9254902 , 0.98039216, 0.93333334, 0.9411765 , 0.9411765 ],\n",
            "       [0.18431373, 0.10588235, 0.16470589, 0.00392157, 0.05490196],\n",
            "       [0.8509804 , 0.8980392 , 0.94509804, 0.76862746, 0.8862745 ],\n",
            "       [0.5921569 , 0.8627451 , 0.8156863 , 0.78431374, 1.        ],\n",
            "       [0.7764706 , 0.8235294 , 0.9019608 , 0.99607843, 0.72156864],\n",
            "       [0.7019608 , 0.8509804 , 0.79607844, 0.8156863 , 0.60784316],\n",
            "       [0.32941177, 0.54509807, 0.4509804 , 0.39215687, 0.44313726],\n",
            "       [0.40392157, 0.63529414, 0.49411765, 0.57254905, 0.5529412 ],\n",
            "       [0.40392157, 0.41568628, 0.5803922 , 0.5294118 , 0.3882353 ],\n",
            "       [0.03529412, 0.16078432, 0.03529412, 0.10588235, 0.10980392],\n",
            "       [0.44313726, 0.47843137, 0.46666667, 0.41568628, 0.49803922],\n",
            "       [0.40392157, 0.49019608, 0.5764706 , 0.54509807, 0.44313726],\n",
            "       [0.40392157, 0.4       , 0.5411765 , 0.50980395, 0.33333334],\n",
            "       [0.40392157, 0.4       , 0.5254902 , 0.60784316, 0.3882353 ],\n",
            "       [0.25882354, 0.13333334, 0.21568628, 0.26666668, 0.        ],\n",
            "       [0.44313726, 0.4627451 , 0.5058824 , 0.47058824, 0.21960784],\n",
            "       [0.32941177, 0.40784314, 0.5254902 , 0.43137255, 0.3882353 ],\n",
            "       [0.21960784, 0.21568628, 0.2901961 , 0.02352941, 0.16470589],\n",
            "       [0.40392157, 0.49019608, 0.43137255, 0.50980395, 0.27450982],\n",
            "       [0.03529412, 0.2509804 , 0.1254902 , 0.        , 0.10980392],\n",
            "       [0.03529412, 0.2509804 , 0.27058825, 0.19215687, 0.10980392]],\n",
            "      dtype=float32)>, <tf.Tensor: shape=(45,), dtype=int32, numpy=\n",
            "array([1, 1, 1, 1, 1, 0, 0, 0, 0, 0, 0, 0, 0, 2, 2, 2, 2, 0, 2, 2, 2, 2,\n",
            "       2, 2, 2, 0, 2, 2, 2, 2, 1, 1, 1, 0, 1, 1, 1, 1, 0, 1, 1, 0, 1, 0,\n",
            "       0], dtype=int32)>)\n"
          ]
        }
      ]
    },
    {
      "cell_type": "markdown",
      "source": [
        "# **Create Model**"
      ],
      "metadata": {
        "id": "dSBlaBAaAYEB"
      }
    },
    {
      "cell_type": "code",
      "source": [
        "from tensorflow.keras.regularizers import l2\n",
        "\n",
        "def create_mlp(input_size, hidden_size1, hidden_size2, output_size):\n",
        "    model = tf.keras.Sequential([\n",
        "        layers.InputLayer(shape=(input_size,)),\n",
        "        layers.Dense(hidden_size1, activation='relu', kernel_regularizer=l2(0.001)),\n",
        "        layers.Dense(hidden_size2, activation='relu', kernel_regularizer=l2(0.001)),\n",
        "        layers.Dense(output_size, kernel_regularizer=l2(0.001))\n",
        "    ])\n",
        "    return model\n",
        "\n",
        "model = create_mlp(INPUT_SIZE, HIDDEN_SIZE_1, HIDDEN_SIZE_2, OUTPUT_SIZE)\n",
        "opt = Adam(learning_rate=LEARNING_RATE, )\n",
        "model.compile(optimizer=opt, loss=tf.keras.losses.SparseCategoricalCrossentropy(from_logits=True), metrics=['accuracy'])\n",
        "model.summary()"
      ],
      "metadata": {
        "id": "RTuXXZnTKVJ2",
        "colab": {
          "base_uri": "https://localhost:8080/",
          "height": 255
        },
        "outputId": "f3e91929-0af2-40bf-b32c-ca37a419a710",
        "collapsed": true
      },
      "execution_count": 6,
      "outputs": [
        {
          "output_type": "display_data",
          "data": {
            "text/plain": [
              "\u001b[1mModel: \"sequential\"\u001b[0m\n"
            ],
            "text/html": [
              "<pre style=\"white-space:pre;overflow-x:auto;line-height:normal;font-family:Menlo,'DejaVu Sans Mono',consolas,'Courier New',monospace\"><span style=\"font-weight: bold\">Model: \"sequential\"</span>\n",
              "</pre>\n"
            ]
          },
          "metadata": {}
        },
        {
          "output_type": "display_data",
          "data": {
            "text/plain": [
              "┏━━━━━━━━━━━━━━━━━━━━━━━━━━━━━━━━━┳━━━━━━━━━━━━━━━━━━━━━━━━┳━━━━━━━━━━━━━━━┓\n",
              "┃\u001b[1m \u001b[0m\u001b[1mLayer (type)                   \u001b[0m\u001b[1m \u001b[0m┃\u001b[1m \u001b[0m\u001b[1mOutput Shape          \u001b[0m\u001b[1m \u001b[0m┃\u001b[1m \u001b[0m\u001b[1m      Param #\u001b[0m\u001b[1m \u001b[0m┃\n",
              "┡━━━━━━━━━━━━━━━━━━━━━━━━━━━━━━━━━╇━━━━━━━━━━━━━━━━━━━━━━━━╇━━━━━━━━━━━━━━━┩\n",
              "│ dense (\u001b[38;5;33mDense\u001b[0m)                   │ (\u001b[38;5;45mNone\u001b[0m, \u001b[38;5;34m20\u001b[0m)             │           \u001b[38;5;34m120\u001b[0m │\n",
              "├─────────────────────────────────┼────────────────────────┼───────────────┤\n",
              "│ dense_1 (\u001b[38;5;33mDense\u001b[0m)                 │ (\u001b[38;5;45mNone\u001b[0m, \u001b[38;5;34m10\u001b[0m)             │           \u001b[38;5;34m210\u001b[0m │\n",
              "├─────────────────────────────────┼────────────────────────┼───────────────┤\n",
              "│ dense_2 (\u001b[38;5;33mDense\u001b[0m)                 │ (\u001b[38;5;45mNone\u001b[0m, \u001b[38;5;34m3\u001b[0m)              │            \u001b[38;5;34m33\u001b[0m │\n",
              "└─────────────────────────────────┴────────────────────────┴───────────────┘\n"
            ],
            "text/html": [
              "<pre style=\"white-space:pre;overflow-x:auto;line-height:normal;font-family:Menlo,'DejaVu Sans Mono',consolas,'Courier New',monospace\">┏━━━━━━━━━━━━━━━━━━━━━━━━━━━━━━━━━┳━━━━━━━━━━━━━━━━━━━━━━━━┳━━━━━━━━━━━━━━━┓\n",
              "┃<span style=\"font-weight: bold\"> Layer (type)                    </span>┃<span style=\"font-weight: bold\"> Output Shape           </span>┃<span style=\"font-weight: bold\">       Param # </span>┃\n",
              "┡━━━━━━━━━━━━━━━━━━━━━━━━━━━━━━━━━╇━━━━━━━━━━━━━━━━━━━━━━━━╇━━━━━━━━━━━━━━━┩\n",
              "│ dense (<span style=\"color: #0087ff; text-decoration-color: #0087ff\">Dense</span>)                   │ (<span style=\"color: #00d7ff; text-decoration-color: #00d7ff\">None</span>, <span style=\"color: #00af00; text-decoration-color: #00af00\">20</span>)             │           <span style=\"color: #00af00; text-decoration-color: #00af00\">120</span> │\n",
              "├─────────────────────────────────┼────────────────────────┼───────────────┤\n",
              "│ dense_1 (<span style=\"color: #0087ff; text-decoration-color: #0087ff\">Dense</span>)                 │ (<span style=\"color: #00d7ff; text-decoration-color: #00d7ff\">None</span>, <span style=\"color: #00af00; text-decoration-color: #00af00\">10</span>)             │           <span style=\"color: #00af00; text-decoration-color: #00af00\">210</span> │\n",
              "├─────────────────────────────────┼────────────────────────┼───────────────┤\n",
              "│ dense_2 (<span style=\"color: #0087ff; text-decoration-color: #0087ff\">Dense</span>)                 │ (<span style=\"color: #00d7ff; text-decoration-color: #00d7ff\">None</span>, <span style=\"color: #00af00; text-decoration-color: #00af00\">3</span>)              │            <span style=\"color: #00af00; text-decoration-color: #00af00\">33</span> │\n",
              "└─────────────────────────────────┴────────────────────────┴───────────────┘\n",
              "</pre>\n"
            ]
          },
          "metadata": {}
        },
        {
          "output_type": "display_data",
          "data": {
            "text/plain": [
              "\u001b[1m Total params: \u001b[0m\u001b[38;5;34m363\u001b[0m (1.42 KB)\n"
            ],
            "text/html": [
              "<pre style=\"white-space:pre;overflow-x:auto;line-height:normal;font-family:Menlo,'DejaVu Sans Mono',consolas,'Courier New',monospace\"><span style=\"font-weight: bold\"> Total params: </span><span style=\"color: #00af00; text-decoration-color: #00af00\">363</span> (1.42 KB)\n",
              "</pre>\n"
            ]
          },
          "metadata": {}
        },
        {
          "output_type": "display_data",
          "data": {
            "text/plain": [
              "\u001b[1m Trainable params: \u001b[0m\u001b[38;5;34m363\u001b[0m (1.42 KB)\n"
            ],
            "text/html": [
              "<pre style=\"white-space:pre;overflow-x:auto;line-height:normal;font-family:Menlo,'DejaVu Sans Mono',consolas,'Courier New',monospace\"><span style=\"font-weight: bold\"> Trainable params: </span><span style=\"color: #00af00; text-decoration-color: #00af00\">363</span> (1.42 KB)\n",
              "</pre>\n"
            ]
          },
          "metadata": {}
        },
        {
          "output_type": "display_data",
          "data": {
            "text/plain": [
              "\u001b[1m Non-trainable params: \u001b[0m\u001b[38;5;34m0\u001b[0m (0.00 B)\n"
            ],
            "text/html": [
              "<pre style=\"white-space:pre;overflow-x:auto;line-height:normal;font-family:Menlo,'DejaVu Sans Mono',consolas,'Courier New',monospace\"><span style=\"font-weight: bold\"> Non-trainable params: </span><span style=\"color: #00af00; text-decoration-color: #00af00\">0</span> (0.00 B)\n",
              "</pre>\n"
            ]
          },
          "metadata": {}
        }
      ]
    },
    {
      "cell_type": "markdown",
      "source": [
        "# **Train from Scratch in FP32**"
      ],
      "metadata": {
        "id": "OSfrYoT5_vc9"
      }
    },
    {
      "cell_type": "code",
      "source": [
        "# Initial non-quant training\n",
        "history = model.fit(\n",
        "    train_dataset,\n",
        "    epochs=EPOCHS,\n",
        "    validation_data=test_dataset\n",
        "    )"
      ],
      "metadata": {
        "colab": {
          "base_uri": "https://localhost:8080/"
        },
        "collapsed": true,
        "id": "trLEGuB-ItPp",
        "outputId": "3d12b89e-4826-4664-c628-f5f2533ab624"
      },
      "execution_count": 7,
      "outputs": [
        {
          "output_type": "stream",
          "name": "stdout",
          "text": [
            "Epoch 1/100\n",
            "\u001b[1m1/1\u001b[0m \u001b[32m━━━━━━━━━━━━━━━━━━━━\u001b[0m\u001b[37m\u001b[0m \u001b[1m8s\u001b[0m 8s/step - accuracy: 0.3667 - loss: 1.0952 - val_accuracy: 0.3333 - val_loss: 1.0788\n",
            "Epoch 2/100\n",
            "\u001b[1m1/1\u001b[0m \u001b[32m━━━━━━━━━━━━━━━━━━━━\u001b[0m\u001b[37m\u001b[0m \u001b[1m0s\u001b[0m 73ms/step - accuracy: 0.3667 - loss: 1.0767 - val_accuracy: 0.3333 - val_loss: 1.0578\n",
            "Epoch 3/100\n",
            "\u001b[1m1/1\u001b[0m \u001b[32m━━━━━━━━━━━━━━━━━━━━\u001b[0m\u001b[37m\u001b[0m \u001b[1m0s\u001b[0m 151ms/step - accuracy: 0.3600 - loss: 1.0578 - val_accuracy: 0.3333 - val_loss: 1.0376\n",
            "Epoch 4/100\n",
            "\u001b[1m1/1\u001b[0m \u001b[32m━━━━━━━━━━━━━━━━━━━━\u001b[0m\u001b[37m\u001b[0m \u001b[1m0s\u001b[0m 100ms/step - accuracy: 0.3533 - loss: 1.0391 - val_accuracy: 0.3333 - val_loss: 1.0210\n",
            "Epoch 5/100\n",
            "\u001b[1m1/1\u001b[0m \u001b[32m━━━━━━━━━━━━━━━━━━━━\u001b[0m\u001b[37m\u001b[0m \u001b[1m0s\u001b[0m 71ms/step - accuracy: 0.3400 - loss: 1.0217 - val_accuracy: 0.3333 - val_loss: 1.0072\n",
            "Epoch 6/100\n",
            "\u001b[1m1/1\u001b[0m \u001b[32m━━━━━━━━━━━━━━━━━━━━\u001b[0m\u001b[37m\u001b[0m \u001b[1m0s\u001b[0m 90ms/step - accuracy: 0.3333 - loss: 1.0070 - val_accuracy: 0.3333 - val_loss: 0.9942\n",
            "Epoch 7/100\n",
            "\u001b[1m1/1\u001b[0m \u001b[32m━━━━━━━━━━━━━━━━━━━━\u001b[0m\u001b[37m\u001b[0m \u001b[1m0s\u001b[0m 45ms/step - accuracy: 0.3400 - loss: 0.9939 - val_accuracy: 0.3333 - val_loss: 0.9813\n",
            "Epoch 8/100\n",
            "\u001b[1m1/1\u001b[0m \u001b[32m━━━━━━━━━━━━━━━━━━━━\u001b[0m\u001b[37m\u001b[0m \u001b[1m0s\u001b[0m 57ms/step - accuracy: 0.3467 - loss: 0.9808 - val_accuracy: 0.3333 - val_loss: 0.9680\n",
            "Epoch 9/100\n",
            "\u001b[1m1/1\u001b[0m \u001b[32m━━━━━━━━━━━━━━━━━━━━\u001b[0m\u001b[37m\u001b[0m \u001b[1m0s\u001b[0m 46ms/step - accuracy: 0.3667 - loss: 0.9672 - val_accuracy: 0.3333 - val_loss: 0.9547\n",
            "Epoch 10/100\n",
            "\u001b[1m1/1\u001b[0m \u001b[32m━━━━━━━━━━━━━━━━━━━━\u001b[0m\u001b[37m\u001b[0m \u001b[1m0s\u001b[0m 73ms/step - accuracy: 0.3800 - loss: 0.9533 - val_accuracy: 0.3333 - val_loss: 0.9413\n",
            "Epoch 11/100\n",
            "\u001b[1m1/1\u001b[0m \u001b[32m━━━━━━━━━━━━━━━━━━━━\u001b[0m\u001b[37m\u001b[0m \u001b[1m0s\u001b[0m 121ms/step - accuracy: 0.4267 - loss: 0.9389 - val_accuracy: 0.4444 - val_loss: 0.9277\n",
            "Epoch 12/100\n",
            "\u001b[1m1/1\u001b[0m \u001b[32m━━━━━━━━━━━━━━━━━━━━\u001b[0m\u001b[37m\u001b[0m \u001b[1m0s\u001b[0m 82ms/step - accuracy: 0.4800 - loss: 0.9243 - val_accuracy: 0.4444 - val_loss: 0.9143\n",
            "Epoch 13/100\n",
            "\u001b[1m1/1\u001b[0m \u001b[32m━━━━━━━━━━━━━━━━━━━━\u001b[0m\u001b[37m\u001b[0m \u001b[1m0s\u001b[0m 266ms/step - accuracy: 0.4867 - loss: 0.9093 - val_accuracy: 0.4889 - val_loss: 0.9004\n",
            "Epoch 14/100\n",
            "\u001b[1m1/1\u001b[0m \u001b[32m━━━━━━━━━━━━━━━━━━━━\u001b[0m\u001b[37m\u001b[0m \u001b[1m0s\u001b[0m 112ms/step - accuracy: 0.5333 - loss: 0.8943 - val_accuracy: 0.5111 - val_loss: 0.8856\n",
            "Epoch 15/100\n",
            "\u001b[1m1/1\u001b[0m \u001b[32m━━━━━━━━━━━━━━━━━━━━\u001b[0m\u001b[37m\u001b[0m \u001b[1m0s\u001b[0m 69ms/step - accuracy: 0.5400 - loss: 0.8791 - val_accuracy: 0.5333 - val_loss: 0.8707\n",
            "Epoch 16/100\n",
            "\u001b[1m1/1\u001b[0m \u001b[32m━━━━━━━━━━━━━━━━━━━━\u001b[0m\u001b[37m\u001b[0m \u001b[1m0s\u001b[0m 79ms/step - accuracy: 0.5467 - loss: 0.8638 - val_accuracy: 0.5556 - val_loss: 0.8558\n",
            "Epoch 17/100\n",
            "\u001b[1m1/1\u001b[0m \u001b[32m━━━━━━━━━━━━━━━━━━━━\u001b[0m\u001b[37m\u001b[0m \u001b[1m0s\u001b[0m 66ms/step - accuracy: 0.5533 - loss: 0.8483 - val_accuracy: 0.5778 - val_loss: 0.8408\n",
            "Epoch 18/100\n",
            "\u001b[1m1/1\u001b[0m \u001b[32m━━━━━━━━━━━━━━━━━━━━\u001b[0m\u001b[37m\u001b[0m \u001b[1m0s\u001b[0m 77ms/step - accuracy: 0.5800 - loss: 0.8327 - val_accuracy: 0.5778 - val_loss: 0.8264\n",
            "Epoch 19/100\n",
            "\u001b[1m1/1\u001b[0m \u001b[32m━━━━━━━━━━━━━━━━━━━━\u001b[0m\u001b[37m\u001b[0m \u001b[1m0s\u001b[0m 102ms/step - accuracy: 0.5867 - loss: 0.8174 - val_accuracy: 0.5778 - val_loss: 0.8118\n",
            "Epoch 20/100\n",
            "\u001b[1m1/1\u001b[0m \u001b[32m━━━━━━━━━━━━━━━━━━━━\u001b[0m\u001b[37m\u001b[0m \u001b[1m0s\u001b[0m 36ms/step - accuracy: 0.6133 - loss: 0.8023 - val_accuracy: 0.6000 - val_loss: 0.7975\n",
            "Epoch 21/100\n",
            "\u001b[1m1/1\u001b[0m \u001b[32m━━━━━━━━━━━━━━━━━━━━\u001b[0m\u001b[37m\u001b[0m \u001b[1m0s\u001b[0m 35ms/step - accuracy: 0.6333 - loss: 0.7874 - val_accuracy: 0.6000 - val_loss: 0.7833\n",
            "Epoch 22/100\n",
            "\u001b[1m1/1\u001b[0m \u001b[32m━━━━━━━━━━━━━━━━━━━━\u001b[0m\u001b[37m\u001b[0m \u001b[1m0s\u001b[0m 78ms/step - accuracy: 0.6333 - loss: 0.7726 - val_accuracy: 0.6222 - val_loss: 0.7691\n",
            "Epoch 23/100\n",
            "\u001b[1m1/1\u001b[0m \u001b[32m━━━━━━━━━━━━━━━━━━━━\u001b[0m\u001b[37m\u001b[0m \u001b[1m0s\u001b[0m 119ms/step - accuracy: 0.6400 - loss: 0.7578 - val_accuracy: 0.6222 - val_loss: 0.7548\n",
            "Epoch 24/100\n",
            "\u001b[1m1/1\u001b[0m \u001b[32m━━━━━━━━━━━━━━━━━━━━\u001b[0m\u001b[37m\u001b[0m \u001b[1m0s\u001b[0m 53ms/step - accuracy: 0.6400 - loss: 0.7431 - val_accuracy: 0.6444 - val_loss: 0.7406\n",
            "Epoch 25/100\n",
            "\u001b[1m1/1\u001b[0m \u001b[32m━━━━━━━━━━━━━━━━━━━━\u001b[0m\u001b[37m\u001b[0m \u001b[1m0s\u001b[0m 101ms/step - accuracy: 0.6467 - loss: 0.7284 - val_accuracy: 0.6444 - val_loss: 0.7264\n",
            "Epoch 26/100\n",
            "\u001b[1m1/1\u001b[0m \u001b[32m━━━━━━━━━━━━━━━━━━━━\u001b[0m\u001b[37m\u001b[0m \u001b[1m0s\u001b[0m 128ms/step - accuracy: 0.6467 - loss: 0.7138 - val_accuracy: 0.6444 - val_loss: 0.7123\n",
            "Epoch 27/100\n",
            "\u001b[1m1/1\u001b[0m \u001b[32m━━━━━━━━━━━━━━━━━━━━\u001b[0m\u001b[37m\u001b[0m \u001b[1m0s\u001b[0m 87ms/step - accuracy: 0.6533 - loss: 0.6992 - val_accuracy: 0.6667 - val_loss: 0.6979\n",
            "Epoch 28/100\n",
            "\u001b[1m1/1\u001b[0m \u001b[32m━━━━━━━━━━━━━━━━━━━━\u001b[0m\u001b[37m\u001b[0m \u001b[1m0s\u001b[0m 109ms/step - accuracy: 0.6667 - loss: 0.6846 - val_accuracy: 0.6667 - val_loss: 0.6833\n",
            "Epoch 29/100\n",
            "\u001b[1m1/1\u001b[0m \u001b[32m━━━━━━━━━━━━━━━━━━━━\u001b[0m\u001b[37m\u001b[0m \u001b[1m0s\u001b[0m 84ms/step - accuracy: 0.6733 - loss: 0.6699 - val_accuracy: 0.6667 - val_loss: 0.6686\n",
            "Epoch 30/100\n",
            "\u001b[1m1/1\u001b[0m \u001b[32m━━━━━━━━━━━━━━━━━━━━\u001b[0m\u001b[37m\u001b[0m \u001b[1m0s\u001b[0m 115ms/step - accuracy: 0.7000 - loss: 0.6553 - val_accuracy: 0.6889 - val_loss: 0.6538\n",
            "Epoch 31/100\n",
            "\u001b[1m1/1\u001b[0m \u001b[32m━━━━━━━━━━━━━━━━━━━━\u001b[0m\u001b[37m\u001b[0m \u001b[1m0s\u001b[0m 88ms/step - accuracy: 0.7000 - loss: 0.6405 - val_accuracy: 0.7111 - val_loss: 0.6389\n",
            "Epoch 32/100\n",
            "\u001b[1m1/1\u001b[0m \u001b[32m━━━━━━━━━━━━━━━━━━━━\u001b[0m\u001b[37m\u001b[0m \u001b[1m0s\u001b[0m 153ms/step - accuracy: 0.7400 - loss: 0.6258 - val_accuracy: 0.7778 - val_loss: 0.6240\n",
            "Epoch 33/100\n",
            "\u001b[1m1/1\u001b[0m \u001b[32m━━━━━━━━━━━━━━━━━━━━\u001b[0m\u001b[37m\u001b[0m \u001b[1m0s\u001b[0m 77ms/step - accuracy: 0.7733 - loss: 0.6111 - val_accuracy: 0.7778 - val_loss: 0.6090\n",
            "Epoch 34/100\n",
            "\u001b[1m1/1\u001b[0m \u001b[32m━━━━━━━━━━━━━━━━━━━━\u001b[0m\u001b[37m\u001b[0m \u001b[1m0s\u001b[0m 182ms/step - accuracy: 0.8067 - loss: 0.5963 - val_accuracy: 0.8667 - val_loss: 0.5940\n",
            "Epoch 35/100\n",
            "\u001b[1m1/1\u001b[0m \u001b[32m━━━━━━━━━━━━━━━━━━━━\u001b[0m\u001b[37m\u001b[0m \u001b[1m0s\u001b[0m 105ms/step - accuracy: 0.8467 - loss: 0.5814 - val_accuracy: 0.8889 - val_loss: 0.5789\n",
            "Epoch 36/100\n",
            "\u001b[1m1/1\u001b[0m \u001b[32m━━━━━━━━━━━━━━━━━━━━\u001b[0m\u001b[37m\u001b[0m \u001b[1m0s\u001b[0m 108ms/step - accuracy: 0.8733 - loss: 0.5665 - val_accuracy: 0.8889 - val_loss: 0.5640\n",
            "Epoch 37/100\n",
            "\u001b[1m1/1\u001b[0m \u001b[32m━━━━━━━━━━━━━━━━━━━━\u001b[0m\u001b[37m\u001b[0m \u001b[1m0s\u001b[0m 65ms/step - accuracy: 0.8800 - loss: 0.5517 - val_accuracy: 0.8889 - val_loss: 0.5491\n",
            "Epoch 38/100\n",
            "\u001b[1m1/1\u001b[0m \u001b[32m━━━━━━━━━━━━━━━━━━━━\u001b[0m\u001b[37m\u001b[0m \u001b[1m0s\u001b[0m 125ms/step - accuracy: 0.8933 - loss: 0.5369 - val_accuracy: 0.9111 - val_loss: 0.5344\n",
            "Epoch 39/100\n",
            "\u001b[1m1/1\u001b[0m \u001b[32m━━━━━━━━━━━━━━━━━━━━\u001b[0m\u001b[37m\u001b[0m \u001b[1m0s\u001b[0m 136ms/step - accuracy: 0.9400 - loss: 0.5223 - val_accuracy: 0.9333 - val_loss: 0.5198\n",
            "Epoch 40/100\n",
            "\u001b[1m1/1\u001b[0m \u001b[32m━━━━━━━━━━━━━━━━━━━━\u001b[0m\u001b[37m\u001b[0m \u001b[1m0s\u001b[0m 109ms/step - accuracy: 0.9533 - loss: 0.5077 - val_accuracy: 0.9333 - val_loss: 0.5053\n",
            "Epoch 41/100\n",
            "\u001b[1m1/1\u001b[0m \u001b[32m━━━━━━━━━━━━━━━━━━━━\u001b[0m\u001b[37m\u001b[0m \u001b[1m0s\u001b[0m 200ms/step - accuracy: 0.9600 - loss: 0.4932 - val_accuracy: 0.9556 - val_loss: 0.4910\n",
            "Epoch 42/100\n",
            "\u001b[1m1/1\u001b[0m \u001b[32m━━━━━━━━━━━━━━━━━━━━\u001b[0m\u001b[37m\u001b[0m \u001b[1m0s\u001b[0m 46ms/step - accuracy: 0.9933 - loss: 0.4789 - val_accuracy: 0.9556 - val_loss: 0.4768\n",
            "Epoch 43/100\n",
            "\u001b[1m1/1\u001b[0m \u001b[32m━━━━━━━━━━━━━━━━━━━━\u001b[0m\u001b[37m\u001b[0m \u001b[1m0s\u001b[0m 81ms/step - accuracy: 0.9933 - loss: 0.4647 - val_accuracy: 0.9778 - val_loss: 0.4624\n",
            "Epoch 44/100\n",
            "\u001b[1m1/1\u001b[0m \u001b[32m━━━━━━━━━━━━━━━━━━━━\u001b[0m\u001b[37m\u001b[0m \u001b[1m0s\u001b[0m 41ms/step - accuracy: 0.9933 - loss: 0.4505 - val_accuracy: 0.9778 - val_loss: 0.4479\n",
            "Epoch 45/100\n",
            "\u001b[1m1/1\u001b[0m \u001b[32m━━━━━━━━━━━━━━━━━━━━\u001b[0m\u001b[37m\u001b[0m \u001b[1m0s\u001b[0m 38ms/step - accuracy: 1.0000 - loss: 0.4365 - val_accuracy: 1.0000 - val_loss: 0.4335\n",
            "Epoch 46/100\n",
            "\u001b[1m1/1\u001b[0m \u001b[32m━━━━━━━━━━━━━━━━━━━━\u001b[0m\u001b[37m\u001b[0m \u001b[1m0s\u001b[0m 169ms/step - accuracy: 1.0000 - loss: 0.4225 - val_accuracy: 1.0000 - val_loss: 0.4192\n",
            "Epoch 47/100\n",
            "\u001b[1m1/1\u001b[0m \u001b[32m━━━━━━━━━━━━━━━━━━━━\u001b[0m\u001b[37m\u001b[0m \u001b[1m0s\u001b[0m 123ms/step - accuracy: 1.0000 - loss: 0.4086 - val_accuracy: 1.0000 - val_loss: 0.4050\n",
            "Epoch 48/100\n",
            "\u001b[1m1/1\u001b[0m \u001b[32m━━━━━━━━━━━━━━━━━━━━\u001b[0m\u001b[37m\u001b[0m \u001b[1m0s\u001b[0m 63ms/step - accuracy: 1.0000 - loss: 0.3948 - val_accuracy: 1.0000 - val_loss: 0.3910\n",
            "Epoch 49/100\n",
            "\u001b[1m1/1\u001b[0m \u001b[32m━━━━━━━━━━━━━━━━━━━━\u001b[0m\u001b[37m\u001b[0m \u001b[1m0s\u001b[0m 51ms/step - accuracy: 1.0000 - loss: 0.3812 - val_accuracy: 1.0000 - val_loss: 0.3771\n",
            "Epoch 50/100\n",
            "\u001b[1m1/1\u001b[0m \u001b[32m━━━━━━━━━━━━━━━━━━━━\u001b[0m\u001b[37m\u001b[0m \u001b[1m0s\u001b[0m 135ms/step - accuracy: 1.0000 - loss: 0.3677 - val_accuracy: 1.0000 - val_loss: 0.3635\n",
            "Epoch 51/100\n",
            "\u001b[1m1/1\u001b[0m \u001b[32m━━━━━━━━━━━━━━━━━━━━\u001b[0m\u001b[37m\u001b[0m \u001b[1m0s\u001b[0m 157ms/step - accuracy: 1.0000 - loss: 0.3545 - val_accuracy: 1.0000 - val_loss: 0.3500\n",
            "Epoch 52/100\n",
            "\u001b[1m1/1\u001b[0m \u001b[32m━━━━━━━━━━━━━━━━━━━━\u001b[0m\u001b[37m\u001b[0m \u001b[1m0s\u001b[0m 55ms/step - accuracy: 1.0000 - loss: 0.3415 - val_accuracy: 1.0000 - val_loss: 0.3368\n",
            "Epoch 53/100\n",
            "\u001b[1m1/1\u001b[0m \u001b[32m━━━━━━━━━━━━━━━━━━━━\u001b[0m\u001b[37m\u001b[0m \u001b[1m0s\u001b[0m 66ms/step - accuracy: 1.0000 - loss: 0.3288 - val_accuracy: 1.0000 - val_loss: 0.3239\n",
            "Epoch 54/100\n",
            "\u001b[1m1/1\u001b[0m \u001b[32m━━━━━━━━━━━━━━━━━━━━\u001b[0m\u001b[37m\u001b[0m \u001b[1m0s\u001b[0m 39ms/step - accuracy: 1.0000 - loss: 0.3164 - val_accuracy: 1.0000 - val_loss: 0.3113\n",
            "Epoch 55/100\n",
            "\u001b[1m1/1\u001b[0m \u001b[32m━━━━━━━━━━━━━━━━━━━━\u001b[0m\u001b[37m\u001b[0m \u001b[1m0s\u001b[0m 50ms/step - accuracy: 1.0000 - loss: 0.3042 - val_accuracy: 1.0000 - val_loss: 0.2991\n",
            "Epoch 56/100\n",
            "\u001b[1m1/1\u001b[0m \u001b[32m━━━━━━━━━━━━━━━━━━━━\u001b[0m\u001b[37m\u001b[0m \u001b[1m0s\u001b[0m 70ms/step - accuracy: 1.0000 - loss: 0.2924 - val_accuracy: 1.0000 - val_loss: 0.2871\n",
            "Epoch 57/100\n",
            "\u001b[1m1/1\u001b[0m \u001b[32m━━━━━━━━━━━━━━━━━━━━\u001b[0m\u001b[37m\u001b[0m \u001b[1m0s\u001b[0m 88ms/step - accuracy: 1.0000 - loss: 0.2808 - val_accuracy: 1.0000 - val_loss: 0.2755\n",
            "Epoch 58/100\n",
            "\u001b[1m1/1\u001b[0m \u001b[32m━━━━━━━━━━━━━━━━━━━━\u001b[0m\u001b[37m\u001b[0m \u001b[1m0s\u001b[0m 99ms/step - accuracy: 1.0000 - loss: 0.2696 - val_accuracy: 1.0000 - val_loss: 0.2642\n",
            "Epoch 59/100\n",
            "\u001b[1m1/1\u001b[0m \u001b[32m━━━━━━━━━━━━━━━━━━━━\u001b[0m\u001b[37m\u001b[0m \u001b[1m0s\u001b[0m 103ms/step - accuracy: 1.0000 - loss: 0.2586 - val_accuracy: 1.0000 - val_loss: 0.2533\n",
            "Epoch 60/100\n",
            "\u001b[1m1/1\u001b[0m \u001b[32m━━━━━━━━━━━━━━━━━━━━\u001b[0m\u001b[37m\u001b[0m \u001b[1m0s\u001b[0m 114ms/step - accuracy: 1.0000 - loss: 0.2479 - val_accuracy: 1.0000 - val_loss: 0.2426\n",
            "Epoch 61/100\n",
            "\u001b[1m1/1\u001b[0m \u001b[32m━━━━━━━━━━━━━━━━━━━━\u001b[0m\u001b[37m\u001b[0m \u001b[1m0s\u001b[0m 19ms/step - accuracy: 1.0000 - loss: 0.2376 - val_accuracy: 1.0000 - val_loss: 0.2323\n",
            "Epoch 62/100\n",
            "\u001b[1m1/1\u001b[0m \u001b[32m━━━━━━━━━━━━━━━━━━━━\u001b[0m\u001b[37m\u001b[0m \u001b[1m0s\u001b[0m 20ms/step - accuracy: 1.0000 - loss: 0.2275 - val_accuracy: 1.0000 - val_loss: 0.2224\n",
            "Epoch 63/100\n",
            "\u001b[1m1/1\u001b[0m \u001b[32m━━━━━━━━━━━━━━━━━━━━\u001b[0m\u001b[37m\u001b[0m \u001b[1m0s\u001b[0m 20ms/step - accuracy: 1.0000 - loss: 0.2179 - val_accuracy: 1.0000 - val_loss: 0.2129\n",
            "Epoch 64/100\n",
            "\u001b[1m1/1\u001b[0m \u001b[32m━━━━━━━━━━━━━━━━━━━━\u001b[0m\u001b[37m\u001b[0m \u001b[1m0s\u001b[0m 57ms/step - accuracy: 1.0000 - loss: 0.2086 - val_accuracy: 1.0000 - val_loss: 0.2037\n",
            "Epoch 65/100\n",
            "\u001b[1m1/1\u001b[0m \u001b[32m━━━━━━━━━━━━━━━━━━━━\u001b[0m\u001b[37m\u001b[0m \u001b[1m0s\u001b[0m 23ms/step - accuracy: 1.0000 - loss: 0.1997 - val_accuracy: 1.0000 - val_loss: 0.1950\n",
            "Epoch 66/100\n",
            "\u001b[1m1/1\u001b[0m \u001b[32m━━━━━━━━━━━━━━━━━━━━\u001b[0m\u001b[37m\u001b[0m \u001b[1m0s\u001b[0m 76ms/step - accuracy: 1.0000 - loss: 0.1912 - val_accuracy: 1.0000 - val_loss: 0.1866\n",
            "Epoch 67/100\n",
            "\u001b[1m1/1\u001b[0m \u001b[32m━━━━━━━━━━━━━━━━━━━━\u001b[0m\u001b[37m\u001b[0m \u001b[1m0s\u001b[0m 22ms/step - accuracy: 1.0000 - loss: 0.1830 - val_accuracy: 1.0000 - val_loss: 0.1787\n",
            "Epoch 68/100\n",
            "\u001b[1m1/1\u001b[0m \u001b[32m━━━━━━━━━━━━━━━━━━━━\u001b[0m\u001b[37m\u001b[0m \u001b[1m0s\u001b[0m 56ms/step - accuracy: 1.0000 - loss: 0.1751 - val_accuracy: 1.0000 - val_loss: 0.1711\n",
            "Epoch 69/100\n",
            "\u001b[1m1/1\u001b[0m \u001b[32m━━━━━━━━━━━━━━━━━━━━\u001b[0m\u001b[37m\u001b[0m \u001b[1m0s\u001b[0m 22ms/step - accuracy: 1.0000 - loss: 0.1677 - val_accuracy: 1.0000 - val_loss: 0.1639\n",
            "Epoch 70/100\n",
            "\u001b[1m1/1\u001b[0m \u001b[32m━━━━━━━━━━━━━━━━━━━━\u001b[0m\u001b[37m\u001b[0m \u001b[1m0s\u001b[0m 75ms/step - accuracy: 1.0000 - loss: 0.1605 - val_accuracy: 1.0000 - val_loss: 0.1571\n",
            "Epoch 71/100\n",
            "\u001b[1m1/1\u001b[0m \u001b[32m━━━━━━━━━━━━━━━━━━━━\u001b[0m\u001b[37m\u001b[0m \u001b[1m0s\u001b[0m 38ms/step - accuracy: 1.0000 - loss: 0.1537 - val_accuracy: 1.0000 - val_loss: 0.1507\n",
            "Epoch 72/100\n",
            "\u001b[1m1/1\u001b[0m \u001b[32m━━━━━━━━━━━━━━━━━━━━\u001b[0m\u001b[37m\u001b[0m \u001b[1m0s\u001b[0m 24ms/step - accuracy: 1.0000 - loss: 0.1473 - val_accuracy: 1.0000 - val_loss: 0.1445\n",
            "Epoch 73/100\n",
            "\u001b[1m1/1\u001b[0m \u001b[32m━━━━━━━━━━━━━━━━━━━━\u001b[0m\u001b[37m\u001b[0m \u001b[1m0s\u001b[0m 20ms/step - accuracy: 1.0000 - loss: 0.1413 - val_accuracy: 1.0000 - val_loss: 0.1387\n",
            "Epoch 74/100\n",
            "\u001b[1m1/1\u001b[0m \u001b[32m━━━━━━━━━━━━━━━━━━━━\u001b[0m\u001b[37m\u001b[0m \u001b[1m0s\u001b[0m 20ms/step - accuracy: 1.0000 - loss: 0.1355 - val_accuracy: 1.0000 - val_loss: 0.1333\n",
            "Epoch 75/100\n",
            "\u001b[1m1/1\u001b[0m \u001b[32m━━━━━━━━━━━━━━━━━━━━\u001b[0m\u001b[37m\u001b[0m \u001b[1m0s\u001b[0m 21ms/step - accuracy: 1.0000 - loss: 0.1302 - val_accuracy: 1.0000 - val_loss: 0.1282\n",
            "Epoch 76/100\n",
            "\u001b[1m1/1\u001b[0m \u001b[32m━━━━━━━━━━━━━━━━━━━━\u001b[0m\u001b[37m\u001b[0m \u001b[1m0s\u001b[0m 56ms/step - accuracy: 1.0000 - loss: 0.1251 - val_accuracy: 1.0000 - val_loss: 0.1235\n",
            "Epoch 77/100\n",
            "\u001b[1m1/1\u001b[0m \u001b[32m━━━━━━━━━━━━━━━━━━━━\u001b[0m\u001b[37m\u001b[0m \u001b[1m0s\u001b[0m 23ms/step - accuracy: 1.0000 - loss: 0.1203 - val_accuracy: 1.0000 - val_loss: 0.1191\n",
            "Epoch 78/100\n",
            "\u001b[1m1/1\u001b[0m \u001b[32m━━━━━━━━━━━━━━━━━━━━\u001b[0m\u001b[37m\u001b[0m \u001b[1m0s\u001b[0m 24ms/step - accuracy: 1.0000 - loss: 0.1159 - val_accuracy: 1.0000 - val_loss: 0.1150\n",
            "Epoch 79/100\n",
            "\u001b[1m1/1\u001b[0m \u001b[32m━━━━━━━━━━━━━━━━━━━━\u001b[0m\u001b[37m\u001b[0m \u001b[1m0s\u001b[0m 25ms/step - accuracy: 1.0000 - loss: 0.1118 - val_accuracy: 1.0000 - val_loss: 0.1111\n",
            "Epoch 80/100\n",
            "\u001b[1m1/1\u001b[0m \u001b[32m━━━━━━━━━━━━━━━━━━━━\u001b[0m\u001b[37m\u001b[0m \u001b[1m0s\u001b[0m 26ms/step - accuracy: 1.0000 - loss: 0.1079 - val_accuracy: 1.0000 - val_loss: 0.1074\n",
            "Epoch 81/100\n",
            "\u001b[1m1/1\u001b[0m \u001b[32m━━━━━━━━━━━━━━━━━━━━\u001b[0m\u001b[37m\u001b[0m \u001b[1m0s\u001b[0m 22ms/step - accuracy: 1.0000 - loss: 0.1043 - val_accuracy: 1.0000 - val_loss: 0.1039\n",
            "Epoch 82/100\n",
            "\u001b[1m1/1\u001b[0m \u001b[32m━━━━━━━━━━━━━━━━━━━━\u001b[0m\u001b[37m\u001b[0m \u001b[1m0s\u001b[0m 20ms/step - accuracy: 1.0000 - loss: 0.1009 - val_accuracy: 1.0000 - val_loss: 0.1007\n",
            "Epoch 83/100\n",
            "\u001b[1m1/1\u001b[0m \u001b[32m━━━━━━━━━━━━━━━━━━━━\u001b[0m\u001b[37m\u001b[0m \u001b[1m0s\u001b[0m 60ms/step - accuracy: 1.0000 - loss: 0.0977 - val_accuracy: 1.0000 - val_loss: 0.0977\n",
            "Epoch 84/100\n",
            "\u001b[1m1/1\u001b[0m \u001b[32m━━━━━━━━━━━━━━━━━━━━\u001b[0m\u001b[37m\u001b[0m \u001b[1m0s\u001b[0m 55ms/step - accuracy: 1.0000 - loss: 0.0948 - val_accuracy: 1.0000 - val_loss: 0.0949\n",
            "Epoch 85/100\n",
            "\u001b[1m1/1\u001b[0m \u001b[32m━━━━━━━━━━━━━━━━━━━━\u001b[0m\u001b[37m\u001b[0m \u001b[1m0s\u001b[0m 25ms/step - accuracy: 1.0000 - loss: 0.0920 - val_accuracy: 1.0000 - val_loss: 0.0923\n",
            "Epoch 86/100\n",
            "\u001b[1m1/1\u001b[0m \u001b[32m━━━━━━━━━━━━━━━━━━━━\u001b[0m\u001b[37m\u001b[0m \u001b[1m0s\u001b[0m 28ms/step - accuracy: 1.0000 - loss: 0.0895 - val_accuracy: 1.0000 - val_loss: 0.0899\n",
            "Epoch 87/100\n",
            "\u001b[1m1/1\u001b[0m \u001b[32m━━━━━━━━━━━━━━━━━━━━\u001b[0m\u001b[37m\u001b[0m \u001b[1m0s\u001b[0m 27ms/step - accuracy: 1.0000 - loss: 0.0871 - val_accuracy: 1.0000 - val_loss: 0.0877\n",
            "Epoch 88/100\n",
            "\u001b[1m1/1\u001b[0m \u001b[32m━━━━━━━━━━━━━━━━━━━━\u001b[0m\u001b[37m\u001b[0m \u001b[1m0s\u001b[0m 28ms/step - accuracy: 1.0000 - loss: 0.0850 - val_accuracy: 1.0000 - val_loss: 0.0856\n",
            "Epoch 89/100\n",
            "\u001b[1m1/1\u001b[0m \u001b[32m━━━━━━━━━━━━━━━━━━━━\u001b[0m\u001b[37m\u001b[0m \u001b[1m0s\u001b[0m 25ms/step - accuracy: 1.0000 - loss: 0.0829 - val_accuracy: 1.0000 - val_loss: 0.0836\n",
            "Epoch 90/100\n",
            "\u001b[1m1/1\u001b[0m \u001b[32m━━━━━━━━━━━━━━━━━━━━\u001b[0m\u001b[37m\u001b[0m \u001b[1m0s\u001b[0m 23ms/step - accuracy: 1.0000 - loss: 0.0810 - val_accuracy: 1.0000 - val_loss: 0.0818\n",
            "Epoch 91/100\n",
            "\u001b[1m1/1\u001b[0m \u001b[32m━━━━━━━━━━━━━━━━━━━━\u001b[0m\u001b[37m\u001b[0m \u001b[1m0s\u001b[0m 40ms/step - accuracy: 1.0000 - loss: 0.0793 - val_accuracy: 1.0000 - val_loss: 0.0801\n",
            "Epoch 92/100\n",
            "\u001b[1m1/1\u001b[0m \u001b[32m━━━━━━━━━━━━━━━━━━━━\u001b[0m\u001b[37m\u001b[0m \u001b[1m0s\u001b[0m 50ms/step - accuracy: 1.0000 - loss: 0.0777 - val_accuracy: 1.0000 - val_loss: 0.0786\n",
            "Epoch 93/100\n",
            "\u001b[1m1/1\u001b[0m \u001b[32m━━━━━━━━━━━━━━━━━━━━\u001b[0m\u001b[37m\u001b[0m \u001b[1m0s\u001b[0m 24ms/step - accuracy: 1.0000 - loss: 0.0761 - val_accuracy: 1.0000 - val_loss: 0.0771\n",
            "Epoch 94/100\n",
            "\u001b[1m1/1\u001b[0m \u001b[32m━━━━━━━━━━━━━━━━━━━━\u001b[0m\u001b[37m\u001b[0m \u001b[1m0s\u001b[0m 23ms/step - accuracy: 1.0000 - loss: 0.0747 - val_accuracy: 1.0000 - val_loss: 0.0758\n",
            "Epoch 95/100\n",
            "\u001b[1m1/1\u001b[0m \u001b[32m━━━━━━━━━━━━━━━━━━━━\u001b[0m\u001b[37m\u001b[0m \u001b[1m0s\u001b[0m 24ms/step - accuracy: 1.0000 - loss: 0.0734 - val_accuracy: 1.0000 - val_loss: 0.0745\n",
            "Epoch 96/100\n",
            "\u001b[1m1/1\u001b[0m \u001b[32m━━━━━━━━━━━━━━━━━━━━\u001b[0m\u001b[37m\u001b[0m \u001b[1m0s\u001b[0m 24ms/step - accuracy: 1.0000 - loss: 0.0722 - val_accuracy: 1.0000 - val_loss: 0.0734\n",
            "Epoch 97/100\n",
            "\u001b[1m1/1\u001b[0m \u001b[32m━━━━━━━━━━━━━━━━━━━━\u001b[0m\u001b[37m\u001b[0m \u001b[1m0s\u001b[0m 25ms/step - accuracy: 1.0000 - loss: 0.0711 - val_accuracy: 1.0000 - val_loss: 0.0723\n",
            "Epoch 98/100\n",
            "\u001b[1m1/1\u001b[0m \u001b[32m━━━━━━━━━━━━━━━━━━━━\u001b[0m\u001b[37m\u001b[0m \u001b[1m0s\u001b[0m 25ms/step - accuracy: 1.0000 - loss: 0.0700 - val_accuracy: 1.0000 - val_loss: 0.0712\n",
            "Epoch 99/100\n",
            "\u001b[1m1/1\u001b[0m \u001b[32m━━━━━━━━━━━━━━━━━━━━\u001b[0m\u001b[37m\u001b[0m \u001b[1m0s\u001b[0m 29ms/step - accuracy: 1.0000 - loss: 0.0691 - val_accuracy: 1.0000 - val_loss: 0.0703\n",
            "Epoch 100/100\n",
            "\u001b[1m1/1\u001b[0m \u001b[32m━━━━━━━━━━━━━━━━━━━━\u001b[0m\u001b[37m\u001b[0m \u001b[1m0s\u001b[0m 23ms/step - accuracy: 1.0000 - loss: 0.0682 - val_accuracy: 1.0000 - val_loss: 0.0694\n"
          ]
        }
      ]
    },
    {
      "cell_type": "markdown",
      "source": [
        "# **Vizualize Training History**"
      ],
      "metadata": {
        "id": "17dCr9zgAnQk"
      }
    },
    {
      "cell_type": "code",
      "source": [
        "plt.plot(history.history[\"loss\"], label=\"Training Loss\")\n",
        "plt.plot(history.history[\"val_loss\"], label=\"Validation Loss\")\n",
        "plt.legend()\n",
        "plt.show()"
      ],
      "metadata": {
        "colab": {
          "base_uri": "https://localhost:8080/",
          "height": 430
        },
        "id": "BpMKkmkDmweF",
        "outputId": "bf71e39a-9653-4391-c429-a91091521ed2"
      },
      "execution_count": 8,
      "outputs": [
        {
          "output_type": "display_data",
          "data": {
            "text/plain": [
              "<Figure size 640x480 with 1 Axes>"
            ],
            "image/png": "[encoded data removed]"
          },
          "metadata": {}
        }
      ]
    },
    {
      "cell_type": "markdown",
      "source": [
        "# **Test Set Classification Accuracy of FP32 Model**"
      ],
      "metadata": {
        "id": "egHE_K6vArh7"
      }
    },
    {
      "cell_type": "code",
      "source": [
        "# Evaluate the FP32 model\n",
        "results = model.evaluate(test_dataset)\n",
        "\n",
        "# Print the results\n",
        "print(f\"Test Loss: {results[0]}, Test Accuracy: {results[1]}\")"
      ],
      "metadata": {
        "colab": {
          "base_uri": "https://localhost:8080/"
        },
        "id": "IElgrf-TJJPC",
        "outputId": "c7cd3597-5c5f-4874-9817-89128ef38257"
      },
      "execution_count": 9,
      "outputs": [
        {
          "output_type": "stream",
          "name": "stdout",
          "text": [
            "\u001b[1m1/1\u001b[0m \u001b[32m━━━━━━━━━━━━━━━━━━━━\u001b[0m\u001b[37m\u001b[0m \u001b[1m0s\u001b[0m 12ms/step - accuracy: 1.0000 - loss: 0.0694\n",
            "Test Loss: 0.06937658786773682, Test Accuracy: 1.0\n"
          ]
        }
      ]
    },
    {
      "cell_type": "markdown",
      "source": [
        "# **Convert to TFLite Model**"
      ],
      "metadata": {
        "id": "tdyvZiHWA-A6"
      }
    },
    {
      "cell_type": "code",
      "source": [
        "# Convert the model to the TensorFlow Lite format without quantization\n",
        "converter = tf.lite.TFLiteConverter.from_keras_model(model)\n",
        "tflite_model = converter.convert()\n",
        "\n",
        "# Save the model\n",
        "with open('model.tflite', 'wb') as f:\n",
        "  f.write(tflite_model)\n",
        "\n",
        "# Print tensor details\n",
        "interpreter = tf.lite.Interpreter(model_content=tflite_model)\n",
        "interpreter.allocate_tensors()\n",
        "for tensor in interpreter.get_tensor_details():\n",
        "    print(tensor['name'], tensor['dtype'])\n",
        "    try:\n",
        "        # Attempt to get tensor data\n",
        "        tensor_data = interpreter.get_tensor(tensor['index'])\n",
        "        print(tensor_data)\n",
        "    except ValueError:\n",
        "        # Skip tensors with null data\n",
        "        print(f\"Skipping tensor '{tensor['name']}' as it has null data.\")"
      ],
      "metadata": {
        "colab": {
          "base_uri": "https://localhost:8080/"
        },
        "id": "fC6reRpb_00G",
        "outputId": "65450796-6f92-453e-ccc8-0175a0eeed52"
      },
      "execution_count": 10,
      "outputs": [
        {
          "output_type": "stream",
          "name": "stdout",
          "text": [
            "Saved artifact at '/tmp/tmpjqv3z2wu'. The following endpoints are available:\n",
            "\n",
            "* Endpoint 'serve'\n",
            "  args_0 (POSITIONAL_ONLY): TensorSpec(shape=(None, 5), dtype=tf.float32, name='keras_tensor')\n",
            "Output Type:\n",
            "  TensorSpec(shape=(None, 3), dtype=tf.float32, name=None)\n",
            "Captures:\n",
            "  138937665602768: TensorSpec(shape=(), dtype=tf.resource, name=None)\n",
            "  138937665604496: TensorSpec(shape=(), dtype=tf.resource, name=None)\n",
            "  138934993286736: TensorSpec(shape=(), dtype=tf.resource, name=None)\n",
            "  138934993286544: TensorSpec(shape=(), dtype=tf.resource, name=None)\n",
            "  138937665602576: TensorSpec(shape=(), dtype=tf.resource, name=None)\n",
            "  138934993288464: TensorSpec(shape=(), dtype=tf.resource, name=None)\n",
            "serving_default_keras_tensor:0 <class 'numpy.float32'>\n",
            "[[6.8544985e-08 0.0000000e+00 0.0000000e+00 0.0000000e+00 0.0000000e+00]]\n",
            "arith.constant <class 'numpy.float32'>\n",
            "[[ 7.8178287e-01 -7.7036583e-01 -1.8107031e-01 -8.2380658e-01\n",
            "  -1.0451335e-03 -1.4726311e-01  7.6500070e-04  9.9181920e-01\n",
            "  -9.5295942e-01  5.0272363e-01]\n",
            " [-5.1241484e-02 -3.2945046e-01 -8.6744368e-04 -4.3156418e-01\n",
            "   2.5571215e-01 -3.8719758e-01  2.9063283e-04 -1.0024581e+00\n",
            "   8.6909461e-01  1.0849832e+00]\n",
            " [-5.4308343e-01  9.6285307e-01 -1.6971251e-01  5.5308729e-01\n",
            "   6.5531145e-04  3.8071921e-01 -8.0285754e-05 -6.2166566e-01\n",
            "   7.0857388e-01 -9.3644255e-01]]\n",
            "arith.constant1 <class 'numpy.float32'>\n",
            "[[ 6.37760878e-01  2.32438534e-01 -1.87058235e-03 -2.68326253e-01\n",
            "  -2.62383550e-01  5.44419408e-01  8.10675174e-02  6.13413565e-02\n",
            "  -1.25183657e-01 -1.84025690e-01  9.16254648e-04 -3.46655458e-01\n",
            "   5.36525846e-01  5.84597117e-04  1.67623937e-01 -4.51806554e-04\n",
            "   7.62399659e-02  4.37255740e-01  4.47459787e-01  1.93127501e-03]\n",
            " [-4.12793338e-01  1.67376101e-01  6.06856979e-02  4.29440975e-01\n",
            "   7.72682965e-01 -2.82227516e-01  5.77512383e-02 -9.39120582e-05\n",
            "   3.30904931e-01  5.77383459e-01 -5.49123361e-05  8.44730288e-02\n",
            "  -7.74520755e-01  5.38163113e-06  6.27296090e-01 -5.78707978e-02\n",
            "  -7.64173269e-02 -4.23627913e-01 -6.80069566e-01 -2.24767393e-03]\n",
            " [-2.32223142e-03  1.92196458e-03 -2.77853513e-04  4.35806140e-02\n",
            "   2.29171666e-04  7.03831166e-02 -1.33530321e-02 -2.34002136e-02\n",
            "   3.08213010e-02 -2.48553231e-02 -4.45346726e-04 -1.06003294e-02\n",
            "  -3.24319495e-04 -8.60677508e-04  5.57648455e-05 -1.34336937e-04\n",
            "  -7.50846404e-04  9.43251420e-03 -1.96757028e-03 -1.07446956e-02]\n",
            " [-3.33697975e-01  2.66072243e-01  7.98443928e-02  6.60630882e-01\n",
            "   6.65813863e-01 -4.04971182e-01  2.16718227e-01 -5.43216884e-05\n",
            "   7.02730656e-01  6.03429854e-01  7.10751337e-04  6.68056726e-01\n",
            "  -6.50870144e-01 -2.39823875e-03  1.88344374e-01  7.52844885e-02\n",
            "   1.82792366e-01 -8.55490148e-01 -3.53100538e-01  4.43372497e-04]\n",
            " [ 6.31390605e-03 -3.65954638e-02  4.17923933e-04 -8.83282162e-03\n",
            "   2.19102993e-04  3.45733352e-02  4.76435089e-04 -1.52359006e-03\n",
            "   3.24412584e-02  3.22653702e-03  7.14947805e-02 -1.22604452e-01\n",
            "   1.22175060e-01 -1.55185808e-05  1.74845918e-04  9.12473537e-03\n",
            "   8.21598843e-02 -1.79461613e-02 -1.52984513e-02  6.13407698e-04]\n",
            " [-2.70721257e-01 -2.16486424e-01  2.12207790e-02  1.54396087e-01\n",
            "   3.16809356e-01 -2.51011103e-01  3.01504582e-01  4.97292876e-02\n",
            "   3.23253959e-01  8.90648291e-02  1.93055021e-05  3.33338290e-01\n",
            "  -3.08185220e-01 -1.25830484e-04  1.57981589e-01 -4.07701870e-03\n",
            "  -3.30139697e-02 -3.05660963e-01 -2.66428620e-01  1.70854814e-02]\n",
            " [ 1.09769244e-04 -2.13251170e-03 -9.61867772e-05 -2.58689597e-02\n",
            "  -5.85788041e-02 -5.23090421e-05  2.29313213e-04  3.27581391e-02\n",
            "   2.27377983e-03  9.15964076e-04 -5.31789251e-02  2.37030000e-03\n",
            "  -1.35809423e-05  4.55433008e-04  6.29734248e-04  1.97696351e-02\n",
            "   2.31010769e-03  2.04380354e-04 -1.00612662e-04 -2.02167360e-03]\n",
            " [ 5.26460469e-01  2.53603280e-01 -3.93138006e-02 -6.41947687e-01\n",
            "  -6.67731285e-01  8.95463526e-01 -4.62095410e-01 -1.07594142e-02\n",
            "  -1.20019384e-01 -4.68616456e-01  1.05258287e-03 -7.97607303e-02\n",
            "   5.81711650e-01 -1.01662427e-02 -6.69456661e-01 -1.40261080e-03\n",
            "   3.01953614e-01  8.74279678e-01  8.12966704e-01 -3.93205235e-04]\n",
            " [-2.47210830e-01 -1.18765108e-01  5.66061062e-04  1.96284484e-02\n",
            "   1.80528879e-01 -1.65320620e-01  5.91533363e-01 -1.52580513e-04\n",
            "   2.93057233e-01  4.86253947e-01 -3.26204259e-04  3.16104114e-01\n",
            "  -4.28068072e-01 -1.26420949e-02  5.29582024e-01  6.29093796e-02\n",
            "   6.78579092e-01 -1.45443484e-01 -3.71354282e-01 -5.18999100e-02]\n",
            " [ 3.80562693e-01  3.85735631e-01 -7.06319552e-05 -5.55099308e-01\n",
            "  -2.64340967e-01  3.55587125e-01 -5.56137681e-01 -6.56978860e-02\n",
            "  -7.55371451e-01  5.16990185e-01 -3.57259102e-02 -4.65135336e-01\n",
            "   3.98499817e-01  5.97842562e-04  6.36824131e-01 -6.44253276e-04\n",
            "   7.71183908e-01  2.91250825e-01  7.12846875e-01  9.86290909e-03]]\n",
            "arith.constant2 <class 'numpy.float32'>\n",
            "[ 0.3370495   0.36406872 -0.36952686]\n",
            "sequential_1/dense_1_2/BiasAdd/ReadVariableOp <class 'numpy.float32'>\n",
            "[ 0.39243102 -0.3671576  -0.06928889 -0.2894962  -0.14421082 -0.22795801\n",
            " -0.04968149  0.26807624 -0.04228058  0.4110326 ]\n",
            "sequential_1/dense_1/BiasAdd/ReadVariableOp <class 'numpy.float32'>\n",
            "[ 0.45162353  0.30273715 -0.08098539 -0.35948992 -0.35800692  0.47762787\n",
            " -0.29825863 -0.05606421 -0.4954758  -0.16913733 -0.05421569 -0.42297453\n",
            "  0.45867646  0.         -0.09157077 -0.09300718  0.46971646  0.46668488\n",
            "  0.4491897   0.        ]\n",
            "sequential_1/dense_1/MatMul <class 'numpy.float32'>\n",
            "[[ 2.0483028e-02 -2.6847100e-01 -1.6182904e-01  1.5753927e-02\n",
            "  -8.9359187e-02]\n",
            " [ 8.2202405e-02  2.3708422e-01 -3.9926503e-02  1.9298276e-01\n",
            "   3.4715492e-01]\n",
            " [-4.6434764e-02  2.1968192e-01 -2.6860563e-02 -1.0056459e-01\n",
            "  -7.6162443e-02]\n",
            " [ 7.7337861e-01  7.7137239e-02  9.5166273e-02  4.6021155e-01\n",
            "   1.2257555e-01]\n",
            " [-4.5428760e-02  6.9634539e-01  7.4454349e-01  1.7088486e-01\n",
            "   6.7644387e-02]\n",
            " [ 4.2796474e-02 -2.2550973e-01 -2.0748895e-01  7.7473402e-02\n",
            "  -2.2107865e-01]\n",
            " [ 7.8400803e-01  2.8303644e-01  2.7990171e-01  1.4067499e-01\n",
            "   6.3518184e-01]\n",
            " [-9.8944595e-03 -4.9955648e-04  2.0262667e-03 -3.4836761e-05\n",
            "   4.6929378e-02]\n",
            " [ 3.5003525e-01  3.1351888e-01 -2.4796070e-01  4.8976052e-01\n",
            "   3.7258241e-01]\n",
            " [ 3.9325929e-01 -8.2697449e-03  4.8889062e-01  6.0666072e-01\n",
            "   2.9083401e-01]\n",
            " [-4.9850274e-02 -5.1449786e-04  2.7218874e-04  1.8231811e-03\n",
            "  -1.6743508e-04]\n",
            " [ 2.7368334e-01  6.9796252e-01  1.1064957e-01  5.5090916e-01\n",
            "   4.4411168e-01]\n",
            " [ 7.4698254e-02 -3.7109199e-01 -2.1618512e-01  1.3314492e-01\n",
            "  -1.1640884e-01]\n",
            " [-1.3193303e-04  1.9242843e-04 -3.3106472e-02  1.6462486e-04\n",
            "  -2.7871016e-02]\n",
            " [ 2.7048141e-01  6.6250563e-02  5.8052063e-01  4.3933678e-01\n",
            "   6.4900869e-01]\n",
            " [ 5.6607679e-02 -5.4126512e-02  1.2138797e-01 -2.8265545e-02\n",
            "   5.4971653e-04]\n",
            " [-2.1836923e-01  5.0453222e-01  2.6761431e-01  7.4604046e-01\n",
            "   5.1656550e-01]\n",
            " [-3.1106666e-01 -2.5949407e-01 -1.8944268e-01  1.0488674e-01\n",
            "   1.2759206e-01]\n",
            " [-2.1282011e-01  8.2832590e-02 -2.0407657e-01 -5.3949477e-03\n",
            "  -1.9188197e-01]\n",
            " [-6.1900239e-02  9.2160626e-04 -7.9122789e-02 -7.3125586e-03\n",
            "  -6.5227956e-02]]\n",
            "sequential_1/dense_1/MatMul;sequential_1/dense_1/Relu;sequential_1/dense_1/BiasAdd <class 'numpy.float32'>\n",
            "Skipping tensor 'sequential_1/dense_1/MatMul;sequential_1/dense_1/Relu;sequential_1/dense_1/BiasAdd' as it has null data.\n",
            "sequential_1/dense_1_2/MatMul;sequential_1/dense_1_2/Relu;sequential_1/dense_1_2/BiasAdd <class 'numpy.float32'>\n",
            "Skipping tensor 'sequential_1/dense_1_2/MatMul;sequential_1/dense_1_2/Relu;sequential_1/dense_1_2/BiasAdd' as it has null data.\n",
            "StatefulPartitionedCall_1:0 <class 'numpy.float32'>\n",
            "[[7.1684781e-08 0.0000000e+00 1.6684753e-26]]\n"
          ]
        }
      ]
    },
    {
      "cell_type": "markdown",
      "source": [
        "# **Convert to Quantized Model**"
      ],
      "metadata": {
        "id": "C1gaSy-8xaMs"
      }
    },
    {
      "cell_type": "code",
      "source": [
        "# Provide a representative dataset to guide the quantization process\n",
        "def representative_dataset_gen():\n",
        "    for data, _ in test_dataset.unbatch().batch(1).take(100):\n",
        "        yield [data]\n",
        "\n",
        "# Convert the model to int8 format\n",
        "converter = tf.lite.TFLiteConverter.from_keras_model(model)\n",
        "converter.optimizations = [tf.lite.Optimize.DEFAULT]\n",
        "converter.representative_dataset = representative_dataset_gen\n",
        "converter.target_spec.supported_ops = [tf.lite.OpsSet.TFLITE_BUILTINS_INT8]\n",
        "converter.inference_input_type = tf.int8\n",
        "converter.inference_output_type = tf.int8\n",
        "converter.experimental_new_quantizer = False  # Optional: Use the default quantizer\n",
        "converter._experimental_disable_per_channel = True\n",
        "tflite_quant_model = converter.convert()\n",
        "\n",
        "# Save the model\n",
        "with open('model_quantized.tflite', 'wb') as f:\n",
        "  f.write(tflite_quant_model)\n",
        "\n",
        "# Print tensor details\n",
        "interpreter = tf.lite.Interpreter(model_content=tflite_quant_model)\n",
        "interpreter.allocate_tensors()\n",
        "\n",
        "for tensor in interpreter.get_tensor_details():\n",
        "    print(tensor['name'], tensor['dtype'])\n",
        "    try:\n",
        "        # Attempt to get tensor data\n",
        "        tensor_data = interpreter.get_tensor(tensor['index'])\n",
        "        print(tensor_data)\n",
        "    except ValueError:\n",
        "        # Skip tensors with null data\n",
        "        print(f\"Skipping tensor '{tensor['name']}' as it has null data.\")"
      ],
      "metadata": {
        "colab": {
          "base_uri": "https://localhost:8080/"
        },
        "id": "Wu50RF1HBJZ_",
        "outputId": "ebc7abec-4482-4370-8831-849957e215e4"
      },
      "execution_count": 11,
      "outputs": [
        {
          "output_type": "stream",
          "name": "stdout",
          "text": [
            "Saved artifact at '/tmp/tmpmodejj64'. The following endpoints are available:\n",
            "\n",
            "* Endpoint 'serve'\n",
            "  args_0 (POSITIONAL_ONLY): TensorSpec(shape=(None, 5), dtype=tf.float32, name='keras_tensor')\n",
            "Output Type:\n",
            "  TensorSpec(shape=(None, 3), dtype=tf.float32, name=None)\n",
            "Captures:\n",
            "  138937665602768: TensorSpec(shape=(), dtype=tf.resource, name=None)\n",
            "  138937665604496: TensorSpec(shape=(), dtype=tf.resource, name=None)\n",
            "  138934993286736: TensorSpec(shape=(), dtype=tf.resource, name=None)\n",
            "  138934993286544: TensorSpec(shape=(), dtype=tf.resource, name=None)\n",
            "  138937665602576: TensorSpec(shape=(), dtype=tf.resource, name=None)\n",
            "  138934993288464: TensorSpec(shape=(), dtype=tf.resource, name=None)\n",
            "serving_default_keras_tensor:0_int8 <class 'numpy.int8'>\n",
            "[[0 0 0 0 0]]\n",
            "arith.constant <class 'numpy.int8'>\n",
            "[[  92  -90  -21  -96    0  -17    0  116 -112   59]\n",
            " [  -6  -39    0  -51   30  -45    0 -117  102  127]\n",
            " [ -64  113  -20   65    0   45    0  -73   83 -110]]\n",
            "arith.constant1 <class 'numpy.int8'>\n",
            "[[  90   33    0  -38  -37   77   11    9  -18  -26    0  -49   76    0\n",
            "    24    0   11   62   63    0]\n",
            " [ -59   24    9   61  110  -40    8    0   47   82    0   12 -110    0\n",
            "    89   -8  -11  -60  -96    0]\n",
            " [   0    0    0    6    0   10   -2   -3    4   -4    0   -2    0    0\n",
            "     0    0    0    1    0   -2]\n",
            " [ -47   38   11   94   94  -57   31    0  100   86    0   95  -92    0\n",
            "    27   11   26 -121  -50    0]\n",
            " [   1   -5    0   -1    0    5    0    0    5    0   10  -17   17    0\n",
            "     0    1   12   -3   -2    0]\n",
            " [ -38  -31    3   22   45  -36   43    7   46   13    0   47  -44    0\n",
            "    22   -1   -5  -43  -38    2]\n",
            " [   0    0    0   -4   -8    0    0    5    0    0   -8    0    0    0\n",
            "     0    3    0    0    0    0]\n",
            " [  75   36   -6  -91  -95  127  -66   -2  -17  -66    0  -11   83   -1\n",
            "   -95    0   43  124  115    0]\n",
            " [ -35  -17    0    3   26  -23   84    0   42   69    0   45  -61   -2\n",
            "    75    9   96  -21  -53   -7]\n",
            " [  54   55    0  -79  -37   50  -79   -9 -107   73   -5  -66   57    0\n",
            "    90    0  109   41  101    1]]\n",
            "arith.constant2 <class 'numpy.int32'>\n",
            "[ 1992  2151 -2183]\n",
            "sequential_1/dense_1_2/BiasAdd/ReadVariableOp <class 'numpy.int32'>\n",
            "[ 5975 -5591 -1055 -4408 -2196 -3471  -756  4082  -644  6259]\n",
            "sequential_1/dense_1/BiasAdd/ReadVariableOp <class 'numpy.int32'>\n",
            "[ 18655  12505  -3345 -14849 -14788  19729 -12320  -2316 -20467  -6987\n",
            "  -2239 -17472  18947      0  -3783  -3842  19403  19277  18555      0]\n",
            "sequential_1/dense_1/MatMul <class 'numpy.int8'>\n",
            "[[  3 -43 -26   3 -14]\n",
            " [ 13  38  -6  31  56]\n",
            " [ -8  36  -4 -16 -12]\n",
            " [125  12  15  75  20]\n",
            " [ -7 113 121  28  11]\n",
            " [  7 -37 -34  13 -36]\n",
            " [127  46  45  23 103]\n",
            " [ -2   0   0   0   8]\n",
            " [ 57  51 -40  79  60]\n",
            " [ 64  -1  79  98  47]\n",
            " [ -8   0   0   0   0]\n",
            " [ 44 113  18  89  72]\n",
            " [ 12 -60 -35  22 -19]\n",
            " [  0   0  -5   0  -5]\n",
            " [ 44  11  94  71 105]\n",
            " [  9  -9  20  -5   0]\n",
            " [-35  82  43 121  84]\n",
            " [-50 -42 -31  17  21]\n",
            " [-34  13 -33  -1 -31]\n",
            " [-10   0 -13  -1 -11]]\n",
            "sequential_1/dense_1/MatMul;sequential_1/dense_1/Relu;sequential_1/dense_1/BiasAdd <class 'numpy.int8'>\n",
            "Skipping tensor 'sequential_1/dense_1/MatMul;sequential_1/dense_1/Relu;sequential_1/dense_1/BiasAdd' as it has null data.\n",
            "sequential_1/dense_1_2/MatMul;sequential_1/dense_1_2/Relu;sequential_1/dense_1_2/BiasAdd <class 'numpy.int8'>\n",
            "Skipping tensor 'sequential_1/dense_1_2/MatMul;sequential_1/dense_1_2/Relu;sequential_1/dense_1_2/BiasAdd' as it has null data.\n",
            "StatefulPartitionedCall_1:0_int8 <class 'numpy.int8'>\n",
            "[[-128    0    0]]\n"
          ]
        },
        {
          "output_type": "stream",
          "name": "stderr",
          "text": [
            "/usr/local/lib/python3.11/dist-packages/tensorflow/lite/python/convert.py:997: UserWarning: Statistics for quantized inputs were expected, but not specified; continuing anyway.\n",
            "  warnings.warn(\n"
          ]
        }
      ]
    },
    {
      "cell_type": "markdown",
      "source": [
        "# **Test Set Classification Accuracy of 8-bit Model**\n",
        "\n",
        "---\n",
        "\n"
      ],
      "metadata": {
        "id": "SZZ-Oth4nJOj"
      }
    },
    {
      "cell_type": "code",
      "source": [
        "# Test accuracy of quantized model\n",
        "interpreter = tf.lite.Interpreter(model_content=tflite_quant_model)\n",
        "interpreter.allocate_tensors()\n",
        "\n",
        "input_details = interpreter.get_input_details()\n",
        "output_details = interpreter.get_output_details()\n",
        "\n",
        "correct = 0.0\n",
        "total = 0.0\n",
        "\n",
        "# Define the transformation function\n",
        "def convert_to_int8(X, y):\n",
        "    X = tf.cast((X*255)-128, tf.int8)  # Multiply by 255 and subtract 128 cast to int8\n",
        "    return X, y\n",
        "\n",
        "# Apply the transformation to the dataset\n",
        "test_dataset_quantized_inputs = test_dataset.map(convert_to_int8).unbatch()\n",
        "\n",
        "# Example: Inspect the first batch\n",
        "for X_batch, y_batch in test_dataset_quantized_inputs.take(1):\n",
        "    print(X_batch.numpy(), y_batch.numpy())\n",
        "for input, label in test_dataset_quantized_inputs.batch(1):\n",
        "    interpreter.set_tensor(input_details[0]['index'], input.numpy().astype('int8'))\n",
        "    interpreter.invoke()\n",
        "    output = interpreter.get_tensor(output_details[0]['index'])\n",
        "    total += 1\n",
        "    if output.argmax() == label.numpy()[0]:\n",
        "        correct += 1\n",
        "\n",
        "print(f\"Quantized Model Test Set Accuracy: {correct / total}\")"
      ],
      "metadata": {
        "colab": {
          "base_uri": "https://localhost:8080/"
        },
        "id": "kSPokUuAfoOQ",
        "outputId": "b31ebef6-34e0-4eed-ed8a-92ee98a6248a"
      },
      "execution_count": 12,
      "outputs": [
        {
          "output_type": "stream",
          "name": "stdout",
          "text": [
            "[ -6 -24  -6   1  -1] 1\n",
            "Quantized Model Test Set Accuracy: 1.0\n"
          ]
        }
      ]
    },
    {
      "cell_type": "code",
      "source": [
        "# Load the quantized TFLite model\n",
        "interpreter = tf.lite.Interpreter(model_content=tflite_quant_model)\n",
        "interpreter.allocate_tensors()\n",
        "\n",
        "# Extract tensor details\n",
        "input_details = interpreter.get_input_details()\n",
        "output_details = interpreter.get_output_details()\n",
        "all_tensor_details = interpreter.get_tensor_details()\n",
        "\n",
        "# Extract weights, biases, scales, and zero points from allocated tensors\n",
        "quantized_params = {}\n",
        "for tensor in all_tensor_details:\n",
        "    # Check if the tensor has quantization parameters and valid data\n",
        "    try:\n",
        "        # Attempt to get tensor data\n",
        "        tensor_data = interpreter.get_tensor(tensor['index'])\n",
        "\n",
        "        if 'quantization_parameters' in tensor and tensor['quantization_parameters']['scales'].size > 0:\n",
        "            quantized_params[tensor['name']] = {\n",
        "                'values': tensor_data,\n",
        "                'scale': tensor['quantization_parameters']['scales'],\n",
        "                'zero_point': tensor['quantization_parameters']['zero_points']\n",
        "            }\n",
        "    except ValueError:\n",
        "        # Skip tensors with null data\n",
        "        if 'quantization_parameters' in tensor and tensor['quantization_parameters']['scales'].size > 0:\n",
        "            quantized_params[tensor['name']] = {\n",
        "                'scale': tensor['quantization_parameters']['scales'],\n",
        "                'zero_point': tensor['quantization_parameters']['zero_points']\n",
        "            }\n",
        "        print(f\"Skipping tensor '{tensor['name']}' as it has null data.\")\n",
        "\n",
        "print(\"Quantized parameters extracted.\")"
      ],
      "metadata": {
        "colab": {
          "base_uri": "https://localhost:8080/"
        },
        "id": "Jv4RuhPA3MDI",
        "outputId": "a1d631dc-3bf2-432b-c226-83391df52fb6"
      },
      "execution_count": 13,
      "outputs": [
        {
          "output_type": "stream",
          "name": "stdout",
          "text": [
            "Skipping tensor 'sequential_1/dense_1/MatMul;sequential_1/dense_1/Relu;sequential_1/dense_1/BiasAdd' as it has null data.\n",
            "Skipping tensor 'sequential_1/dense_1_2/MatMul;sequential_1/dense_1_2/Relu;sequential_1/dense_1_2/BiasAdd' as it has null data.\n",
            "Quantized parameters extracted.\n"
          ]
        }
      ]
    },
    {
      "cell_type": "markdown",
      "source": [
        "# **Print Names, Weights, Scales, and Zero Points of Quantized Model Tensors'**"
      ],
      "metadata": {
        "id": "V3QtTCSOe_8r"
      }
    },
    {
      "cell_type": "code",
      "source": [
        "for name, params in quantized_params.items():\n",
        "    print(f\"{name} - Scale: {params['scale']}, Zero Point: {params['zero_point']}\")\n",
        "    if 'values' in params:\n",
        "      print(params['values'])"
      ],
      "metadata": {
        "colab": {
          "base_uri": "https://localhost:8080/"
        },
        "id": "4vO6T2gMerb9",
        "outputId": "0bd22e57-0430-47eb-e1f7-62e75c1c89da"
      },
      "execution_count": 14,
      "outputs": [
        {
          "output_type": "stream",
          "name": "stdout",
          "text": [
            "serving_default_keras_tensor:0_int8 - Scale: [0.00392157], Zero Point: [-128]\n",
            "[[0 0 0 0 0]]\n",
            "arith.constant - Scale: [0.00854317], Zero Point: [0]\n",
            "[[  92  -90  -21  -96    0  -17    0  116 -112   59]\n",
            " [  -6  -39    0  -51   30  -45    0 -117  102  127]\n",
            " [ -64  113  -20   65    0   45    0  -73   83 -110]]\n",
            "arith.constant1 - Scale: [0.00705089], Zero Point: [0]\n",
            "[[  90   33    0  -38  -37   77   11    9  -18  -26    0  -49   76    0\n",
            "    24    0   11   62   63    0]\n",
            " [ -59   24    9   61  110  -40    8    0   47   82    0   12 -110    0\n",
            "    89   -8  -11  -60  -96    0]\n",
            " [   0    0    0    6    0   10   -2   -3    4   -4    0   -2    0    0\n",
            "     0    0    0    1    0   -2]\n",
            " [ -47   38   11   94   94  -57   31    0  100   86    0   95  -92    0\n",
            "    27   11   26 -121  -50    0]\n",
            " [   1   -5    0   -1    0    5    0    0    5    0   10  -17   17    0\n",
            "     0    1   12   -3   -2    0]\n",
            " [ -38  -31    3   22   45  -36   43    7   46   13    0   47  -44    0\n",
            "    22   -1   -5  -43  -38    2]\n",
            " [   0    0    0   -4   -8    0    0    5    0    0   -8    0    0    0\n",
            "     0    3    0    0    0    0]\n",
            " [  75   36   -6  -91  -95  127  -66   -2  -17  -66    0  -11   83   -1\n",
            "   -95    0   43  124  115    0]\n",
            " [ -35  -17    0    3   26  -23   84    0   42   69    0   45  -61   -2\n",
            "    75    9   96  -21  -53   -7]\n",
            " [  54   55    0  -79  -37   50  -79   -9 -107   73   -5  -66   57    0\n",
            "    90    0  109   41  101    1]]\n",
            "arith.constant2 - Scale: [0.00016924], Zero Point: [0]\n",
            "[ 1992  2151 -2183]\n",
            "sequential_1/dense_1_2/BiasAdd/ReadVariableOp - Scale: [6.567452e-05], Zero Point: [0]\n",
            "[ 5975 -5591 -1055 -4408 -2196 -3471  -756  4082  -644  6259]\n",
            "sequential_1/dense_1/BiasAdd/ReadVariableOp - Scale: [2.4208988e-05], Zero Point: [0]\n",
            "[ 18655  12505  -3345 -14849 -14788  19729 -12320  -2316 -20467  -6987\n",
            "  -2239 -17472  18947      0  -3783  -3842  19403  19277  18555      0]\n",
            "sequential_1/dense_1/MatMul - Scale: [0.00617329], Zero Point: [0]\n",
            "[[  3 -43 -26   3 -14]\n",
            " [ 13  38  -6  31  56]\n",
            " [ -8  36  -4 -16 -12]\n",
            " [125  12  15  75  20]\n",
            " [ -7 113 121  28  11]\n",
            " [  7 -37 -34  13 -36]\n",
            " [127  46  45  23 103]\n",
            " [ -2   0   0   0   8]\n",
            " [ 57  51 -40  79  60]\n",
            " [ 64  -1  79  98  47]\n",
            " [ -8   0   0   0   0]\n",
            " [ 44 113  18  89  72]\n",
            " [ 12 -60 -35  22 -19]\n",
            " [  0   0  -5   0  -5]\n",
            " [ 44  11  94  71 105]\n",
            " [  9  -9  20  -5   0]\n",
            " [-35  82  43 121  84]\n",
            " [-50 -42 -31  17  21]\n",
            " [-34  13 -33  -1 -31]\n",
            " [-10   0 -13  -1 -11]]\n",
            "sequential_1/dense_1/MatMul;sequential_1/dense_1/Relu;sequential_1/dense_1/BiasAdd - Scale: [0.00931435], Zero Point: [-128]\n",
            "sequential_1/dense_1_2/MatMul;sequential_1/dense_1_2/Relu;sequential_1/dense_1_2/BiasAdd - Scale: [0.01980952], Zero Point: [-128]\n",
            "StatefulPartitionedCall_1:0_int8 - Scale: [0.07640018], Zero Point: [13]\n",
            "[[118  97 -22]]\n"
          ]
        }
      ]
    },
    {
      "cell_type": "markdown",
      "source": [
        "# **Map TFLite Provided Names to Intuitive Ones**\n",
        "The TFLite Layer names after quantization are not very intuitive.\n",
        "Use the names above + the [Netron](https://netron.app/) application to update dictionary below so that it is very clear which layer is which. *You may need to update the names if any changes are made to the notebook.*"
      ],
      "metadata": {
        "id": "dDUXkdPJAlNs"
      }
    },
    {
      "cell_type": "code",
      "source": [
        "for name, params in quantized_params.items():\n",
        "    print(f\"{name}\")"
      ],
      "metadata": {
        "colab": {
          "base_uri": "https://localhost:8080/"
        },
        "id": "N5CLjrd6r2M_",
        "outputId": "20d22f0d-f0ad-4bb3-9267-5935a435d787"
      },
      "execution_count": 15,
      "outputs": [
        {
          "output_type": "stream",
          "name": "stdout",
          "text": [
            "serving_default_keras_tensor:0_int8\n",
            "arith.constant\n",
            "arith.constant1\n",
            "arith.constant2\n",
            "sequential_1/dense_1_2/BiasAdd/ReadVariableOp\n",
            "sequential_1/dense_1/BiasAdd/ReadVariableOp\n",
            "sequential_1/dense_1/MatMul\n",
            "sequential_1/dense_1/MatMul;sequential_1/dense_1/Relu;sequential_1/dense_1/BiasAdd\n",
            "sequential_1/dense_1_2/MatMul;sequential_1/dense_1_2/Relu;sequential_1/dense_1_2/BiasAdd\n",
            "StatefulPartitionedCall_1:0_int8\n"
          ]
        }
      ]
    },
    {
      "cell_type": "markdown",
      "source": [],
      "metadata": {
        "id": "UQwlPsSStV4i"
      }
    },
    {
      "cell_type": "code",
      "source": [
        "for name, params in quantized_params.items():\n",
        "    print(f\"Tensor Name: {name}, shape: {params['values'].shape if 'values' in params else 'N/A'}\")"
      ],
      "metadata": {
        "colab": {
          "base_uri": "https://localhost:8080/"
        },
        "id": "Bxp3BjWMuiz6",
        "outputId": "e5ba571c-4909-4db1-d8b4-d44f1512e5ac"
      },
      "execution_count": 16,
      "outputs": [
        {
          "output_type": "stream",
          "name": "stdout",
          "text": [
            "Tensor Name: serving_default_keras_tensor:0_int8, shape: (1, 5)\n",
            "Tensor Name: arith.constant, shape: (3, 10)\n",
            "Tensor Name: arith.constant1, shape: (10, 20)\n",
            "Tensor Name: arith.constant2, shape: (3,)\n",
            "Tensor Name: sequential_1/dense_1_2/BiasAdd/ReadVariableOp, shape: (10,)\n",
            "Tensor Name: sequential_1/dense_1/BiasAdd/ReadVariableOp, shape: (20,)\n",
            "Tensor Name: sequential_1/dense_1/MatMul, shape: (20, 5)\n",
            "Tensor Name: sequential_1/dense_1/MatMul;sequential_1/dense_1/Relu;sequential_1/dense_1/BiasAdd, shape: N/A\n",
            "Tensor Name: sequential_1/dense_1_2/MatMul;sequential_1/dense_1_2/Relu;sequential_1/dense_1_2/BiasAdd, shape: N/A\n",
            "Tensor Name: StatefulPartitionedCall_1:0_int8, shape: (1, 3)\n"
          ]
        }
      ]
    },
    {
      "cell_type": "markdown",
      "source": [],
      "metadata": {
        "id": "l4RXXe-rtuMn"
      }
    },
    {
      "cell_type": "code",
      "source": [
        "# Layer name map\n",
        "layer_name_map = {\n",
        "    \"input_layer\": \"serving_default_keras_tensor:0_int8\",\n",
        "    \"layer_one_weights\": \"sequential_1/dense_1/MatMul\",\n",
        "    \"layer_one_bias\": \"sequential_1/dense_1/BiasAdd/ReadVariableOp\",\n",
        "    \"layer_one_output_activations\": \"sequential_1/dense_1/MatMul;sequential_1/dense_1/Relu;sequential_1/dense_1/BiasAdd\",\n",
        "    \"layer_two_weights\": \"arith.constant1\",\n",
        "    \"layer_two_bias\": \"sequential_1/dense_1_2/BiasAdd/ReadVariableOp\",\n",
        "    \"layer_two_output_activations\": \"sequential_1/dense_1_2/MatMul;sequential_1/dense_1_2/Relu;sequential_1/dense_1_2/BiasAdd\",\n",
        "    \"layer_three_weights\": \"arith.constant\",\n",
        "    \"layer_three_bias\": \"arith.constant2\",\n",
        "    \"output_layer\": \"StatefulPartitionedCall_1:0_int8\"\n",
        "}"
      ],
      "metadata": {
        "id": "GqeYV9Ko_kAq"
      },
      "execution_count": 17,
      "outputs": []
    },
    {
      "cell_type": "code",
      "source": [
        "input_layer_scale = quantized_params[layer_name_map[\"input_layer\"]][\"scale\"]\n",
        "input_layer_zero_point = quantized_params[layer_name_map[\"input_layer\"]][\"zero_point\"]\n",
        "\n",
        "layer_one_weights = quantized_params[layer_name_map[\"layer_one_weights\"]][\"values\"]\n",
        "layer_one_weights_scale = quantized_params[layer_name_map[\"layer_one_weights\"]][\"scale\"]\n",
        "layer_one_weights_zero_point = quantized_params[layer_name_map[\"layer_one_weights\"]][\"zero_point\"]\n",
        "layer_one_bias = quantized_params[layer_name_map[\"layer_one_bias\"]][\"values\"]\n",
        "\n",
        "layer_one_output_activations_scale = quantized_params[layer_name_map[\"layer_one_output_activations\"]][\"scale\"]\n",
        "layer_one_output_activations_zero_point = quantized_params[layer_name_map[\"layer_one_output_activations\"]][\"zero_point\"]\n",
        "\n",
        "layer_two_weights = quantized_params[layer_name_map[\"layer_two_weights\"]][\"values\"]\n",
        "layer_two_weights_scale = quantized_params[layer_name_map[\"layer_two_weights\"]][\"scale\"]\n",
        "layer_two_weights_zero_point = quantized_params[layer_name_map[\"layer_two_weights\"]][\"zero_point\"]\n",
        "layer_two_bias = quantized_params[layer_name_map[\"layer_two_bias\"]][\"values\"]\n",
        "\n",
        "layer_two_output_activations_scale = quantized_params[layer_name_map[\"layer_two_output_activations\"]][\"scale\"]\n",
        "layer_two_output_activations_zero_point = quantized_params[layer_name_map[\"layer_two_output_activations\"]][\"zero_point\"]\n",
        "\n",
        "layer_three_weights = quantized_params[layer_name_map[\"layer_three_weights\"]][\"values\"]\n",
        "layer_three_weights_scale = quantized_params[layer_name_map[\"layer_three_weights\"]][\"scale\"]\n",
        "layer_three_weights_zero_point = quantized_params[layer_name_map[\"layer_three_weights\"]][\"zero_point\"]\n",
        "layer_three_bias = quantized_params[layer_name_map[\"layer_three_bias\"]][\"values\"]\n",
        "\n",
        "output_layer_scale = quantized_params[layer_name_map[\"output_layer\"]][\"scale\"]\n",
        "output_layer_zero_point = quantized_params[layer_name_map[\"output_layer\"]][\"zero_point\"]"
      ],
      "metadata": {
        "id": "txvONXs98UfK"
      },
      "execution_count": 18,
      "outputs": []
    },
    {
      "cell_type": "code",
      "source": [
        "print(f\"input_layer_scale: {input_layer_scale}\")\n",
        "print(f\"input_layer_zero_point: {input_layer_zero_point}\")\n",
        "print(f\"layer_one_weights_scale: {layer_one_weights_scale}\")\n",
        "print(f\"layer_one_weights_zero_point: {layer_one_weights_zero_point}\")\n",
        "print(f\"layer_one_bias: {layer_one_bias}\")\n",
        "print(f\"layer_one_output_activations_scale: {layer_one_output_activations_scale}\")\n",
        "print(f\"layer_one_output_activations_zero_point: {layer_one_output_activations_zero_point}\")\n",
        "print(f\"layer_two_weights_scale: {layer_two_weights_scale}\")\n",
        "print(f\"layer_two_weights_zero_point: {layer_two_weights_zero_point}\")\n",
        "print(f\"layer_two_bias: {layer_two_bias}\")\n",
        "print(f\"layer_two_output_activations_scale: {layer_two_output_activations_scale}\")\n",
        "print(f\"layer_two_output_activations_zero_point: {layer_two_output_activations_zero_point}\")\n",
        "print(f\"layer_three_weights_scale: {layer_three_weights_scale}\")\n",
        "print(f\"layer_three_weights_zero_point: {layer_three_weights_zero_point}\")\n",
        "print(f\"layer_three_bias: {layer_three_bias}\")\n",
        "print(f\"output_layer_scale: {output_layer_scale}\")\n",
        "print(f\"output_layer_zero_point: {output_layer_zero_point}\")"
      ],
      "metadata": {
        "colab": {
          "base_uri": "https://localhost:8080/"
        },
        "id": "6jb_aBZxbTCI",
        "outputId": "d0f25866-6919-4029-eb72-f473d43aaae1"
      },
      "execution_count": 19,
      "outputs": [
        {
          "output_type": "stream",
          "name": "stdout",
          "text": [
            "input_layer_scale: [0.00392157]\n",
            "input_layer_zero_point: [-128]\n",
            "layer_one_weights_scale: [0.00617329]\n",
            "layer_one_weights_zero_point: [0]\n",
            "layer_one_bias: [ 18655  12505  -3345 -14849 -14788  19729 -12320  -2316 -20467  -6987\n",
            "  -2239 -17472  18947      0  -3783  -3842  19403  19277  18555      0]\n",
            "layer_one_output_activations_scale: [0.00931435]\n",
            "layer_one_output_activations_zero_point: [-128]\n",
            "layer_two_weights_scale: [0.00705089]\n",
            "layer_two_weights_zero_point: [0]\n",
            "layer_two_bias: [ 5975 -5591 -1055 -4408 -2196 -3471  -756  4082  -644  6259]\n",
            "layer_two_output_activations_scale: [0.01980952]\n",
            "layer_two_output_activations_zero_point: [-128]\n",
            "layer_three_weights_scale: [0.00854317]\n",
            "layer_three_weights_zero_point: [0]\n",
            "layer_three_bias: [ 1992  2151 -2183]\n",
            "output_layer_scale: [0.07640018]\n",
            "output_layer_zero_point: [13]\n"
          ]
        }
      ]
    },
    {
      "cell_type": "code",
      "source": [
        "print(\"Layer One Weights (comma-separated):\")\n",
        "for row in layer_one_weights:\n",
        "    print(','.join(map(str, row)))\n",
        "\n",
        "print(\"\\nLayer Two Weights (comma-separated):\")\n",
        "for row in layer_two_weights:\n",
        "    print(','.join(map(str, row)))\n",
        "\n",
        "print(\"\\nLayer Three Weights (comma-separated):\")\n",
        "for row in layer_three_weights:\n",
        "    print(','.join(map(str, row)))"
      ],
      "metadata": {
        "colab": {
          "base_uri": "https://localhost:8080/"
        },
        "id": "W4iEk2Jjb_e2",
        "outputId": "1cf18d99-93c3-4121-d559-8425325b15e6"
      },
      "execution_count": 20,
      "outputs": [
        {
          "output_type": "stream",
          "name": "stdout",
          "text": [
            "Layer One Weights (comma-separated):\n",
            "3,-43,-26,3,-14\n",
            "13,38,-6,31,56\n",
            "-8,36,-4,-16,-12\n",
            "125,12,15,75,20\n",
            "-7,113,121,28,11\n",
            "7,-37,-34,13,-36\n",
            "127,46,45,23,103\n",
            "-2,0,0,0,8\n",
            "57,51,-40,79,60\n",
            "64,-1,79,98,47\n",
            "-8,0,0,0,0\n",
            "44,113,18,89,72\n",
            "12,-60,-35,22,-19\n",
            "0,0,-5,0,-5\n",
            "44,11,94,71,105\n",
            "9,-9,20,-5,0\n",
            "-35,82,43,121,84\n",
            "-50,-42,-31,17,21\n",
            "-34,13,-33,-1,-31\n",
            "-10,0,-13,-1,-11\n",
            "\n",
            "Layer Two Weights (comma-separated):\n",
            "90,33,0,-38,-37,77,11,9,-18,-26,0,-49,76,0,24,0,11,62,63,0\n",
            "-59,24,9,61,110,-40,8,0,47,82,0,12,-110,0,89,-8,-11,-60,-96,0\n",
            "0,0,0,6,0,10,-2,-3,4,-4,0,-2,0,0,0,0,0,1,0,-2\n",
            "-47,38,11,94,94,-57,31,0,100,86,0,95,-92,0,27,11,26,-121,-50,0\n",
            "1,-5,0,-1,0,5,0,0,5,0,10,-17,17,0,0,1,12,-3,-2,0\n",
            "-38,-31,3,22,45,-36,43,7,46,13,0,47,-44,0,22,-1,-5,-43,-38,2\n",
            "0,0,0,-4,-8,0,0,5,0,0,-8,0,0,0,0,3,0,0,0,0\n",
            "75,36,-6,-91,-95,127,-66,-2,-17,-66,0,-11,83,-1,-95,0,43,124,115,0\n",
            "-35,-17,0,3,26,-23,84,0,42,69,0,45,-61,-2,75,9,96,-21,-53,-7\n",
            "54,55,0,-79,-37,50,-79,-9,-107,73,-5,-66,57,0,90,0,109,41,101,1\n",
            "\n",
            "Layer Three Weights (comma-separated):\n",
            "92,-90,-21,-96,0,-17,0,116,-112,59\n",
            "-6,-39,0,-51,30,-45,0,-117,102,127\n",
            "-64,113,-20,65,0,45,0,-73,83,-110\n"
          ]
        }
      ]
    },
    {
      "cell_type": "code",
      "source": [
        "def calculate_fixed_point_multiplier(input_scale, weight_scale, output_scale):\n",
        "    # Calculate M0 and N from M = 2^-N M0 = (S1 * S2 / S3)\n",
        "    multiplier = input_scale * weight_scale / output_scale\n",
        "    shift = 0\n",
        "    while multiplier < 0.5:\n",
        "        multiplier *= 2\n",
        "        shift += 1\n",
        "    quantized_multiplier = multiplier * math.pow(2, 31)\n",
        "    return quantized_multiplier, shift"
      ],
      "metadata": {
        "id": "l00b5QnEaRmX"
      },
      "execution_count": 21,
      "outputs": []
    },
    {
      "cell_type": "code",
      "source": [
        "# First layer requantization params\n",
        "layer_one_multiplier, layer_one_shift = calculate_fixed_point_multiplier(input_layer_scale, layer_one_weights_scale, layer_one_output_activations_scale)\n",
        "\n",
        "# Second layer requantization params\n",
        "layer_two_multiplier, layer_two_shift = calculate_fixed_point_multiplier(layer_one_output_activations_scale, layer_two_weights_scale, output_layer_scale)\n",
        "\n",
        "# Third layer requantization params\n",
        "layer_three_multiplier, layer_three_shift = calculate_fixed_point_multiplier(layer_two_output_activations_scale, layer_three_weights_scale, output_layer_scale)\n",
        "\n",
        "subscript_printing = str.maketrans(\"123456789\", \"₁₂₃₄₅₆₇₈₉\")\n",
        "print(\"Layer 1 Requantization Params:\")\n",
        "print(\"M01: \".translate(subscript_printing) + f\"{layer_one_multiplier[0]:.2f}\")\n",
        "print(\"N1: \".translate(subscript_printing)  + f\"{layer_one_shift}\")\n",
        "\n",
        "print(\"Layer 2 Requantization Params:\")\n",
        "print(\"M02: \".translate(subscript_printing) + f\"{layer_two_multiplier[0]:.2f}\")\n",
        "print(\"N2: \".translate(subscript_printing)  + f\"{layer_two_shift}\")\n",
        "\n",
        "print(\"Layer 3 Requantization Params:\")\n",
        "print(\"M03: \".translate(subscript_printing) + f\"{layer_three_multiplier[0]:.2f}\")\n",
        "print(\"N3: \".translate(subscript_printing)  + f\"{layer_three_shift}\")"
      ],
      "metadata": {
        "colab": {
          "base_uri": "https://localhost:8080/"
        },
        "id": "ibGduAd2bMYE",
        "outputId": "b722acb1-6292-488c-d780-e93a22985860"
      },
      "execution_count": 22,
      "outputs": [
        {
          "output_type": "stream",
          "name": "stdout",
          "text": [
            "Layer 1 Requantization Params:\n",
            "M0₁: 1428873344.00\n",
            "N₁: 8\n",
            "Layer 2 Requantization Params:\n",
            "M0₂: 1890307072.00\n",
            "N₂: 10\n",
            "Layer 3 Requantization Params:\n",
            "M0₃: 1217779456.00\n",
            "N₃: 8\n"
          ]
        }
      ]
    },
    {
      "cell_type": "markdown",
      "source": [
        "# **Emulate 8-bit Integer Inference with Numpy**"
      ],
      "metadata": {
        "id": "pDmEYHIJoB5U"
      }
    },
    {
      "cell_type": "code",
      "source": [
        "# Create copy of test dataset\n",
        "TEST_SET_SIZE = 45\n",
        "test_dataset_copy = (iter(test_dataset_quantized_inputs.take(TEST_SET_SIZE)))"
      ],
      "metadata": {
        "id": "Sskn2QitsQ1e"
      },
      "execution_count": 23,
      "outputs": []
    },
    {
      "cell_type": "code",
      "source": [
        "def run_tflite_golden_inference(tflite_model, inputs, debug=False):\n",
        "    #\n",
        "    # Golden Reference Implementation of TFLite Inference running on a single sample\n",
        "    #\n",
        "\n",
        "    # Add batch dim to single data sample\n",
        "    inputs = np.expand_dims(inputs, 0)\n",
        "\n",
        "    # Load TFLite model and allocate tensors\n",
        "    interpreter = tf.lite.Interpreter(model_content=tflite_model, experimental_preserve_all_tensors=True)\n",
        "    interpreter.allocate_tensors()\n",
        "\n",
        "    # Get input and output tensors\n",
        "    input_details = interpreter.get_input_details()\n",
        "    output_details = interpreter.get_output_details()\n",
        "\n",
        "    # Load input tensor\n",
        "    interpreter.set_tensor(input_details[0]['index'], inputs)\n",
        "\n",
        "    # Run the model\n",
        "    interpreter.invoke()\n",
        "\n",
        "    # Print each layer's output if needed for verification\n",
        "    if debug:\n",
        "      print({\n",
        "          t['name']: interpreter.get_tensor(t['index'])\n",
        "          for t in interpreter.get_tensor_details()\n",
        "      })\n",
        "\n",
        "    return interpreter.get_tensor(output_details[0]['index'])"
      ],
      "metadata": {
        "id": "jja_F8B4sRqV"
      },
      "execution_count": 24,
      "outputs": []
    },
    {
      "cell_type": "code",
      "source": [
        "def run_numpy_inference(input):\n",
        "  #\n",
        "  # Numpy Reference Implementation of TFLite Inference running on a single sample\n",
        "  #\n",
        "\n",
        "  # (Inputs * Layer 1 Weights) + Bias followed by ReLU\n",
        "  x = np.matmul((input.numpy().astype(np.int32) - input_layer_zero_point.astype(np.int32)),(layer_one_weights.T.astype(np.int32) - layer_one_weights_zero_point.astype(np.int32)))\n",
        "  x = x + layer_one_bias\n",
        "  x = np.maximum(x, 0)\n",
        "\n",
        "  # Requantization pipeline\n",
        "  x = x * layer_one_multiplier\n",
        "  x = np.round((x / np.power(2,31))).astype(np.int32)\n",
        "  x = np.round((x / np.power(2, layer_one_shift))).astype(np.int32)\n",
        "  x = x + layer_one_output_activations_zero_point.astype(np.int32)\n",
        "  x = np.clip(x, -128, 127)\n",
        "\n",
        "  # (Layer 1 Activations * Layer 2 Weights) + Bias\n",
        "  x = np.matmul((x.astype(np.int32) - layer_one_output_activations_zero_point.astype(np.int32)), (layer_two_weights.T.astype(np.int32) - layer_two_weights_zero_point.astype(np.int32)))\n",
        "  x = x + layer_two_bias\n",
        "\n",
        "  # Requantization pipeline\n",
        "  x = x * layer_two_multiplier\n",
        "  x = np.round((x / np.power(2,31))).astype(np.int32)\n",
        "  x = np.round((x / np.power(2, layer_two_shift))).astype(np.int32)\n",
        "  x = x + layer_two_output_activations_zero_point.astype(np.int32)\n",
        "  x = np.clip(x, -128, 127)\n",
        "\n",
        "  # (Layer 2 Activations * Layer 2 Weights) + Bias\n",
        "  x = np.matmul((x.astype(np.int32) - layer_two_output_activations_zero_point.astype(np.int32)), (layer_three_weights.T.astype(np.int32) - layer_three_weights_zero_point.astype(np.int32)))\n",
        "  x = x + layer_three_bias\n",
        "\n",
        "  # Requantization pipeline\n",
        "  x = x * layer_three_multiplier\n",
        "  x = np.round((x / np.power(2,31))).astype(np.int32)\n",
        "  x = np.round((x / np.power(2, layer_two_shift))).astype(np.int32)\n",
        "  x = x + output_layer_zero_point.astype(np.int32)\n",
        "  x = np.clip(x, -128, 127)\n",
        "\n",
        "  return x\n"
      ],
      "metadata": {
        "id": "5_Hx0jC7oBje"
      },
      "execution_count": 25,
      "outputs": []
    },
    {
      "cell_type": "code",
      "source": [
        "tflite_correct = 0.0\n",
        "numpy_correct = 0.0\n",
        "\n",
        "for inputs, targets in test_dataset_copy:\n",
        "  tflite_output = run_tflite_golden_inference(tflite_quant_model, inputs)\n",
        "  numpy_output = run_numpy_inference(inputs)\n",
        "\n",
        "  # Make sure that raw values of output tensors match exactly to validate numpy reference implementation\n",
        "  if np.array_equal(tflite_output.flatten()[0], numpy_output.flatten()):\n",
        "    print(tflite_output)\n",
        "    print(numpy_output)\n",
        "    print(\"ERROR: TFlite Golden Output Tensor does not match Numpy Implementation Output Tensor\")\n",
        "\n",
        "  # Update num correct\n",
        "  if tflite_output.argmax() == targets.numpy():\n",
        "    tflite_correct += 1\n",
        "  if numpy_output.argmax() == targets.numpy():\n",
        "    numpy_correct += 1\n",
        "\n",
        "\n",
        "\n",
        "# Make sure accuracy is exactly the same to validate numpy implementation\n",
        "print(f\"TF Lite Accuracy: {tflite_correct / TEST_SET_SIZE}\")\n",
        "print(f\"Numpy Accuracy: {numpy_correct / TEST_SET_SIZE}\")\n",
        "print(\"Numpy Implementation matches TFLite Golden Implementation!\" if tflite_correct / TEST_SET_SIZE == numpy_correct / TEST_SET_SIZE else \"Numpy Implementation does NOT match TFLite Golden Implementation...\")"
      ],
      "metadata": {
        "colab": {
          "base_uri": "https://localhost:8080/"
        },
        "id": "S1qDAzufb-ZD",
        "outputId": "198dcba3-3709-45c0-f536-644161d9a21c"
      },
      "execution_count": 26,
      "outputs": [
        {
          "output_type": "stream",
          "name": "stdout",
          "text": [
            "TF Lite Accuracy: 1.0\n",
            "Numpy Accuracy: 1.0\n",
            "Numpy Implementation matches TFLite Golden Implementation!\n"
          ]
        }
      ]
    }
  ]
}