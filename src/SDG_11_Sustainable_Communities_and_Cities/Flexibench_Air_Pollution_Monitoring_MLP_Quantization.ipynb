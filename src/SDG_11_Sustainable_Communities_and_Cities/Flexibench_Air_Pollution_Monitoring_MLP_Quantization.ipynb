{
  "nbformat": 4,
  "nbformat_minor": 0,
  "metadata": {
    "colab": {
      "provenance": []
    },
    "kernelspec": {
      "name": "python3",
      "display_name": "Python 3"
    },
    "language_info": {
      "name": "python"
    }
  },
  "cells": [
    {
      "cell_type": "markdown",
      "source": [
        "## **FlexiBench Air Quality & Pollution Monitoring MLP Quantization**\n",
        "### Author: Shvetank Prakash\n",
        "### Date: Jan 2025\n",
        "#### Dataset: [UCI Air Quality](https://archive.ics.uci.edu/dataset/360/air+quality)\n",
        "#### Helpful links:\n",
        "\n",
        "[Air Quality Index and Air Pollutant Concentration\n",
        "Prediction Based on Machine Learning Algorithms](https://www.mdpi.com/2076-3417/9/19/4069) (Paper Results Modeled)\n",
        "\n",
        "[Using neural networks for short-term prediction of air pollution levels\n",
        "](https://ieeexplore.ieee.org/document/5227910) (Similar Application/Implementation)\n",
        "\n",
        "\n",
        "[Waste Management and Prediction of Air Pollutants\n",
        "Using IoT and Machine Learning Approach](https://www.mdpi.com/1996-1073/13/15/3930) (Similar Application/Implementation)\n",
        "\n",
        "[Gemmlowp Paper](https://arxiv.org/pdf/1712.05877)\n",
        "\n",
        "[Gemmlowp Implementation](https://github.com/google/gemmlowp/tree/master)\n"
      ],
      "metadata": {
        "id": "B6xKk1RMw3zG"
      }
    },
    {
      "cell_type": "markdown",
      "source": [
        "# Basic Imports and Global Defs"
      ],
      "metadata": {
        "id": "zmARXYN5xetM"
      }
    },
    {
      "cell_type": "code",
      "source": [
        "!pip install tensorflow-model-optimization==0.8.0\n",
        "!pip install ucimlrepo==0.0.7"
      ],
      "metadata": {
        "colab": {
          "base_uri": "https://localhost:8080/"
        },
        "collapsed": true,
        "id": "-7RwFYPOH7xC",
        "outputId": "6bda9706-c664-4658-b4a9-8aa1b01df4a0"
      },
      "execution_count": 1,
      "outputs": [
        {
          "output_type": "stream",
          "name": "stdout",
          "text": [
            "Collecting tensorflow-model-optimization==0.8.0\n",
            "  Downloading tensorflow_model_optimization-0.8.0-py2.py3-none-any.whl.metadata (904 bytes)\n",
            "Requirement already satisfied: absl-py~=1.2 in /usr/local/lib/python3.11/dist-packages (from tensorflow-model-optimization==0.8.0) (1.4.0)\n",
            "Requirement already satisfied: dm-tree~=0.1.1 in /usr/local/lib/python3.11/dist-packages (from tensorflow-model-optimization==0.8.0) (0.1.8)\n",
            "Requirement already satisfied: numpy~=1.23 in /usr/local/lib/python3.11/dist-packages (from tensorflow-model-optimization==0.8.0) (1.26.4)\n",
            "Requirement already satisfied: six~=1.14 in /usr/local/lib/python3.11/dist-packages (from tensorflow-model-optimization==0.8.0) (1.17.0)\n",
            "Downloading tensorflow_model_optimization-0.8.0-py2.py3-none-any.whl (242 kB)\n",
            "\u001b[2K   \u001b[90m━━━━━━━━━━━━━━━━━━━━━━━━━━━━━━━━━━━━━━━━\u001b[0m \u001b[32m242.5/242.5 kB\u001b[0m \u001b[31m3.8 MB/s\u001b[0m eta \u001b[36m0:00:00\u001b[0m\n",
            "\u001b[?25hInstalling collected packages: tensorflow-model-optimization\n",
            "Successfully installed tensorflow-model-optimization-0.8.0\n",
            "Collecting ucimlrepo==0.0.7\n",
            "  Downloading ucimlrepo-0.0.7-py3-none-any.whl.metadata (5.5 kB)\n",
            "Requirement already satisfied: pandas>=1.0.0 in /usr/local/lib/python3.11/dist-packages (from ucimlrepo==0.0.7) (2.2.2)\n",
            "Requirement already satisfied: certifi>=2020.12.5 in /usr/local/lib/python3.11/dist-packages (from ucimlrepo==0.0.7) (2024.12.14)\n",
            "Requirement already satisfied: numpy>=1.23.2 in /usr/local/lib/python3.11/dist-packages (from pandas>=1.0.0->ucimlrepo==0.0.7) (1.26.4)\n",
            "Requirement already satisfied: python-dateutil>=2.8.2 in /usr/local/lib/python3.11/dist-packages (from pandas>=1.0.0->ucimlrepo==0.0.7) (2.8.2)\n",
            "Requirement already satisfied: pytz>=2020.1 in /usr/local/lib/python3.11/dist-packages (from pandas>=1.0.0->ucimlrepo==0.0.7) (2024.2)\n",
            "Requirement already satisfied: tzdata>=2022.7 in /usr/local/lib/python3.11/dist-packages (from pandas>=1.0.0->ucimlrepo==0.0.7) (2025.1)\n",
            "Requirement already satisfied: six>=1.5 in /usr/local/lib/python3.11/dist-packages (from python-dateutil>=2.8.2->pandas>=1.0.0->ucimlrepo==0.0.7) (1.17.0)\n",
            "Downloading ucimlrepo-0.0.7-py3-none-any.whl (8.0 kB)\n",
            "Installing collected packages: ucimlrepo\n",
            "Successfully installed ucimlrepo-0.0.7\n"
          ]
        }
      ]
    },
    {
      "cell_type": "code",
      "source": [
        "import os\n",
        "import csv\n",
        "import math\n",
        "import random\n",
        "\n",
        "import numpy as np\n",
        "import pandas as pd\n",
        "import matplotlib.pyplot as plt\n",
        "\n",
        "import tensorflow as tf\n",
        "from tensorflow.keras import layers\n",
        "from tensorflow.keras.optimizers import Adam\n",
        "from tensorflow.keras.callbacks import ModelCheckpoint, EarlyStopping\n",
        "\n",
        "import tensorflow_model_optimization as tfmot\n",
        "from sklearn.model_selection import train_test_split\n",
        "from sklearn.metrics import r2_score\n",
        "from sklearn.preprocessing import StandardScaler\n",
        "\n",
        "# Setting environment variables\n",
        "os.environ[\"TF_USE_LEGACY_KERAS\"] = \"1\"\n",
        "os.environ['TF_DETERMINISTIC_OPS'] = '1'"
      ],
      "metadata": {
        "collapsed": true,
        "id": "8tYezt7xmzUa"
      },
      "execution_count": 2,
      "outputs": []
    },
    {
      "cell_type": "code",
      "source": [
        "# Model Parameters\n",
        "INPUT_SIZE = 2\n",
        "HIDDEN_SIZE = 32\n",
        "OUTPUT_SIZE = 1\n",
        "\n",
        "# Training Parameters\n",
        "EPOCHS = 100\n",
        "BATCH_SIZE_TRAIN = 32\n",
        "BATCH_SIZE_TEST = 32\n",
        "LEARNING_RATE = 0.001\n",
        "\n",
        "# Set random seeds for reproducibility\n",
        "SEED = 42\n",
        "np.random.seed(SEED)\n",
        "random.seed(SEED)\n",
        "tf.random.set_seed(SEED)"
      ],
      "metadata": {
        "id": "fMfZ9zYJIdCK"
      },
      "execution_count": 3,
      "outputs": []
    },
    {
      "cell_type": "markdown",
      "source": [
        "# **Read and Preprocess Dataset**\n",
        "\n",
        "***Download Dataset from Kaggle [here](https://www.kaggle.com/datasets/fedesoriano/air-quality-data-set) and place in file directory of this notebook. As noted on the Kaggle page link, this dataset comes from the UCI ML Repository [here](https://archive.ics.uci.edu/dataset/360/air+quality).***"
      ],
      "metadata": {
        "id": "2Jml3fzQBpSh"
      }
    },
    {
      "cell_type": "code",
      "source": [
        "# from ucimlrepo import fetch_ucirepo\n",
        "\n",
        "# # Fetch dataset\n",
        "# air_quality = fetch_ucirepo(id=360)\n",
        "\n",
        "# # Data (as pandas dataframes)\n",
        "# data = air_quality.data.original[['CO(GT)', 'NOx(GT)', 'NO2(GT)']].astype('float32')  # select only the relevant columns"
      ],
      "metadata": {
        "id": "62BZTsvaflYq"
      },
      "execution_count": 4,
      "outputs": []
    },
    {
      "cell_type": "code",
      "source": [
        "# Load the dataset downloaded from Kaggle link above (adopted from UCI ML Repository)\n",
        "data = pd.read_csv('AirQuality.csv', delimiter=';', decimal=',')\n",
        "data.columns = data.columns.str.strip()\n",
        "data = data[['CO(GT)', 'NOx(GT)', 'NO2(GT)', 'PT08.S5(O3)', 'NMHC(GT)']]  # select only some columns based on correlation matrix from: https://www.mdpi.com/2076-3417/9/19/4069\n",
        "data = data.dropna() # drop any rows with missing values\n",
        "data = data[(data >= 0).all(axis=1)]  # remove rows with negative values in any of the selected columns\n",
        "\n",
        "# Function to quantize data to uint8\n",
        "def normalize(series):\n",
        "    min_val = series.min()\n",
        "    max_val = series.max()\n",
        "    scaled = (series - min_val) / (max_val - min_val)\n",
        "    return scaled\n",
        "\n",
        "# Apply the normalization to all numeric columns\n",
        "numeric_columns = data.select_dtypes(include=[np.number]).columns\n",
        "data[numeric_columns] = data[numeric_columns].apply(normalize)\n",
        "\n",
        "# Save the quantized dataset to a new CSV file\n",
        "data.to_csv('Normalized_AirQuality.csv', index=False)\n"
      ],
      "metadata": {
        "id": "a8fYNjKBd583"
      },
      "execution_count": 5,
      "outputs": []
    },
    {
      "cell_type": "code",
      "source": [
        "data_path = 'Normalized_AirQuality.csv'  # read the quantized dataset for training\n",
        "data = pd.read_csv(data_path, delimiter=',')\n",
        "data = data[['CO(GT)', 'NOx(GT)', 'NO2(GT)']].astype('float32')  # select only the relevant columns\n",
        "\n",
        "data = data.dropna()  # Drop any rows with missing values\n",
        "data = data[(data >= 0).all(axis=1)]  # remove rows with negative values in any of the selected columns\n",
        "# Note: we do not normalize column values between 0 and 1 for training as we empirically observe better training results when training directly on quantized uint8 data\n",
        "\n",
        "# Predict NOx concentration from CO and NO2\n",
        "X = data[['CO(GT)', 'NO2(GT)']].values\n",
        "y = data['NOx(GT)'].values\n",
        "\n",
        "# Split the data using train_test_split\n",
        "X_train, X_test, y_train, y_test = train_test_split(X, y, test_size=0.2, random_state=SEED)  # adjust test_size and random_state as needed\n",
        "\n",
        "# Create tf.data.Dataset objects\n",
        "train_dataset = tf.data.Dataset.from_tensor_slices((X_train, y_train))\n",
        "test_dataset = tf.data.Dataset.from_tensor_slices((X_test, y_test))\n",
        "\n",
        "# Batch the datasets\n",
        "train_dataset = train_dataset.shuffle(buffer_size=len(X_train), seed=SEED).batch(BATCH_SIZE_TRAIN)\n",
        "test_dataset = test_dataset.batch(BATCH_SIZE_TEST)"
      ],
      "metadata": {
        "id": "YJ_KJE3dn4kd"
      },
      "execution_count": 6,
      "outputs": []
    },
    {
      "cell_type": "code",
      "source": [
        "# Print one sample from train and test dataset each\n",
        "print(\"Train Dataset Sample:\")\n",
        "for x, y in train_dataset.take(1):\n",
        "    print(f\"Inputs: {x}\")\n",
        "    print(f\"Output:  {y}\")\n",
        "\n",
        "print(\"Test Dataset Sample:\")\n",
        "for x, y in test_dataset.take(1):\n",
        "    print(f\"Inputs: {x}\")\n",
        "    print(f\"Output:  {y}\")"
      ],
      "metadata": {
        "colab": {
          "base_uri": "https://localhost:8080/"
        },
        "id": "ceLFqDdGNIjv",
        "outputId": "6e9edea9-5a62-48fc-f825-c77fb5388695"
      },
      "execution_count": 7,
      "outputs": [
        {
          "output_type": "stream",
          "name": "stdout",
          "text": [
            "Train Dataset Sample:\n",
            "Inputs: [[0.20512821 0.42937854]\n",
            " [0.07692308 0.15254237]\n",
            " [0.14102565 0.40677965]\n",
            " [0.12820514 0.32768363]\n",
            " [0.23076923 0.47457626]\n",
            " [0.21794872 0.33898306]\n",
            " [0.2820513  0.53672314]\n",
            " [0.05128205 0.2937853 ]\n",
            " [0.15384616 0.34463277]\n",
            " [0.16666667 0.46327683]\n",
            " [0.07692308 0.2259887 ]\n",
            " [0.2820513  0.56497175]\n",
            " [0.35897437 0.46892655]\n",
            " [0.51282054 0.66101694]\n",
            " [0.35897437 0.4519774 ]\n",
            " [0.25641027 0.4858757 ]\n",
            " [0.2948718  0.45762712]\n",
            " [0.32051283 0.5141243 ]\n",
            " [0.1923077  0.40112993]\n",
            " [0.08974359 0.2937853 ]\n",
            " [0.11538462 0.2881356 ]\n",
            " [0.02564103 0.09039548]\n",
            " [0.17948718 0.50282484]\n",
            " [0.14102565 0.3220339 ]\n",
            " [0.55128205 0.7175141 ]\n",
            " [0.17948718 0.31638417]\n",
            " [0.41025642 0.5141243 ]\n",
            " [0.6025641  0.70621467]\n",
            " [0.14102565 0.3220339 ]\n",
            " [0.4871795  0.50282484]\n",
            " [0.20512821 0.36158192]\n",
            " [0.7948718  0.7175141 ]]\n",
            "Output:  [0.20171674 0.06437768 0.14377682 0.15879828 0.24678111 0.16309012\n",
            " 0.26824033 0.08583691 0.18025751 0.16523606 0.09656652 0.29613733\n",
            " 0.3025751  0.472103   0.34120172 0.2553648  0.2918455  0.31759655\n",
            " 0.1695279  0.10515022 0.15665236 0.02575107 0.2274678  0.21459228\n",
            " 0.46781117 0.19098713 0.37124464 0.53004295 0.14806867 0.6609442\n",
            " 0.19527897 0.6866953 ]\n",
            "Test Dataset Sample:\n",
            "Inputs: [[0.12820514 0.37853107]\n",
            " [0.02564103 0.11299435]\n",
            " [0.11538462 0.33333334]\n",
            " [0.26923078 0.46892655]\n",
            " [0.2948718  0.47457626]\n",
            " [0.15384616 0.4915254 ]\n",
            " [0.2948718  0.5084746 ]\n",
            " [0.33333334 0.6158192 ]\n",
            " [0.30769232 0.4463277 ]\n",
            " [0.1025641  0.28248587]\n",
            " [0.25641027 0.4519774 ]\n",
            " [0.17948718 0.49717513]\n",
            " [0.33333334 0.5762712 ]\n",
            " [0.4871795  0.6497175 ]\n",
            " [0.14102565 0.40677965]\n",
            " [0.20512821 0.46327683]\n",
            " [0.1025641  0.4463277 ]\n",
            " [0.30769232 0.47457626]\n",
            " [0.525641   0.5141243 ]\n",
            " [0.2948718  0.55932206]\n",
            " [0.3846154  0.5762712 ]\n",
            " [0.2820513  0.59322035]\n",
            " [0.24358974 0.4915254 ]\n",
            " [0.25641027 0.46892655]\n",
            " [0.16666667 0.40112993]\n",
            " [0.14102565 0.33898306]\n",
            " [0.74358976 0.8079096 ]\n",
            " [0.2820513  0.5819209 ]\n",
            " [0.01282051 0.03389831]\n",
            " [0.35897437 0.53672314]\n",
            " [0.21794872 0.49717513]\n",
            " [0.05128205 0.11299435]]\n",
            "Output:  [0.1416309  0.03648069 0.13519314 0.25751072 0.27038628 0.18669528\n",
            " 0.4356223  0.36051503 0.23175965 0.13733906 0.25965664 0.25751072\n",
            " 0.2746781  0.53004295 0.1502146  0.2274678  0.21244635 0.3304721\n",
            " 0.47854078 0.3197425  0.37124464 0.27038628 0.2446352  0.23390558\n",
            " 0.25751072 0.10300429 0.64806867 0.2639485  0.01072961 0.37768242\n",
            " 0.21030043 0.027897  ]\n"
          ]
        }
      ]
    },
    {
      "cell_type": "markdown",
      "source": [
        "# **Create Model**"
      ],
      "metadata": {
        "id": "dSBlaBAaAYEB"
      }
    },
    {
      "cell_type": "code",
      "source": [
        "def create_mlp(input_size, hidden_size, output_size):\n",
        "    model = tf.keras.Sequential([\n",
        "        layers.InputLayer(input_shape=(input_size,)),\n",
        "        layers.Dense(hidden_size, activation='relu'),\n",
        "        layers.Dense(output_size)\n",
        "    ])\n",
        "    return model\n",
        "\n",
        "model = create_mlp(INPUT_SIZE, HIDDEN_SIZE, OUTPUT_SIZE)\n",
        "opt = Adam(learning_rate=LEARNING_RATE, beta_1=0.9, beta_2=0.999)\n",
        "model.compile(optimizer=opt, loss='mean_squared_error', metrics=['mae'])\n",
        "model.summary()"
      ],
      "metadata": {
        "id": "RTuXXZnTKVJ2",
        "colab": {
          "base_uri": "https://localhost:8080/",
          "height": 248
        },
        "outputId": "f1b8712c-ebee-40ad-d5ed-c273f9ea92d5",
        "collapsed": true
      },
      "execution_count": 8,
      "outputs": [
        {
          "output_type": "stream",
          "name": "stderr",
          "text": [
            "/usr/local/lib/python3.11/dist-packages/keras/src/layers/core/input_layer.py:26: UserWarning: Argument `input_shape` is deprecated. Use `shape` instead.\n",
            "  warnings.warn(\n"
          ]
        },
        {
          "output_type": "display_data",
          "data": {
            "text/plain": [
              "\u001b[1mModel: \"sequential\"\u001b[0m\n"
            ],
            "text/html": [
              "<pre style=\"white-space:pre;overflow-x:auto;line-height:normal;font-family:Menlo,'DejaVu Sans Mono',consolas,'Courier New',monospace\"><span style=\"font-weight: bold\">Model: \"sequential\"</span>\n",
              "</pre>\n"
            ]
          },
          "metadata": {}
        },
        {
          "output_type": "display_data",
          "data": {
            "text/plain": [
              "┏━━━━━━━━━━━━━━━━━━━━━━━━━━━━━━━━━━━━━━┳━━━━━━━━━━━━━━━━━━━━━━━━━━━━━┳━━━━━━━━━━━━━━━━━┓\n",
              "┃\u001b[1m \u001b[0m\u001b[1mLayer (type)                        \u001b[0m\u001b[1m \u001b[0m┃\u001b[1m \u001b[0m\u001b[1mOutput Shape               \u001b[0m\u001b[1m \u001b[0m┃\u001b[1m \u001b[0m\u001b[1m        Param #\u001b[0m\u001b[1m \u001b[0m┃\n",
              "┡━━━━━━━━━━━━━━━━━━━━━━━━━━━━━━━━━━━━━━╇━━━━━━━━━━━━━━━━━━━━━━━━━━━━━╇━━━━━━━━━━━━━━━━━┩\n",
              "│ dense (\u001b[38;5;33mDense\u001b[0m)                        │ (\u001b[38;5;45mNone\u001b[0m, \u001b[38;5;34m32\u001b[0m)                  │              \u001b[38;5;34m96\u001b[0m │\n",
              "├──────────────────────────────────────┼─────────────────────────────┼─────────────────┤\n",
              "│ dense_1 (\u001b[38;5;33mDense\u001b[0m)                      │ (\u001b[38;5;45mNone\u001b[0m, \u001b[38;5;34m1\u001b[0m)                   │              \u001b[38;5;34m33\u001b[0m │\n",
              "└──────────────────────────────────────┴─────────────────────────────┴─────────────────┘\n"
            ],
            "text/html": [
              "<pre style=\"white-space:pre;overflow-x:auto;line-height:normal;font-family:Menlo,'DejaVu Sans Mono',consolas,'Courier New',monospace\">┏━━━━━━━━━━━━━━━━━━━━━━━━━━━━━━━━━━━━━━┳━━━━━━━━━━━━━━━━━━━━━━━━━━━━━┳━━━━━━━━━━━━━━━━━┓\n",
              "┃<span style=\"font-weight: bold\"> Layer (type)                         </span>┃<span style=\"font-weight: bold\"> Output Shape                </span>┃<span style=\"font-weight: bold\">         Param # </span>┃\n",
              "┡━━━━━━━━━━━━━━━━━━━━━━━━━━━━━━━━━━━━━━╇━━━━━━━━━━━━━━━━━━━━━━━━━━━━━╇━━━━━━━━━━━━━━━━━┩\n",
              "│ dense (<span style=\"color: #0087ff; text-decoration-color: #0087ff\">Dense</span>)                        │ (<span style=\"color: #00d7ff; text-decoration-color: #00d7ff\">None</span>, <span style=\"color: #00af00; text-decoration-color: #00af00\">32</span>)                  │              <span style=\"color: #00af00; text-decoration-color: #00af00\">96</span> │\n",
              "├──────────────────────────────────────┼─────────────────────────────┼─────────────────┤\n",
              "│ dense_1 (<span style=\"color: #0087ff; text-decoration-color: #0087ff\">Dense</span>)                      │ (<span style=\"color: #00d7ff; text-decoration-color: #00d7ff\">None</span>, <span style=\"color: #00af00; text-decoration-color: #00af00\">1</span>)                   │              <span style=\"color: #00af00; text-decoration-color: #00af00\">33</span> │\n",
              "└──────────────────────────────────────┴─────────────────────────────┴─────────────────┘\n",
              "</pre>\n"
            ]
          },
          "metadata": {}
        },
        {
          "output_type": "display_data",
          "data": {
            "text/plain": [
              "\u001b[1m Total params: \u001b[0m\u001b[38;5;34m129\u001b[0m (516.00 B)\n"
            ],
            "text/html": [
              "<pre style=\"white-space:pre;overflow-x:auto;line-height:normal;font-family:Menlo,'DejaVu Sans Mono',consolas,'Courier New',monospace\"><span style=\"font-weight: bold\"> Total params: </span><span style=\"color: #00af00; text-decoration-color: #00af00\">129</span> (516.00 B)\n",
              "</pre>\n"
            ]
          },
          "metadata": {}
        },
        {
          "output_type": "display_data",
          "data": {
            "text/plain": [
              "\u001b[1m Trainable params: \u001b[0m\u001b[38;5;34m129\u001b[0m (516.00 B)\n"
            ],
            "text/html": [
              "<pre style=\"white-space:pre;overflow-x:auto;line-height:normal;font-family:Menlo,'DejaVu Sans Mono',consolas,'Courier New',monospace\"><span style=\"font-weight: bold\"> Trainable params: </span><span style=\"color: #00af00; text-decoration-color: #00af00\">129</span> (516.00 B)\n",
              "</pre>\n"
            ]
          },
          "metadata": {}
        },
        {
          "output_type": "display_data",
          "data": {
            "text/plain": [
              "\u001b[1m Non-trainable params: \u001b[0m\u001b[38;5;34m0\u001b[0m (0.00 B)\n"
            ],
            "text/html": [
              "<pre style=\"white-space:pre;overflow-x:auto;line-height:normal;font-family:Menlo,'DejaVu Sans Mono',consolas,'Courier New',monospace\"><span style=\"font-weight: bold\"> Non-trainable params: </span><span style=\"color: #00af00; text-decoration-color: #00af00\">0</span> (0.00 B)\n",
              "</pre>\n"
            ]
          },
          "metadata": {}
        }
      ]
    },
    {
      "cell_type": "markdown",
      "source": [
        "# **Train from Scratch in FP32**"
      ],
      "metadata": {
        "id": "OSfrYoT5_vc9"
      }
    },
    {
      "cell_type": "code",
      "source": [
        "# Initial non-quant training\n",
        "history = model.fit(\n",
        "    train_dataset,\n",
        "    epochs=EPOCHS,\n",
        "    validation_data=test_dataset\n",
        "    )"
      ],
      "metadata": {
        "colab": {
          "base_uri": "https://localhost:8080/"
        },
        "collapsed": true,
        "id": "trLEGuB-ItPp",
        "outputId": "7311bbfa-47fd-4643-b0c2-0f96738cce32"
      },
      "execution_count": 9,
      "outputs": [
        {
          "output_type": "stream",
          "name": "stdout",
          "text": [
            "Epoch 1/100\n",
            "\u001b[1m21/21\u001b[0m \u001b[32m━━━━━━━━━━━━━━━━━━━━\u001b[0m\u001b[37m\u001b[0m \u001b[1m4s\u001b[0m 35ms/step - loss: 0.0356 - mae: 0.1409 - val_loss: 0.0147 - val_mae: 0.0864\n",
            "Epoch 2/100\n",
            "\u001b[1m21/21\u001b[0m \u001b[32m━━━━━━━━━━━━━━━━━━━━\u001b[0m\u001b[37m\u001b[0m \u001b[1m0s\u001b[0m 4ms/step - loss: 0.0126 - mae: 0.0818 - val_loss: 0.0092 - val_mae: 0.0820\n",
            "Epoch 3/100\n",
            "\u001b[1m21/21\u001b[0m \u001b[32m━━━━━━━━━━━━━━━━━━━━\u001b[0m\u001b[37m\u001b[0m \u001b[1m0s\u001b[0m 7ms/step - loss: 0.0095 - mae: 0.0810 - val_loss: 0.0066 - val_mae: 0.0689\n",
            "Epoch 4/100\n",
            "\u001b[1m21/21\u001b[0m \u001b[32m━━━━━━━━━━━━━━━━━━━━\u001b[0m\u001b[37m\u001b[0m \u001b[1m0s\u001b[0m 8ms/step - loss: 0.0060 - mae: 0.0629 - val_loss: 0.0048 - val_mae: 0.0569\n",
            "Epoch 5/100\n",
            "\u001b[1m21/21\u001b[0m \u001b[32m━━━━━━━━━━━━━━━━━━━━\u001b[0m\u001b[37m\u001b[0m \u001b[1m0s\u001b[0m 10ms/step - loss: 0.0049 - mae: 0.0553 - val_loss: 0.0035 - val_mae: 0.0463\n",
            "Epoch 6/100\n",
            "\u001b[1m21/21\u001b[0m \u001b[32m━━━━━━━━━━━━━━━━━━━━\u001b[0m\u001b[37m\u001b[0m \u001b[1m0s\u001b[0m 6ms/step - loss: 0.0033 - mae: 0.0431 - val_loss: 0.0029 - val_mae: 0.0420\n",
            "Epoch 7/100\n",
            "\u001b[1m21/21\u001b[0m \u001b[32m━━━━━━━━━━━━━━━━━━━━\u001b[0m\u001b[37m\u001b[0m \u001b[1m0s\u001b[0m 9ms/step - loss: 0.0031 - mae: 0.0423 - val_loss: 0.0026 - val_mae: 0.0388\n",
            "Epoch 8/100\n",
            "\u001b[1m21/21\u001b[0m \u001b[32m━━━━━━━━━━━━━━━━━━━━\u001b[0m\u001b[37m\u001b[0m \u001b[1m0s\u001b[0m 6ms/step - loss: 0.0031 - mae: 0.0403 - val_loss: 0.0026 - val_mae: 0.0381\n",
            "Epoch 9/100\n",
            "\u001b[1m21/21\u001b[0m \u001b[32m━━━━━━━━━━━━━━━━━━━━\u001b[0m\u001b[37m\u001b[0m \u001b[1m0s\u001b[0m 9ms/step - loss: 0.0028 - mae: 0.0381 - val_loss: 0.0026 - val_mae: 0.0385\n",
            "Epoch 10/100\n",
            "\u001b[1m21/21\u001b[0m \u001b[32m━━━━━━━━━━━━━━━━━━━━\u001b[0m\u001b[37m\u001b[0m \u001b[1m1s\u001b[0m 36ms/step - loss: 0.0030 - mae: 0.0395 - val_loss: 0.0025 - val_mae: 0.0370\n",
            "Epoch 11/100\n",
            "\u001b[1m21/21\u001b[0m \u001b[32m━━━━━━━━━━━━━━━━━━━━\u001b[0m\u001b[37m\u001b[0m \u001b[1m1s\u001b[0m 4ms/step - loss: 0.0029 - mae: 0.0389 - val_loss: 0.0025 - val_mae: 0.0373\n",
            "Epoch 12/100\n",
            "\u001b[1m21/21\u001b[0m \u001b[32m━━━━━━━━━━━━━━━━━━━━\u001b[0m\u001b[37m\u001b[0m \u001b[1m0s\u001b[0m 13ms/step - loss: 0.0028 - mae: 0.0377 - val_loss: 0.0025 - val_mae: 0.0367\n",
            "Epoch 13/100\n",
            "\u001b[1m21/21\u001b[0m \u001b[32m━━━━━━━━━━━━━━━━━━━━\u001b[0m\u001b[37m\u001b[0m \u001b[1m0s\u001b[0m 5ms/step - loss: 0.0028 - mae: 0.0373 - val_loss: 0.0026 - val_mae: 0.0364\n",
            "Epoch 14/100\n",
            "\u001b[1m21/21\u001b[0m \u001b[32m━━━━━━━━━━━━━━━━━━━━\u001b[0m\u001b[37m\u001b[0m \u001b[1m0s\u001b[0m 5ms/step - loss: 0.0030 - mae: 0.0388 - val_loss: 0.0025 - val_mae: 0.0367\n",
            "Epoch 15/100\n",
            "\u001b[1m21/21\u001b[0m \u001b[32m━━━━━━━━━━━━━━━━━━━━\u001b[0m\u001b[37m\u001b[0m \u001b[1m0s\u001b[0m 6ms/step - loss: 0.0028 - mae: 0.0368 - val_loss: 0.0027 - val_mae: 0.0404\n",
            "Epoch 16/100\n",
            "\u001b[1m21/21\u001b[0m \u001b[32m━━━━━━━━━━━━━━━━━━━━\u001b[0m\u001b[37m\u001b[0m \u001b[1m0s\u001b[0m 7ms/step - loss: 0.0026 - mae: 0.0387 - val_loss: 0.0026 - val_mae: 0.0386\n",
            "Epoch 17/100\n",
            "\u001b[1m21/21\u001b[0m \u001b[32m━━━━━━━━━━━━━━━━━━━━\u001b[0m\u001b[37m\u001b[0m \u001b[1m0s\u001b[0m 5ms/step - loss: 0.0025 - mae: 0.0370 - val_loss: 0.0026 - val_mae: 0.0363\n",
            "Epoch 18/100\n",
            "\u001b[1m21/21\u001b[0m \u001b[32m━━━━━━━━━━━━━━━━━━━━\u001b[0m\u001b[37m\u001b[0m \u001b[1m0s\u001b[0m 6ms/step - loss: 0.0026 - mae: 0.0355 - val_loss: 0.0026 - val_mae: 0.0392\n",
            "Epoch 19/100\n",
            "\u001b[1m21/21\u001b[0m \u001b[32m━━━━━━━━━━━━━━━━━━━━\u001b[0m\u001b[37m\u001b[0m \u001b[1m0s\u001b[0m 14ms/step - loss: 0.0027 - mae: 0.0387 - val_loss: 0.0025 - val_mae: 0.0367\n",
            "Epoch 20/100\n",
            "\u001b[1m21/21\u001b[0m \u001b[32m━━━━━━━━━━━━━━━━━━━━\u001b[0m\u001b[37m\u001b[0m \u001b[1m1s\u001b[0m 11ms/step - loss: 0.0028 - mae: 0.0394 - val_loss: 0.0026 - val_mae: 0.0364\n",
            "Epoch 21/100\n",
            "\u001b[1m21/21\u001b[0m \u001b[32m━━━━━━━━━━━━━━━━━━━━\u001b[0m\u001b[37m\u001b[0m \u001b[1m0s\u001b[0m 8ms/step - loss: 0.0028 - mae: 0.0376 - val_loss: 0.0025 - val_mae: 0.0380\n",
            "Epoch 22/100\n",
            "\u001b[1m21/21\u001b[0m \u001b[32m━━━━━━━━━━━━━━━━━━━━\u001b[0m\u001b[37m\u001b[0m \u001b[1m0s\u001b[0m 8ms/step - loss: 0.0030 - mae: 0.0398 - val_loss: 0.0025 - val_mae: 0.0368\n",
            "Epoch 23/100\n",
            "\u001b[1m21/21\u001b[0m \u001b[32m━━━━━━━━━━━━━━━━━━━━\u001b[0m\u001b[37m\u001b[0m \u001b[1m0s\u001b[0m 9ms/step - loss: 0.0026 - mae: 0.0365 - val_loss: 0.0027 - val_mae: 0.0399\n",
            "Epoch 24/100\n",
            "\u001b[1m21/21\u001b[0m \u001b[32m━━━━━━━━━━━━━━━━━━━━\u001b[0m\u001b[37m\u001b[0m \u001b[1m0s\u001b[0m 6ms/step - loss: 0.0033 - mae: 0.0418 - val_loss: 0.0025 - val_mae: 0.0370\n",
            "Epoch 25/100\n",
            "\u001b[1m21/21\u001b[0m \u001b[32m━━━━━━━━━━━━━━━━━━━━\u001b[0m\u001b[37m\u001b[0m \u001b[1m0s\u001b[0m 15ms/step - loss: 0.0025 - mae: 0.0375 - val_loss: 0.0026 - val_mae: 0.0363\n",
            "Epoch 26/100\n",
            "\u001b[1m21/21\u001b[0m \u001b[32m━━━━━━━━━━━━━━━━━━━━\u001b[0m\u001b[37m\u001b[0m \u001b[1m0s\u001b[0m 7ms/step - loss: 0.0027 - mae: 0.0385 - val_loss: 0.0025 - val_mae: 0.0372\n",
            "Epoch 27/100\n",
            "\u001b[1m21/21\u001b[0m \u001b[32m━━━━━━━━━━━━━━━━━━━━\u001b[0m\u001b[37m\u001b[0m \u001b[1m0s\u001b[0m 6ms/step - loss: 0.0027 - mae: 0.0372 - val_loss: 0.0025 - val_mae: 0.0372\n",
            "Epoch 28/100\n",
            "\u001b[1m21/21\u001b[0m \u001b[32m━━━━━━━━━━━━━━━━━━━━\u001b[0m\u001b[37m\u001b[0m \u001b[1m0s\u001b[0m 12ms/step - loss: 0.0030 - mae: 0.0390 - val_loss: 0.0026 - val_mae: 0.0387\n",
            "Epoch 29/100\n",
            "\u001b[1m21/21\u001b[0m \u001b[32m━━━━━━━━━━━━━━━━━━━━\u001b[0m\u001b[37m\u001b[0m \u001b[1m1s\u001b[0m 12ms/step - loss: 0.0029 - mae: 0.0389 - val_loss: 0.0025 - val_mae: 0.0377\n",
            "Epoch 30/100\n",
            "\u001b[1m21/21\u001b[0m \u001b[32m━━━━━━━━━━━━━━━━━━━━\u001b[0m\u001b[37m\u001b[0m \u001b[1m0s\u001b[0m 5ms/step - loss: 0.0028 - mae: 0.0387 - val_loss: 0.0025 - val_mae: 0.0374\n",
            "Epoch 31/100\n",
            "\u001b[1m21/21\u001b[0m \u001b[32m━━━━━━━━━━━━━━━━━━━━\u001b[0m\u001b[37m\u001b[0m \u001b[1m0s\u001b[0m 6ms/step - loss: 0.0029 - mae: 0.0393 - val_loss: 0.0025 - val_mae: 0.0368\n",
            "Epoch 32/100\n",
            "\u001b[1m21/21\u001b[0m \u001b[32m━━━━━━━━━━━━━━━━━━━━\u001b[0m\u001b[37m\u001b[0m \u001b[1m0s\u001b[0m 5ms/step - loss: 0.0025 - mae: 0.0370 - val_loss: 0.0026 - val_mae: 0.0390\n",
            "Epoch 33/100\n",
            "\u001b[1m21/21\u001b[0m \u001b[32m━━━━━━━━━━━━━━━━━━━━\u001b[0m\u001b[37m\u001b[0m \u001b[1m0s\u001b[0m 9ms/step - loss: 0.0026 - mae: 0.0375 - val_loss: 0.0025 - val_mae: 0.0379\n",
            "Epoch 34/100\n",
            "\u001b[1m21/21\u001b[0m \u001b[32m━━━━━━━━━━━━━━━━━━━━\u001b[0m\u001b[37m\u001b[0m \u001b[1m0s\u001b[0m 6ms/step - loss: 0.0024 - mae: 0.0355 - val_loss: 0.0025 - val_mae: 0.0370\n",
            "Epoch 35/100\n",
            "\u001b[1m21/21\u001b[0m \u001b[32m━━━━━━━━━━━━━━━━━━━━\u001b[0m\u001b[37m\u001b[0m \u001b[1m0s\u001b[0m 8ms/step - loss: 0.0029 - mae: 0.0396 - val_loss: 0.0026 - val_mae: 0.0390\n",
            "Epoch 36/100\n",
            "\u001b[1m21/21\u001b[0m \u001b[32m━━━━━━━━━━━━━━━━━━━━\u001b[0m\u001b[37m\u001b[0m \u001b[1m0s\u001b[0m 5ms/step - loss: 0.0029 - mae: 0.0386 - val_loss: 0.0027 - val_mae: 0.0364\n",
            "Epoch 37/100\n",
            "\u001b[1m21/21\u001b[0m \u001b[32m━━━━━━━━━━━━━━━━━━━━\u001b[0m\u001b[37m\u001b[0m \u001b[1m0s\u001b[0m 9ms/step - loss: 0.0030 - mae: 0.0391 - val_loss: 0.0026 - val_mae: 0.0364\n",
            "Epoch 38/100\n",
            "\u001b[1m21/21\u001b[0m \u001b[32m━━━━━━━━━━━━━━━━━━━━\u001b[0m\u001b[37m\u001b[0m \u001b[1m0s\u001b[0m 8ms/step - loss: 0.0029 - mae: 0.0391 - val_loss: 0.0026 - val_mae: 0.0364\n",
            "Epoch 39/100\n",
            "\u001b[1m21/21\u001b[0m \u001b[32m━━━━━━━━━━━━━━━━━━━━\u001b[0m\u001b[37m\u001b[0m \u001b[1m0s\u001b[0m 16ms/step - loss: 0.0032 - mae: 0.0405 - val_loss: 0.0025 - val_mae: 0.0371\n",
            "Epoch 40/100\n",
            "\u001b[1m21/21\u001b[0m \u001b[32m━━━━━━━━━━━━━━━━━━━━\u001b[0m\u001b[37m\u001b[0m \u001b[1m0s\u001b[0m 5ms/step - loss: 0.0027 - mae: 0.0384 - val_loss: 0.0025 - val_mae: 0.0379\n",
            "Epoch 41/100\n",
            "\u001b[1m21/21\u001b[0m \u001b[32m━━━━━━━━━━━━━━━━━━━━\u001b[0m\u001b[37m\u001b[0m \u001b[1m0s\u001b[0m 13ms/step - loss: 0.0030 - mae: 0.0389 - val_loss: 0.0025 - val_mae: 0.0374\n",
            "Epoch 42/100\n",
            "\u001b[1m21/21\u001b[0m \u001b[32m━━━━━━━━━━━━━━━━━━━━\u001b[0m\u001b[37m\u001b[0m \u001b[1m0s\u001b[0m 5ms/step - loss: 0.0027 - mae: 0.0373 - val_loss: 0.0025 - val_mae: 0.0370\n",
            "Epoch 43/100\n",
            "\u001b[1m21/21\u001b[0m \u001b[32m━━━━━━━━━━━━━━━━━━━━\u001b[0m\u001b[37m\u001b[0m \u001b[1m0s\u001b[0m 6ms/step - loss: 0.0030 - mae: 0.0389 - val_loss: 0.0025 - val_mae: 0.0375\n",
            "Epoch 44/100\n",
            "\u001b[1m21/21\u001b[0m \u001b[32m━━━━━━━━━━━━━━━━━━━━\u001b[0m\u001b[37m\u001b[0m \u001b[1m0s\u001b[0m 6ms/step - loss: 0.0026 - mae: 0.0374 - val_loss: 0.0026 - val_mae: 0.0400\n",
            "Epoch 45/100\n",
            "\u001b[1m21/21\u001b[0m \u001b[32m━━━━━━━━━━━━━━━━━━━━\u001b[0m\u001b[37m\u001b[0m \u001b[1m0s\u001b[0m 6ms/step - loss: 0.0026 - mae: 0.0377 - val_loss: 0.0025 - val_mae: 0.0372\n",
            "Epoch 46/100\n",
            "\u001b[1m21/21\u001b[0m \u001b[32m━━━━━━━━━━━━━━━━━━━━\u001b[0m\u001b[37m\u001b[0m \u001b[1m0s\u001b[0m 9ms/step - loss: 0.0025 - mae: 0.0364 - val_loss: 0.0025 - val_mae: 0.0376\n",
            "Epoch 47/100\n",
            "\u001b[1m21/21\u001b[0m \u001b[32m━━━━━━━━━━━━━━━━━━━━\u001b[0m\u001b[37m\u001b[0m \u001b[1m0s\u001b[0m 11ms/step - loss: 0.0031 - mae: 0.0394 - val_loss: 0.0026 - val_mae: 0.0388\n",
            "Epoch 48/100\n",
            "\u001b[1m21/21\u001b[0m \u001b[32m━━━━━━━━━━━━━━━━━━━━\u001b[0m\u001b[37m\u001b[0m \u001b[1m0s\u001b[0m 5ms/step - loss: 0.0027 - mae: 0.0383 - val_loss: 0.0025 - val_mae: 0.0387\n",
            "Epoch 49/100\n",
            "\u001b[1m21/21\u001b[0m \u001b[32m━━━━━━━━━━━━━━━━━━━━\u001b[0m\u001b[37m\u001b[0m \u001b[1m0s\u001b[0m 12ms/step - loss: 0.0028 - mae: 0.0383 - val_loss: 0.0025 - val_mae: 0.0380\n",
            "Epoch 50/100\n",
            "\u001b[1m21/21\u001b[0m \u001b[32m━━━━━━━━━━━━━━━━━━━━\u001b[0m\u001b[37m\u001b[0m \u001b[1m0s\u001b[0m 9ms/step - loss: 0.0030 - mae: 0.0399 - val_loss: 0.0025 - val_mae: 0.0370\n",
            "Epoch 51/100\n",
            "\u001b[1m21/21\u001b[0m \u001b[32m━━━━━━━━━━━━━━━━━━━━\u001b[0m\u001b[37m\u001b[0m \u001b[1m0s\u001b[0m 8ms/step - loss: 0.0029 - mae: 0.0390 - val_loss: 0.0025 - val_mae: 0.0363\n",
            "Epoch 52/100\n",
            "\u001b[1m21/21\u001b[0m \u001b[32m━━━━━━━━━━━━━━━━━━━━\u001b[0m\u001b[37m\u001b[0m \u001b[1m0s\u001b[0m 8ms/step - loss: 0.0028 - mae: 0.0389 - val_loss: 0.0025 - val_mae: 0.0365\n",
            "Epoch 53/100\n",
            "\u001b[1m21/21\u001b[0m \u001b[32m━━━━━━━━━━━━━━━━━━━━\u001b[0m\u001b[37m\u001b[0m \u001b[1m0s\u001b[0m 10ms/step - loss: 0.0024 - mae: 0.0363 - val_loss: 0.0025 - val_mae: 0.0379\n",
            "Epoch 54/100\n",
            "\u001b[1m21/21\u001b[0m \u001b[32m━━━━━━━━━━━━━━━━━━━━\u001b[0m\u001b[37m\u001b[0m \u001b[1m0s\u001b[0m 8ms/step - loss: 0.0031 - mae: 0.0403 - val_loss: 0.0026 - val_mae: 0.0361\n",
            "Epoch 55/100\n",
            "\u001b[1m21/21\u001b[0m \u001b[32m━━━━━━━━━━━━━━━━━━━━\u001b[0m\u001b[37m\u001b[0m \u001b[1m0s\u001b[0m 17ms/step - loss: 0.0026 - mae: 0.0374 - val_loss: 0.0025 - val_mae: 0.0375\n",
            "Epoch 56/100\n",
            "\u001b[1m21/21\u001b[0m \u001b[32m━━━━━━━━━━━━━━━━━━━━\u001b[0m\u001b[37m\u001b[0m \u001b[1m0s\u001b[0m 10ms/step - loss: 0.0027 - mae: 0.0372 - val_loss: 0.0025 - val_mae: 0.0371\n",
            "Epoch 57/100\n",
            "\u001b[1m21/21\u001b[0m \u001b[32m━━━━━━━━━━━━━━━━━━━━\u001b[0m\u001b[37m\u001b[0m \u001b[1m0s\u001b[0m 13ms/step - loss: 0.0032 - mae: 0.0398 - val_loss: 0.0025 - val_mae: 0.0363\n",
            "Epoch 58/100\n",
            "\u001b[1m21/21\u001b[0m \u001b[32m━━━━━━━━━━━━━━━━━━━━\u001b[0m\u001b[37m\u001b[0m \u001b[1m0s\u001b[0m 14ms/step - loss: 0.0030 - mae: 0.0402 - val_loss: 0.0025 - val_mae: 0.0371\n",
            "Epoch 59/100\n",
            "\u001b[1m21/21\u001b[0m \u001b[32m━━━━━━━━━━━━━━━━━━━━\u001b[0m\u001b[37m\u001b[0m \u001b[1m0s\u001b[0m 6ms/step - loss: 0.0030 - mae: 0.0397 - val_loss: 0.0025 - val_mae: 0.0366\n",
            "Epoch 60/100\n",
            "\u001b[1m21/21\u001b[0m \u001b[32m━━━━━━━━━━━━━━━━━━━━\u001b[0m\u001b[37m\u001b[0m \u001b[1m0s\u001b[0m 7ms/step - loss: 0.0026 - mae: 0.0370 - val_loss: 0.0025 - val_mae: 0.0372\n",
            "Epoch 61/100\n",
            "\u001b[1m21/21\u001b[0m \u001b[32m━━━━━━━━━━━━━━━━━━━━\u001b[0m\u001b[37m\u001b[0m \u001b[1m0s\u001b[0m 8ms/step - loss: 0.0025 - mae: 0.0356 - val_loss: 0.0025 - val_mae: 0.0378\n",
            "Epoch 62/100\n",
            "\u001b[1m21/21\u001b[0m \u001b[32m━━━━━━━━━━━━━━━━━━━━\u001b[0m\u001b[37m\u001b[0m \u001b[1m0s\u001b[0m 9ms/step - loss: 0.0025 - mae: 0.0368 - val_loss: 0.0025 - val_mae: 0.0373\n",
            "Epoch 63/100\n",
            "\u001b[1m21/21\u001b[0m \u001b[32m━━━━━━━━━━━━━━━━━━━━\u001b[0m\u001b[37m\u001b[0m \u001b[1m0s\u001b[0m 6ms/step - loss: 0.0029 - mae: 0.0386 - val_loss: 0.0025 - val_mae: 0.0379\n",
            "Epoch 64/100\n",
            "\u001b[1m21/21\u001b[0m \u001b[32m━━━━━━━━━━━━━━━━━━━━\u001b[0m\u001b[37m\u001b[0m \u001b[1m0s\u001b[0m 7ms/step - loss: 0.0026 - mae: 0.0367 - val_loss: 0.0025 - val_mae: 0.0358\n",
            "Epoch 65/100\n",
            "\u001b[1m21/21\u001b[0m \u001b[32m━━━━━━━━━━━━━━━━━━━━\u001b[0m\u001b[37m\u001b[0m \u001b[1m0s\u001b[0m 11ms/step - loss: 0.0025 - mae: 0.0360 - val_loss: 0.0025 - val_mae: 0.0361\n",
            "Epoch 66/100\n",
            "\u001b[1m21/21\u001b[0m \u001b[32m━━━━━━━━━━━━━━━━━━━━\u001b[0m\u001b[37m\u001b[0m \u001b[1m0s\u001b[0m 11ms/step - loss: 0.0025 - mae: 0.0364 - val_loss: 0.0025 - val_mae: 0.0374\n",
            "Epoch 67/100\n",
            "\u001b[1m21/21\u001b[0m \u001b[32m━━━━━━━━━━━━━━━━━━━━\u001b[0m\u001b[37m\u001b[0m \u001b[1m0s\u001b[0m 10ms/step - loss: 0.0025 - mae: 0.0372 - val_loss: 0.0025 - val_mae: 0.0377\n",
            "Epoch 68/100\n",
            "\u001b[1m21/21\u001b[0m \u001b[32m━━━━━━━━━━━━━━━━━━━━\u001b[0m\u001b[37m\u001b[0m \u001b[1m0s\u001b[0m 6ms/step - loss: 0.0026 - mae: 0.0369 - val_loss: 0.0025 - val_mae: 0.0374\n",
            "Epoch 69/100\n",
            "\u001b[1m21/21\u001b[0m \u001b[32m━━━━━━━━━━━━━━━━━━━━\u001b[0m\u001b[37m\u001b[0m \u001b[1m0s\u001b[0m 6ms/step - loss: 0.0022 - mae: 0.0353 - val_loss: 0.0026 - val_mae: 0.0397\n",
            "Epoch 70/100\n",
            "\u001b[1m21/21\u001b[0m \u001b[32m━━━━━━━━━━━━━━━━━━━━\u001b[0m\u001b[37m\u001b[0m \u001b[1m0s\u001b[0m 11ms/step - loss: 0.0028 - mae: 0.0400 - val_loss: 0.0024 - val_mae: 0.0365\n",
            "Epoch 71/100\n",
            "\u001b[1m21/21\u001b[0m \u001b[32m━━━━━━━━━━━━━━━━━━━━\u001b[0m\u001b[37m\u001b[0m \u001b[1m0s\u001b[0m 11ms/step - loss: 0.0028 - mae: 0.0385 - val_loss: 0.0025 - val_mae: 0.0358\n",
            "Epoch 72/100\n",
            "\u001b[1m21/21\u001b[0m \u001b[32m━━━━━━━━━━━━━━━━━━━━\u001b[0m\u001b[37m\u001b[0m \u001b[1m0s\u001b[0m 10ms/step - loss: 0.0026 - mae: 0.0367 - val_loss: 0.0025 - val_mae: 0.0385\n",
            "Epoch 73/100\n",
            "\u001b[1m21/21\u001b[0m \u001b[32m━━━━━━━━━━━━━━━━━━━━\u001b[0m\u001b[37m\u001b[0m \u001b[1m0s\u001b[0m 8ms/step - loss: 0.0025 - mae: 0.0361 - val_loss: 0.0024 - val_mae: 0.0374\n",
            "Epoch 74/100\n",
            "\u001b[1m21/21\u001b[0m \u001b[32m━━━━━━━━━━━━━━━━━━━━\u001b[0m\u001b[37m\u001b[0m \u001b[1m0s\u001b[0m 5ms/step - loss: 0.0030 - mae: 0.0402 - val_loss: 0.0024 - val_mae: 0.0370\n",
            "Epoch 75/100\n",
            "\u001b[1m21/21\u001b[0m \u001b[32m━━━━━━━━━━━━━━━━━━━━\u001b[0m\u001b[37m\u001b[0m \u001b[1m0s\u001b[0m 4ms/step - loss: 0.0024 - mae: 0.0359 - val_loss: 0.0024 - val_mae: 0.0363\n",
            "Epoch 76/100\n",
            "\u001b[1m21/21\u001b[0m \u001b[32m━━━━━━━━━━━━━━━━━━━━\u001b[0m\u001b[37m\u001b[0m \u001b[1m0s\u001b[0m 5ms/step - loss: 0.0028 - mae: 0.0376 - val_loss: 0.0024 - val_mae: 0.0363\n",
            "Epoch 77/100\n",
            "\u001b[1m21/21\u001b[0m \u001b[32m━━━━━━━━━━━━━━━━━━━━\u001b[0m\u001b[37m\u001b[0m \u001b[1m0s\u001b[0m 5ms/step - loss: 0.0026 - mae: 0.0370 - val_loss: 0.0024 - val_mae: 0.0363\n",
            "Epoch 78/100\n",
            "\u001b[1m21/21\u001b[0m \u001b[32m━━━━━━━━━━━━━━━━━━━━\u001b[0m\u001b[37m\u001b[0m \u001b[1m0s\u001b[0m 5ms/step - loss: 0.0026 - mae: 0.0368 - val_loss: 0.0025 - val_mae: 0.0358\n",
            "Epoch 79/100\n",
            "\u001b[1m21/21\u001b[0m \u001b[32m━━━━━━━━━━━━━━━━━━━━\u001b[0m\u001b[37m\u001b[0m \u001b[1m0s\u001b[0m 11ms/step - loss: 0.0022 - mae: 0.0336 - val_loss: 0.0026 - val_mae: 0.0398\n",
            "Epoch 80/100\n",
            "\u001b[1m21/21\u001b[0m \u001b[32m━━━━━━━━━━━━━━━━━━━━\u001b[0m\u001b[37m\u001b[0m \u001b[1m1s\u001b[0m 25ms/step - loss: 0.0029 - mae: 0.0399 - val_loss: 0.0025 - val_mae: 0.0385\n",
            "Epoch 81/100\n",
            "\u001b[1m21/21\u001b[0m \u001b[32m━━━━━━━━━━━━━━━━━━━━\u001b[0m\u001b[37m\u001b[0m \u001b[1m0s\u001b[0m 14ms/step - loss: 0.0024 - mae: 0.0362 - val_loss: 0.0026 - val_mae: 0.0410\n",
            "Epoch 82/100\n",
            "\u001b[1m21/21\u001b[0m \u001b[32m━━━━━━━━━━━━━━━━━━━━\u001b[0m\u001b[37m\u001b[0m \u001b[1m1s\u001b[0m 25ms/step - loss: 0.0029 - mae: 0.0397 - val_loss: 0.0025 - val_mae: 0.0359\n",
            "Epoch 83/100\n",
            "\u001b[1m21/21\u001b[0m \u001b[32m━━━━━━━━━━━━━━━━━━━━\u001b[0m\u001b[37m\u001b[0m \u001b[1m1s\u001b[0m 21ms/step - loss: 0.0025 - mae: 0.0366 - val_loss: 0.0025 - val_mae: 0.0359\n",
            "Epoch 84/100\n",
            "\u001b[1m21/21\u001b[0m \u001b[32m━━━━━━━━━━━━━━━━━━━━\u001b[0m\u001b[37m\u001b[0m \u001b[1m1s\u001b[0m 26ms/step - loss: 0.0027 - mae: 0.0375 - val_loss: 0.0024 - val_mae: 0.0361\n",
            "Epoch 85/100\n",
            "\u001b[1m21/21\u001b[0m \u001b[32m━━━━━━━━━━━━━━━━━━━━\u001b[0m\u001b[37m\u001b[0m \u001b[1m0s\u001b[0m 6ms/step - loss: 0.0028 - mae: 0.0388 - val_loss: 0.0024 - val_mae: 0.0359\n",
            "Epoch 86/100\n",
            "\u001b[1m21/21\u001b[0m \u001b[32m━━━━━━━━━━━━━━━━━━━━\u001b[0m\u001b[37m\u001b[0m \u001b[1m0s\u001b[0m 10ms/step - loss: 0.0024 - mae: 0.0351 - val_loss: 0.0025 - val_mae: 0.0379\n",
            "Epoch 87/100\n",
            "\u001b[1m21/21\u001b[0m \u001b[32m━━━━━━━━━━━━━━━━━━━━\u001b[0m\u001b[37m\u001b[0m \u001b[1m1s\u001b[0m 22ms/step - loss: 0.0027 - mae: 0.0378 - val_loss: 0.0024 - val_mae: 0.0363\n",
            "Epoch 88/100\n",
            "\u001b[1m21/21\u001b[0m \u001b[32m━━━━━━━━━━━━━━━━━━━━\u001b[0m\u001b[37m\u001b[0m \u001b[1m0s\u001b[0m 13ms/step - loss: 0.0026 - mae: 0.0375 - val_loss: 0.0024 - val_mae: 0.0360\n",
            "Epoch 89/100\n",
            "\u001b[1m21/21\u001b[0m \u001b[32m━━━━━━━━━━━━━━━━━━━━\u001b[0m\u001b[37m\u001b[0m \u001b[1m0s\u001b[0m 17ms/step - loss: 0.0027 - mae: 0.0378 - val_loss: 0.0025 - val_mae: 0.0358\n",
            "Epoch 90/100\n",
            "\u001b[1m21/21\u001b[0m \u001b[32m━━━━━━━━━━━━━━━━━━━━\u001b[0m\u001b[37m\u001b[0m \u001b[1m1s\u001b[0m 18ms/step - loss: 0.0029 - mae: 0.0382 - val_loss: 0.0026 - val_mae: 0.0361\n",
            "Epoch 91/100\n",
            "\u001b[1m21/21\u001b[0m \u001b[32m━━━━━━━━━━━━━━━━━━━━\u001b[0m\u001b[37m\u001b[0m \u001b[1m1s\u001b[0m 23ms/step - loss: 0.0028 - mae: 0.0385 - val_loss: 0.0024 - val_mae: 0.0361\n",
            "Epoch 92/100\n",
            "\u001b[1m21/21\u001b[0m \u001b[32m━━━━━━━━━━━━━━━━━━━━\u001b[0m\u001b[37m\u001b[0m \u001b[1m0s\u001b[0m 15ms/step - loss: 0.0025 - mae: 0.0362 - val_loss: 0.0024 - val_mae: 0.0367\n",
            "Epoch 93/100\n",
            "\u001b[1m21/21\u001b[0m \u001b[32m━━━━━━━━━━━━━━━━━━━━\u001b[0m\u001b[37m\u001b[0m \u001b[1m0s\u001b[0m 12ms/step - loss: 0.0025 - mae: 0.0358 - val_loss: 0.0024 - val_mae: 0.0366\n",
            "Epoch 94/100\n",
            "\u001b[1m21/21\u001b[0m \u001b[32m━━━━━━━━━━━━━━━━━━━━\u001b[0m\u001b[37m\u001b[0m \u001b[1m1s\u001b[0m 30ms/step - loss: 0.0025 - mae: 0.0374 - val_loss: 0.0024 - val_mae: 0.0361\n",
            "Epoch 95/100\n",
            "\u001b[1m21/21\u001b[0m \u001b[32m━━━━━━━━━━━━━━━━━━━━\u001b[0m\u001b[37m\u001b[0m \u001b[1m1s\u001b[0m 17ms/step - loss: 0.0027 - mae: 0.0385 - val_loss: 0.0024 - val_mae: 0.0375\n",
            "Epoch 96/100\n",
            "\u001b[1m21/21\u001b[0m \u001b[32m━━━━━━━━━━━━━━━━━━━━\u001b[0m\u001b[37m\u001b[0m \u001b[1m1s\u001b[0m 32ms/step - loss: 0.0029 - mae: 0.0397 - val_loss: 0.0024 - val_mae: 0.0370\n",
            "Epoch 97/100\n",
            "\u001b[1m21/21\u001b[0m \u001b[32m━━━━━━━━━━━━━━━━━━━━\u001b[0m\u001b[37m\u001b[0m \u001b[1m1s\u001b[0m 31ms/step - loss: 0.0026 - mae: 0.0371 - val_loss: 0.0024 - val_mae: 0.0368\n",
            "Epoch 98/100\n",
            "\u001b[1m21/21\u001b[0m \u001b[32m━━━━━━━━━━━━━━━━━━━━\u001b[0m\u001b[37m\u001b[0m \u001b[1m0s\u001b[0m 15ms/step - loss: 0.0026 - mae: 0.0380 - val_loss: 0.0024 - val_mae: 0.0364\n",
            "Epoch 99/100\n",
            "\u001b[1m21/21\u001b[0m \u001b[32m━━━━━━━━━━━━━━━━━━━━\u001b[0m\u001b[37m\u001b[0m \u001b[1m0s\u001b[0m 10ms/step - loss: 0.0030 - mae: 0.0405 - val_loss: 0.0024 - val_mae: 0.0358\n",
            "Epoch 100/100\n",
            "\u001b[1m21/21\u001b[0m \u001b[32m━━━━━━━━━━━━━━━━━━━━\u001b[0m\u001b[37m\u001b[0m \u001b[1m0s\u001b[0m 9ms/step - loss: 0.0029 - mae: 0.0395 - val_loss: 0.0024 - val_mae: 0.0364\n"
          ]
        }
      ]
    },
    {
      "cell_type": "markdown",
      "source": [
        "# **Vizualize Training History**"
      ],
      "metadata": {
        "id": "17dCr9zgAnQk"
      }
    },
    {
      "cell_type": "code",
      "source": [
        "plt.plot(history.history[\"loss\"], label=\"Training Loss\")\n",
        "plt.plot(history.history[\"val_loss\"], label=\"Validation Loss\")\n",
        "plt.legend()\n",
        "plt.show()"
      ],
      "metadata": {
        "colab": {
          "base_uri": "https://localhost:8080/",
          "height": 430
        },
        "id": "BpMKkmkDmweF",
        "outputId": "506e8f0f-4a3c-48ae-fb2d-db8b21476785",
        "collapsed": true
      },
      "execution_count": 10,
      "outputs": [
        {
          "output_type": "display_data",
          "data": {
            "text/plain": [
              "<Figure size 640x480 with 1 Axes>"
            ],
            "image/png": "[encoded data removed]"
          },
          "metadata": {}
        }
      ]
    },
    {
      "cell_type": "markdown",
      "source": [
        "# **Test Set Classification Accuracy of FP32 Model**"
      ],
      "metadata": {
        "id": "egHE_K6vArh7"
      }
    },
    {
      "cell_type": "code",
      "source": [
        "# Evaluate the FP32 model\n",
        "results = model.evaluate(test_dataset)\n",
        "\n",
        "# Print the results\n",
        "print(f\"Test Loss: {results[0]}, Test MAE: {results[1]}\")\n",
        "\n",
        "# Predict 1 hour ahead on the test set\n",
        "y_pred = model.predict(X_test)\n",
        "\n",
        "# Calculate R² score\n",
        "r2 = r2_score(y_test, y_pred)\n",
        "print(f'\\nR² score: {r2}')\n",
        "\n",
        "# Goal: Target R2 >= 0.88"
      ],
      "metadata": {
        "colab": {
          "base_uri": "https://localhost:8080/"
        },
        "id": "IElgrf-TJJPC",
        "outputId": "fa841b92-d38e-4f76-ac68-6af950f150e3"
      },
      "execution_count": 11,
      "outputs": [
        {
          "output_type": "stream",
          "name": "stdout",
          "text": [
            "\u001b[1m6/6\u001b[0m \u001b[32m━━━━━━━━━━━━━━━━━━━━\u001b[0m\u001b[37m\u001b[0m \u001b[1m0s\u001b[0m 4ms/step - loss: 0.0023 - mae: 0.0354 \n",
            "Test Loss: 0.002396773546934128, Test MAE: 0.03636900708079338\n",
            "\u001b[1m6/6\u001b[0m \u001b[32m━━━━━━━━━━━━━━━━━━━━\u001b[0m\u001b[37m\u001b[0m \u001b[1m0s\u001b[0m 21ms/step\n",
            "\n",
            "R² score: 0.9235679507255554\n"
          ]
        }
      ]
    },
    {
      "cell_type": "markdown",
      "source": [
        "# **Convert to TFLite Model**"
      ],
      "metadata": {
        "id": "tdyvZiHWA-A6"
      }
    },
    {
      "cell_type": "code",
      "source": [
        "# Convert the model to the TensorFlow Lite format without quantization\n",
        "converter = tf.lite.TFLiteConverter.from_keras_model(model)\n",
        "tflite_model = converter.convert()\n",
        "\n",
        "# Save the model\n",
        "with open('model.tflite', 'wb') as f:\n",
        "  f.write(tflite_model)\n",
        "\n",
        "# Print tensor details\n",
        "interpreter = tf.lite.Interpreter(model_content=tflite_model)\n",
        "interpreter.allocate_tensors()\n",
        "for tensor in interpreter.get_tensor_details():\n",
        "    print(tensor['name'], tensor['dtype'])\n",
        "    try:\n",
        "        # Attempt to get tensor data\n",
        "        tensor_data = interpreter.get_tensor(tensor['index'])\n",
        "        print(tensor_data)\n",
        "    except ValueError:\n",
        "        # Skip tensors with null data\n",
        "        print(f\"Skipping tensor '{tensor['name']}' as it has null data.\")"
      ],
      "metadata": {
        "colab": {
          "base_uri": "https://localhost:8080/"
        },
        "id": "fC6reRpb_00G",
        "outputId": "20732e5c-a846-48e6-9219-ffbf3a4b817e"
      },
      "execution_count": 12,
      "outputs": [
        {
          "output_type": "stream",
          "name": "stdout",
          "text": [
            "Saved artifact at '/tmp/tmpu7507xqn'. The following endpoints are available:\n",
            "\n",
            "* Endpoint 'serve'\n",
            "  args_0 (POSITIONAL_ONLY): TensorSpec(shape=(None, 2), dtype=tf.float32, name='keras_tensor')\n",
            "Output Type:\n",
            "  TensorSpec(shape=(None, 1), dtype=tf.float32, name=None)\n",
            "Captures:\n",
            "  134638545261328: TensorSpec(shape=(), dtype=tf.resource, name=None)\n",
            "  134638545262096: TensorSpec(shape=(), dtype=tf.resource, name=None)\n",
            "  134638545261136: TensorSpec(shape=(), dtype=tf.resource, name=None)\n",
            "  134638545263248: TensorSpec(shape=(), dtype=tf.resource, name=None)\n",
            "serving_default_keras_tensor:0 <class 'numpy.float32'>\n",
            "[[4.9128376e-32 0.0000000e+00]]\n",
            "arith.constant <class 'numpy.float32'>\n",
            "[[ 0.5478622   0.06143686  0.22692907  0.32726082  0.27761656 -0.45524037\n",
            "   0.2241812  -0.17943075 -0.3651709  -0.18907689 -0.23554206  0.01485139\n",
            "   0.14334978  0.11927134  0.04392979 -0.39882535  0.20080668  0.28984806\n",
            "  -0.30226865  0.053534    0.23917842  0.53367776  0.0925779   0.39441562\n",
            "   0.20832723  0.30796242 -0.02950111 -0.24658704  0.14428519  0.02480774\n",
            "  -0.215641    0.09021159]]\n",
            "sequential_1/dense_1_2/Add/ReadVariableOp <class 'numpy.float32'>\n",
            "[0.01306049]\n",
            "sequential_1/dense_1/Add/ReadVariableOp <class 'numpy.float32'>\n",
            "[ 0.05076974 -0.00938202  0.          0.05609183 -0.044878    0.14775185\n",
            "  0.00936875  0.12262636  0.         -0.07038046  0.          0.\n",
            "  0.00712961  0.         -0.00357235 -0.0178513   0.         -0.01981293\n",
            " -0.03622757 -0.00488316  0.          0.0500506   0.00228067  0.01147239\n",
            "  0.00841251  0.          0.          0.          0.00751262  0.00030474\n",
            "  0.          0.00146145]\n",
            "sequential_1/dense_1/MatMul <class 'numpy.float32'>\n",
            "[[ 0.37619266 -0.2788472 ]\n",
            " [ 0.19803216 -0.04026907]\n",
            " [-0.1187067  -0.19736509]\n",
            " [ 0.47624397 -0.23493364]\n",
            " [-0.2687153   0.25520363]\n",
            " [-0.06054433 -0.20600872]\n",
            " [ 0.46073812  0.18712811]\n",
            " [-0.34917474  0.06621723]\n",
            " [ 0.01998699 -0.384267  ]\n",
            " [ 0.11080304  0.02526656]\n",
            " [-0.34747815 -0.13936564]\n",
            " [-0.04506871 -0.09506771]\n",
            " [ 0.45891175  0.41663295]\n",
            " [-0.02491847 -0.07528403]\n",
            " [ 0.10017643  0.05972709]\n",
            " [ 0.19477445 -0.24004948]\n",
            " [-0.4042637  -0.31689698]\n",
            " [-0.2219688   0.21367256]\n",
            " [-0.02800692  0.05969765]\n",
            " [-0.3642761   0.00356858]\n",
            " [-0.38845593 -0.39675933]\n",
            " [ 0.3766891  -0.26053768]\n",
            " [ 0.4217612   0.2800334 ]\n",
            " [-0.13707383  0.3422351 ]\n",
            " [ 0.36900148 -0.02228479]\n",
            " [-0.312984   -0.15647367]\n",
            " [-0.0316866  -0.39230943]\n",
            " [ 0.05269688 -0.38757566]\n",
            " [ 0.12225787  0.25213182]\n",
            " [-0.18816502  0.3062907 ]\n",
            " [-0.2439069  -0.10419652]\n",
            " [ 0.48528582  0.21999957]]\n",
            "sequential_1/dense_1/MatMul;sequential_1/dense_1/Relu;sequential_1/dense_1/Add <class 'numpy.float32'>\n",
            "Skipping tensor 'sequential_1/dense_1/MatMul;sequential_1/dense_1/Relu;sequential_1/dense_1/Add' as it has null data.\n",
            "StatefulPartitionedCall_1:0 <class 'numpy.float32'>\n",
            "[[0.]]\n"
          ]
        }
      ]
    },
    {
      "cell_type": "markdown",
      "source": [
        "# **Convert to Quantized Model**"
      ],
      "metadata": {
        "id": "C1gaSy-8xaMs"
      }
    },
    {
      "cell_type": "code",
      "source": [
        "# Provide a representative dataset to guide the quantization process\n",
        "def representative_dataset_gen():\n",
        "    for data, _ in test_dataset.unbatch().batch(1).take(100):\n",
        "        yield [data]\n",
        "\n",
        "# Convert the model to int8 format\n",
        "converter = tf.lite.TFLiteConverter.from_keras_model(model)\n",
        "converter.optimizations = [tf.lite.Optimize.DEFAULT]\n",
        "converter.representative_dataset = representative_dataset_gen\n",
        "converter.target_spec.supported_ops = [tf.lite.OpsSet.TFLITE_BUILTINS_INT8]\n",
        "converter.inference_input_type = tf.int8\n",
        "converter.inference_output_type = tf.int8\n",
        "converter.experimental_new_quantizer = False  # Optional: Use the default quantizer\n",
        "converter._experimental_disable_per_channel = True\n",
        "tflite_quant_model = converter.convert()\n",
        "\n",
        "# Save the model\n",
        "with open('model_quantized.tflite', 'wb') as f:\n",
        "  f.write(tflite_quant_model)\n",
        "\n",
        "# Print tensor details\n",
        "interpreter = tf.lite.Interpreter(model_content=tflite_quant_model)\n",
        "interpreter.allocate_tensors()\n",
        "\n",
        "for tensor in interpreter.get_tensor_details():\n",
        "    print(tensor['name'], tensor['dtype'])\n",
        "    try:\n",
        "        # Attempt to get tensor data\n",
        "        tensor_data = interpreter.get_tensor(tensor['index'])\n",
        "        print(tensor_data)\n",
        "    except ValueError:\n",
        "        # Skip tensors with null data\n",
        "        print(f\"Skipping tensor '{tensor['name']}' as it has null data.\")"
      ],
      "metadata": {
        "colab": {
          "base_uri": "https://localhost:8080/"
        },
        "id": "Wu50RF1HBJZ_",
        "outputId": "93bc0848-282c-42c5-bda6-69df2116f46f"
      },
      "execution_count": 13,
      "outputs": [
        {
          "output_type": "stream",
          "name": "stdout",
          "text": [
            "Saved artifact at '/tmp/tmpbieevelh'. The following endpoints are available:\n",
            "\n",
            "* Endpoint 'serve'\n",
            "  args_0 (POSITIONAL_ONLY): TensorSpec(shape=(None, 2), dtype=tf.float32, name='keras_tensor')\n",
            "Output Type:\n",
            "  TensorSpec(shape=(None, 1), dtype=tf.float32, name=None)\n",
            "Captures:\n",
            "  134638545261328: TensorSpec(shape=(), dtype=tf.resource, name=None)\n",
            "  134638545262096: TensorSpec(shape=(), dtype=tf.resource, name=None)\n",
            "  134638545261136: TensorSpec(shape=(), dtype=tf.resource, name=None)\n",
            "  134638545263248: TensorSpec(shape=(), dtype=tf.resource, name=None)\n"
          ]
        },
        {
          "output_type": "stream",
          "name": "stderr",
          "text": [
            "/usr/local/lib/python3.11/dist-packages/tensorflow/lite/python/convert.py:983: UserWarning: Statistics for quantized inputs were expected, but not specified; continuing anyway.\n",
            "  warnings.warn(\n"
          ]
        },
        {
          "output_type": "stream",
          "name": "stdout",
          "text": [
            "serving_default_keras_tensor:0_int8 <class 'numpy.int8'>\n",
            "[[-32  60]]\n",
            "arith.constant <class 'numpy.int8'>\n",
            "[[ 127   14   53   76   64 -106   52  -42  -85  -44  -55    3   33   28\n",
            "    10  -92   47   67  -70   12   55  124   21   91   48   71   -7  -57\n",
            "    33    6  -50   21]]\n",
            "sequential_1/dense_1_2/Add/ReadVariableOp <class 'numpy.int32'>\n",
            "[1006]\n",
            "sequential_1/dense_1/Add/ReadVariableOp <class 'numpy.int32'>\n",
            "[ 3679  -680     0  4065 -3252 10707   679  8886     0 -5100     0     0\n",
            "   517     0  -259 -1294     0 -1436 -2625  -354     0  3627   165   831\n",
            "   610     0     0     0   544    22     0   106]\n",
            "sequential_1/dense_1/MatMul <class 'numpy.int8'>\n",
            "[[  98  -73]\n",
            " [  52  -11]\n",
            " [ -31  -52]\n",
            " [ 125  -61]\n",
            " [ -70   67]\n",
            " [ -16  -54]\n",
            " [ 121   49]\n",
            " [ -91   17]\n",
            " [   5 -101]\n",
            " [  29    7]\n",
            " [ -91  -36]\n",
            " [ -12  -25]\n",
            " [ 120  109]\n",
            " [  -7  -20]\n",
            " [  26   16]\n",
            " [  51  -63]\n",
            " [-106  -83]\n",
            " [ -58   56]\n",
            " [  -7   16]\n",
            " [ -95    1]\n",
            " [-102 -104]\n",
            " [  99  -68]\n",
            " [ 110   73]\n",
            " [ -36   90]\n",
            " [  97   -6]\n",
            " [ -82  -41]\n",
            " [  -8 -103]\n",
            " [  14 -101]\n",
            " [  32   66]\n",
            " [ -49   80]\n",
            " [ -64  -27]\n",
            " [ 127   58]]\n",
            "sequential_1/dense_1/MatMul;sequential_1/dense_1/Relu;sequential_1/dense_1/Add <class 'numpy.int8'>\n",
            "Skipping tensor 'sequential_1/dense_1/MatMul;sequential_1/dense_1/Relu;sequential_1/dense_1/Add' as it has null data.\n",
            "StatefulPartitionedCall_1:0_int8 <class 'numpy.int8'>\n",
            "[[96]]\n"
          ]
        }
      ]
    },
    {
      "cell_type": "markdown",
      "source": [
        "# **Test Set Classification Accuracy of 8-bit Model**\n",
        "\n",
        "---\n",
        "\n"
      ],
      "metadata": {
        "id": "SZZ-Oth4nJOj"
      }
    },
    {
      "cell_type": "code",
      "source": [
        "# Test accuracy of quantized model\n",
        "interpreter = tf.lite.Interpreter(model_content=tflite_quant_model)\n",
        "interpreter.allocate_tensors()\n",
        "\n",
        "input_details = interpreter.get_input_details()\n",
        "output_details = interpreter.get_output_details()\n",
        "\n",
        "# Define the transformation function\n",
        "def convert_to_int8(X, y):\n",
        "    # Multiply by 255 and subtract 128 cast to int8\n",
        "    X = tf.cast((X * 255) - 128, tf.int8)\n",
        "    y = tf.cast((y * 255) - 128, tf.int8)\n",
        "    return X, y\n",
        "\n",
        "# Apply the transformation to the dataset\n",
        "test_dataset_quantized_inputs = test_dataset.map(convert_to_int8).unbatch()\n",
        "test_dataset_quantized_targets = []  # list to store ground truth NO2 concentration values for calculating R² Score & MAE\n",
        "predictions = []  # list to store predicted NO2 concentration values for calculating R² Score & MAE\n",
        "\n",
        "# Example: Inspect the first batch\n",
        "for X_batch, y_batch in test_dataset_quantized_inputs.take(1):\n",
        "    print(X_batch.numpy(), y_batch.numpy())\n",
        "for input, target in test_dataset_quantized_inputs.batch(1):\n",
        "    interpreter.set_tensor(input_details[0]['index'], input.numpy().astype('int8'))\n",
        "    interpreter.invoke()\n",
        "    output = interpreter.get_tensor(output_details[0]['index'])\n",
        "    predictions.append(int(output))\n",
        "    test_dataset_quantized_targets.append(int(target.numpy()))\n",
        "\n",
        "print(f\"Quantized Model Test Set MAE: {np.mean(np.abs(np.array(predictions) - test_dataset_quantized_targets))}\")\n",
        "print(f\"Quantized Model Test Set R² Score: {r2_score(test_dataset_quantized_targets, np.array(predictions))}\")"
      ],
      "metadata": {
        "colab": {
          "base_uri": "https://localhost:8080/"
        },
        "id": "kSPokUuAfoOQ",
        "outputId": "81dcd6f6-c63b-4fa0-d73b-4570f1146b20"
      },
      "execution_count": 14,
      "outputs": [
        {
          "output_type": "stream",
          "name": "stdout",
          "text": [
            "[-95 -31] -91\n",
            "Quantized Model Test Set MAE: 15.096385542168674\n",
            "Quantized Model Test Set R² Score: 0.8165994293630214\n"
          ]
        },
        {
          "output_type": "stream",
          "name": "stderr",
          "text": [
            "<ipython-input-14-884ca647e175>:27: DeprecationWarning: Conversion of an array with ndim > 0 to a scalar is deprecated, and will error in future. Ensure you extract a single element from your array before performing this operation. (Deprecated NumPy 1.25.)\n",
            "  predictions.append(int(output))\n",
            "<ipython-input-14-884ca647e175>:28: DeprecationWarning: Conversion of an array with ndim > 0 to a scalar is deprecated, and will error in future. Ensure you extract a single element from your array before performing this operation. (Deprecated NumPy 1.25.)\n",
            "  test_dataset_quantized_targets.append(int(target.numpy()))\n"
          ]
        }
      ]
    },
    {
      "cell_type": "code",
      "source": [
        "# Load the quantized TFLite model\n",
        "interpreter = tf.lite.Interpreter(model_content=tflite_quant_model)\n",
        "interpreter.allocate_tensors()\n",
        "\n",
        "# Extract tensor details\n",
        "input_details = interpreter.get_input_details()\n",
        "output_details = interpreter.get_output_details()\n",
        "all_tensor_details = interpreter.get_tensor_details()\n",
        "\n",
        "# Extract weights, biases, scales, and zero points from allocated tensors\n",
        "quantized_params = {}\n",
        "for tensor in all_tensor_details:\n",
        "    # Check if the tensor has quantization parameters and valid data\n",
        "    try:\n",
        "        # Attempt to get tensor data\n",
        "        tensor_data = interpreter.get_tensor(tensor['index'])\n",
        "\n",
        "        if 'quantization_parameters' in tensor and tensor['quantization_parameters']['scales'].size > 0:\n",
        "            quantized_params[tensor['name']] = {\n",
        "                'values': tensor_data,\n",
        "                'scale': tensor['quantization_parameters']['scales'],\n",
        "                'zero_point': tensor['quantization_parameters']['zero_points']\n",
        "            }\n",
        "    except ValueError:\n",
        "        # Skip tensors with null data\n",
        "        if 'quantization_parameters' in tensor and tensor['quantization_parameters']['scales'].size > 0:\n",
        "            quantized_params[tensor['name']] = {\n",
        "                'scale': tensor['quantization_parameters']['scales'],\n",
        "                'zero_point': tensor['quantization_parameters']['zero_points']\n",
        "            }\n",
        "        print(f\"Skipping tensor '{tensor['name']}' as it has null data.\")\n",
        "\n",
        "print(\"Quantized parameters extracted.\")"
      ],
      "metadata": {
        "colab": {
          "base_uri": "https://localhost:8080/"
        },
        "id": "Jv4RuhPA3MDI",
        "outputId": "a76dcbdb-7772-4aa0-a0ed-7f07f8660d5f"
      },
      "execution_count": 15,
      "outputs": [
        {
          "output_type": "stream",
          "name": "stdout",
          "text": [
            "Skipping tensor 'sequential_1/dense_1/MatMul;sequential_1/dense_1/Relu;sequential_1/dense_1/Add' as it has null data.\n",
            "Quantized parameters extracted.\n"
          ]
        }
      ]
    },
    {
      "cell_type": "markdown",
      "source": [
        "# **Print Names, Weights, Scales, and Zero Points of Quantized Model Tensors'**"
      ],
      "metadata": {
        "id": "V3QtTCSOe_8r"
      }
    },
    {
      "cell_type": "code",
      "source": [
        "for name, params in quantized_params.items():\n",
        "    print(f\"{name} - Scale: {params['scale']}, Zero Point: {params['zero_point']}\")\n",
        "    if 'values' in params:\n",
        "      print(params['values'])"
      ],
      "metadata": {
        "colab": {
          "base_uri": "https://localhost:8080/"
        },
        "id": "4vO6T2gMerb9",
        "outputId": "d0f140ce-d922-475f-86aa-3aeb303e7d8d"
      },
      "execution_count": 16,
      "outputs": [
        {
          "output_type": "stream",
          "name": "stdout",
          "text": [
            "serving_default_keras_tensor:0_int8 - Scale: [0.00361139], Zero Point: [-128]\n",
            "[[0 0]]\n",
            "arith.constant - Scale: [0.00431388], Zero Point: [0]\n",
            "[[ 127   14   53   76   64 -106   52  -42  -85  -44  -55    3   33   28\n",
            "    10  -92   47   67  -70   12   55  124   21   91   48   71   -7  -57\n",
            "    33    6  -50   21]]\n",
            "sequential_1/dense_1_2/Add/ReadVariableOp - Scale: [1.2981408e-05], Zero Point: [0]\n",
            "[1006]\n",
            "sequential_1/dense_1/Add/ReadVariableOp - Scale: [1.37996485e-05], Zero Point: [0]\n",
            "[ 3679  -680     0  4065 -3252 10707   679  8886     0 -5100     0     0\n",
            "   517     0  -259 -1294     0 -1436 -2625  -354     0  3627   165   831\n",
            "   610     0     0     0   544    22     0   106]\n",
            "sequential_1/dense_1/MatMul - Scale: [0.00382115], Zero Point: [0]\n",
            "[[  98  -73]\n",
            " [  52  -11]\n",
            " [ -31  -52]\n",
            " [ 125  -61]\n",
            " [ -70   67]\n",
            " [ -16  -54]\n",
            " [ 121   49]\n",
            " [ -91   17]\n",
            " [   5 -101]\n",
            " [  29    7]\n",
            " [ -91  -36]\n",
            " [ -12  -25]\n",
            " [ 120  109]\n",
            " [  -7  -20]\n",
            " [  26   16]\n",
            " [  51  -63]\n",
            " [-106  -83]\n",
            " [ -58   56]\n",
            " [  -7   16]\n",
            " [ -95    1]\n",
            " [-102 -104]\n",
            " [  99  -68]\n",
            " [ 110   73]\n",
            " [ -36   90]\n",
            " [  97   -6]\n",
            " [ -82  -41]\n",
            " [  -8 -103]\n",
            " [  14 -101]\n",
            " [  32   66]\n",
            " [ -49   80]\n",
            " [ -64  -27]\n",
            " [ 127   58]]\n",
            "sequential_1/dense_1/MatMul;sequential_1/dense_1/Relu;sequential_1/dense_1/Add - Scale: [0.00300922], Zero Point: [-128]\n",
            "StatefulPartitionedCall_1:0_int8 - Scale: [0.00306223], Zero Point: [-128]\n",
            "[[48]]\n"
          ]
        }
      ]
    },
    {
      "cell_type": "markdown",
      "source": [
        "# **Map TFLite Provided Names to Intuitive Ones**\n",
        "The TFLite Layer names after quantization are not very intuitive.\n",
        "Use the names above + the [Netron](https://netron.app/) application to update dictionary below so that it is very clear which layer is which. *You may need to update the names if any changes are made to the notebook.*"
      ],
      "metadata": {
        "id": "dDUXkdPJAlNs"
      }
    },
    {
      "cell_type": "code",
      "source": [
        "# Layer name map\n",
        "layer_name_map = {\n",
        "    \"input_layer\": \"serving_default_keras_tensor:0_int8\",\n",
        "    \"layer_one_weights\": \"sequential_1/dense_1/MatMul\",\n",
        "    \"layer_one_bias\": \"sequential_1/dense_1/Add/ReadVariableOp\",\n",
        "    \"layer_one_output_activations\": \"sequential_1/dense_1/MatMul;sequential_1/dense_1/Relu;sequential_1/dense_1/Add\",\n",
        "    \"layer_two_weights\": \"arith.constant\",\n",
        "    \"layer_two_bias\": \"sequential_1/dense_1_2/Add/ReadVariableOp\",\n",
        "    \"output_layer\": \"StatefulPartitionedCall_1:0_int8\"\n",
        "}"
      ],
      "metadata": {
        "id": "GqeYV9Ko_kAq"
      },
      "execution_count": 17,
      "outputs": []
    },
    {
      "cell_type": "code",
      "source": [
        "input_layer_scale = quantized_params[layer_name_map[\"input_layer\"]][\"scale\"]\n",
        "input_layer_zero_point = quantized_params[layer_name_map[\"input_layer\"]][\"zero_point\"]\n",
        "\n",
        "layer_one_weights = quantized_params[layer_name_map[\"layer_one_weights\"]][\"values\"]\n",
        "layer_one_weights_scale = quantized_params[layer_name_map[\"layer_one_weights\"]][\"scale\"]\n",
        "layer_one_weights_zero_point = quantized_params[layer_name_map[\"layer_one_weights\"]][\"zero_point\"]\n",
        "layer_one_bias = quantized_params[layer_name_map[\"layer_one_bias\"]][\"values\"]\n",
        "\n",
        "layer_one_output_activations_scale = quantized_params[layer_name_map[\"layer_one_output_activations\"]][\"scale\"]\n",
        "layer_one_output_activations_zero_point = quantized_params[layer_name_map[\"layer_one_output_activations\"]][\"zero_point\"]\n",
        "\n",
        "layer_two_weights = quantized_params[layer_name_map[\"layer_two_weights\"]][\"values\"]\n",
        "layer_two_weights_scale = quantized_params[layer_name_map[\"layer_two_weights\"]][\"scale\"]\n",
        "layer_two_weights_zero_point = quantized_params[layer_name_map[\"layer_two_weights\"]][\"zero_point\"]\n",
        "layer_two_bias = quantized_params[layer_name_map[\"layer_two_bias\"]][\"values\"]\n",
        "\n",
        "output_layer_scale = quantized_params[layer_name_map[\"output_layer\"]][\"scale\"]\n",
        "output_layer_zero_point = quantized_params[layer_name_map[\"output_layer\"]][\"zero_point\"]"
      ],
      "metadata": {
        "id": "txvONXs98UfK"
      },
      "execution_count": 18,
      "outputs": []
    },
    {
      "cell_type": "code",
      "source": [
        "def calculate_fixed_point_multiplier(input_scale, weight_scale, output_scale):\n",
        "    # Calculate M0 and N from M = 2^-N M0 = (S1 * S2 / S3)\n",
        "    multiplier = input_scale * weight_scale / output_scale\n",
        "    shift = 0\n",
        "    while multiplier < 0.5:\n",
        "        multiplier *= 2\n",
        "        shift += 1\n",
        "    quantized_multiplier = multiplier * math.pow(2, 31)\n",
        "    return quantized_multiplier, shift"
      ],
      "metadata": {
        "id": "l00b5QnEaRmX"
      },
      "execution_count": 19,
      "outputs": []
    },
    {
      "cell_type": "code",
      "source": [
        "# First layer requantization params\n",
        "layer_one_multiplier, layer_one_shift = calculate_fixed_point_multiplier(input_layer_scale, layer_one_weights_scale, layer_one_output_activations_scale)\n",
        "\n",
        "# Second layer requantization params\n",
        "layer_two_multiplier, layer_two_shift = calculate_fixed_point_multiplier(layer_one_output_activations_scale, layer_two_weights_scale, output_layer_scale)\n",
        "\n",
        "subscript_printing = str.maketrans(\"123456789\", \"₁₂₃₄₅₆₇₈₉\")\n",
        "print(\"Layer 1 Requantization Params:\")\n",
        "print(\"M01: \".translate(subscript_printing) + f\"{layer_one_multiplier[0]:.2f}\")\n",
        "print(\"N1: \".translate(subscript_printing)  + f\"{layer_one_shift}\")\n",
        "\n",
        "print(\"Layer 2 Requantization Params:\")\n",
        "print(\"M02: \".translate(subscript_printing) + f\"{layer_two_multiplier[0]:.2f}\")\n",
        "print(\"N2: \".translate(subscript_printing)  + f\"{layer_two_shift}\")"
      ],
      "metadata": {
        "colab": {
          "base_uri": "https://localhost:8080/"
        },
        "id": "ibGduAd2bMYE",
        "outputId": "58ac9a30-a7f6-45fa-c39c-a8fc084b405e"
      },
      "execution_count": 20,
      "outputs": [
        {
          "output_type": "stream",
          "name": "stdout",
          "text": [
            "Layer 1 Requantization Params:\n",
            "M0₁: 1260531456.00\n",
            "N₁: 7\n",
            "Layer 2 Requantization Params:\n",
            "M0₂: 1165263744.00\n",
            "N₂: 7\n"
          ]
        }
      ]
    },
    {
      "cell_type": "markdown",
      "source": [
        "# **Emulate 8-bit Integer Inference with Numpy**"
      ],
      "metadata": {
        "id": "pDmEYHIJoB5U"
      }
    },
    {
      "cell_type": "code",
      "source": [
        "# Create copy of test dataset\n",
        "TEST_SET_SIZE = 166\n",
        "test_dataset_copy = (iter(test_dataset_quantized_inputs.take(TEST_SET_SIZE)))"
      ],
      "metadata": {
        "id": "Sskn2QitsQ1e"
      },
      "execution_count": 21,
      "outputs": []
    },
    {
      "cell_type": "code",
      "source": [
        "def run_tflite_golden_inference(tflite_model, inputs, debug=False):\n",
        "    #\n",
        "    # Golden Reference Implementation of TFLite Inference running on a single sample\n",
        "    #\n",
        "\n",
        "    # Add batch dim to single data sample\n",
        "    inputs = np.expand_dims(inputs, 0)\n",
        "\n",
        "    # Load TFLite model and allocate tensors\n",
        "    interpreter = tf.lite.Interpreter(model_content=tflite_model, experimental_preserve_all_tensors=True)\n",
        "    interpreter.allocate_tensors()\n",
        "\n",
        "    # Get input and output tensors\n",
        "    input_details = interpreter.get_input_details()\n",
        "    output_details = interpreter.get_output_details()\n",
        "\n",
        "    # Load input tensor\n",
        "    interpreter.set_tensor(input_details[0]['index'], inputs)\n",
        "\n",
        "    # Run the model\n",
        "    interpreter.invoke()\n",
        "\n",
        "    # Print each layer's output if needed for verification\n",
        "    if debug:\n",
        "      print({\n",
        "          t['name']: interpreter.get_tensor(t['index'])\n",
        "          for t in interpreter.get_tensor_details()\n",
        "      })\n",
        "\n",
        "    return interpreter.get_tensor(output_details[0]['index'])"
      ],
      "metadata": {
        "id": "jja_F8B4sRqV"
      },
      "execution_count": 22,
      "outputs": []
    },
    {
      "cell_type": "code",
      "source": [
        "def run_numpy_inference(input):\n",
        "  #\n",
        "  # Numpy Reference Implementation of TFLite Inference running on a single sample\n",
        "  #\n",
        "\n",
        "  # (Inputs * Layer 1 Weights) + Bias followed by ReLU\n",
        "  x = np.matmul((input.numpy().astype(np.int32) - input_layer_zero_point.astype(np.int32)),(layer_one_weights.T.astype(np.int32) - layer_one_weights_zero_point.astype(np.int32)))\n",
        "  x = x + layer_one_bias\n",
        "  x = np.maximum(x, 0)\n",
        "\n",
        "  # Requantization pipeline\n",
        "  x = x * layer_one_multiplier\n",
        "  x = np.round((x / np.power(2,31))).astype(np.int32)\n",
        "  x = np.round((x / np.power(2, layer_one_shift))).astype(np.int32)\n",
        "  x = x + layer_one_output_activations_zero_point.astype(np.int32)\n",
        "  x = np.clip(x, -128, 127)\n",
        "\n",
        "  # (Layer 1 Activations * Layer 2 Weights) + Bias\n",
        "  x = np.matmul((x.astype(np.int32) - layer_one_output_activations_zero_point.astype(np.int32)), (layer_two_weights.T.astype(np.int32) - layer_two_weights_zero_point.astype(np.int32)))\n",
        "  x = x + layer_two_bias\n",
        "\n",
        "  # Requantization pipeline\n",
        "  x = x * layer_two_multiplier\n",
        "  x = np.round((x / np.power(2,31))).astype(np.int32)\n",
        "  x = np.round((x / np.power(2, layer_two_shift))).astype(np.int32)\n",
        "  x = x + output_layer_zero_point.astype(np.int32)\n",
        "  x = np.clip(x, -128, 127)\n",
        "\n",
        "  return x\n"
      ],
      "metadata": {
        "id": "5_Hx0jC7oBje"
      },
      "execution_count": 23,
      "outputs": []
    },
    {
      "cell_type": "code",
      "source": [
        "tflite_predictions = []\n",
        "numpy_predictions = []\n",
        "ground_truth = []\n",
        "\n",
        "for inputs, targets in test_dataset_copy:\n",
        "  tflite_output = run_tflite_golden_inference(tflite_quant_model, inputs.numpy().astype(np.int8))\n",
        "  numpy_output = run_numpy_inference(inputs)\n",
        "  tflite_predictions.append(int(tflite_output))\n",
        "  numpy_predictions.append(int(numpy_output))\n",
        "  ground_truth.append(int(targets.numpy()))\n",
        "  # Make sure that raw values of output tensors match exactly to validate numpy reference implementation\n",
        "  if np.array_equal(tflite_output.flatten()[0], numpy_output.flatten()):\n",
        "    print(tflite_output)\n",
        "    print(numpy_output)\n",
        "    print(\"ERROR: TFlite Golden Output Tensor does not match Numpy Implementation Output Tensor\")\n",
        "\n",
        "# Make sure accuracy is exactly the same to validate numpy implementation\n",
        "tflite_r2_score = r2_score(ground_truth, tflite_predictions)\n",
        "numpy_r2_score = r2_score(ground_truth, numpy_predictions)\n",
        "print(f\"TF Lite R² score: {tflite_r2_score}\")\n",
        "print(f\"Numpy R² score: {numpy_r2_score}\")\n",
        "print(\"Numpy Implementation matches TFLite Golden Implementation!\" if abs(tflite_r2_score - numpy_r2_score) <= 1e4 else \"Numpy Implementation does NOT match TFLite Golden Implementation!\")"
      ],
      "metadata": {
        "colab": {
          "base_uri": "https://localhost:8080/"
        },
        "id": "S1qDAzufb-ZD",
        "outputId": "78013588-15d9-472f-ab45-05d629a33fb4"
      },
      "execution_count": 24,
      "outputs": [
        {
          "output_type": "stream",
          "name": "stderr",
          "text": [
            "<ipython-input-24-782384067832>:8: DeprecationWarning: Conversion of an array with ndim > 0 to a scalar is deprecated, and will error in future. Ensure you extract a single element from your array before performing this operation. (Deprecated NumPy 1.25.)\n",
            "  tflite_predictions.append(int(tflite_output))\n",
            "<ipython-input-24-782384067832>:9: DeprecationWarning: Conversion of an array with ndim > 0 to a scalar is deprecated, and will error in future. Ensure you extract a single element from your array before performing this operation. (Deprecated NumPy 1.25.)\n",
            "  numpy_predictions.append(int(numpy_output))\n"
          ]
        },
        {
          "output_type": "stream",
          "name": "stdout",
          "text": [
            "TF Lite R² score: 0.8164144775839145\n",
            "Numpy R² score: 0.8165725815241187\n",
            "Numpy Implementation matches TFLite Golden Implementation!\n"
          ]
        }
      ]
    },
    {
      "cell_type": "markdown",
      "source": [
        "# **Write Test Set Data to CSV for C Implementation in Flexibench Repository**"
      ],
      "metadata": {
        "id": "baAWcWzjEK5Q"
      }
    },
    {
      "cell_type": "code",
      "source": [
        "def dump_test_data_to_csv(dataset, headers, filename):\n",
        "  with open(filename, 'w', newline='') as csvfile:\n",
        "    writer = csv.writer(csvfile)\n",
        "    writer.writerow(headers)\n",
        "    tflite_predictions = []\n",
        "    ground_truth = []\n",
        "    for inputs, targets in dataset:\n",
        "      # Write the original TFLite model prediction along with inputs and ground truth label to the CSV for reference\n",
        "      tflite_model_output = run_tflite_golden_inference(tflite_quant_model, inputs)\n",
        "      tflite_predictions.append(int(tflite_model_output))\n",
        "      ground_truth.append(int(targets.numpy()))\n",
        "      writer = csv.writer(csvfile)\n",
        "      writer.writerow(np.append(inputs.numpy(), [int(tflite_model_output), targets.numpy()]))\n",
        "    print(f\"TF Lite R² score: {r2_score(ground_truth, tflite_predictions)}\")\n",
        "    print(\"CSV saved.\")\n",
        "\n",
        "column_names = ['CO(GT)'] + ['NO2(GT)'] + ['TFLite_Model_Prediction'] + ['NOx(GT)_Golden_Label']\n",
        "dataset_copy_for_csv = iter(test_dataset_quantized_inputs.take(TEST_SET_SIZE))\n",
        "dump_test_data_to_csv(dataset_copy_for_csv, column_names, 'samples.csv')"
      ],
      "metadata": {
        "colab": {
          "base_uri": "https://localhost:8080/"
        },
        "id": "Fp2rAmNG_dFh",
        "outputId": "579cbd38-18af-410c-85ef-dda76ec2f3db"
      },
      "execution_count": 25,
      "outputs": [
        {
          "output_type": "stream",
          "name": "stderr",
          "text": [
            "<ipython-input-25-dde715989c1c>:10: DeprecationWarning: Conversion of an array with ndim > 0 to a scalar is deprecated, and will error in future. Ensure you extract a single element from your array before performing this operation. (Deprecated NumPy 1.25.)\n",
            "  tflite_predictions.append(int(tflite_model_output))\n",
            "<ipython-input-25-dde715989c1c>:13: DeprecationWarning: Conversion of an array with ndim > 0 to a scalar is deprecated, and will error in future. Ensure you extract a single element from your array before performing this operation. (Deprecated NumPy 1.25.)\n",
            "  writer.writerow(np.append(inputs.numpy(), [int(tflite_model_output), targets.numpy()]))\n"
          ]
        },
        {
          "output_type": "stream",
          "name": "stdout",
          "text": [
            "TF Lite R² score: 0.8164144775839145\n",
            "CSV saved.\n"
          ]
        }
      ]
    }
  ]
}