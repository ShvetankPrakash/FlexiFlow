{
 "cells": [
  {
   "cell_type": "code",
   "execution_count": 1,
   "id": "a7a1f767",
   "metadata": {},
   "outputs": [],
   "source": [
    "import pandas as pd\n",
    "import numpy as np\n",
    "from sklearn.model_selection import train_test_split\n",
    "from sklearn.metrics import accuracy_score\n",
    "from xgboost import XGBClassifier\n",
    "from bayes_opt import BayesianOptimization\n"
   ]
  },
  {
   "cell_type": "code",
   "execution_count": null,
   "id": "e0423ec3",
   "metadata": {},
   "outputs": [],
   "source": [
    "import pandas as pd\n",
    "\n",
    "# Read in the training and test data\n",
    "train_df = pd.read_csv('training_data.csv')\n",
    "test_df = pd.read_csv('samples.csv')\n",
    "\n",
    "# Split into X and y\n",
    "X_train = train_df.drop('AQI_Bucket', axis=1)\n",
    "y_train = train_df['AQI_Bucket']\n",
    "X_test = test_df.drop('AQI_Bucket', axis=1)\n",
    "y_test = test_df['AQI_Bucket']\n",
    "\n"
   ]
  },
  {
   "cell_type": "code",
   "execution_count": 3,
   "id": "d3073c79",
   "metadata": {},
   "outputs": [
    {
     "name": "stdout",
     "output_type": "stream",
     "text": [
      "|   iter    |  target   | max_depth | learni... | n_esti... |   gamma   |\n",
      "-------------------------------------------------------------------------\n",
      "| \u001b[39m1        \u001b[39m | \u001b[39m0.7980362\u001b[39m | \u001b[39m5.6217808\u001b[39m | \u001b[39m0.2857071\u001b[39m | \u001b[39m7.5879454\u001b[39m | \u001b[39m2.9932924\u001b[39m |\n",
      "| \u001b[39m2        \u001b[39m | \u001b[39m0.7773827\u001b[39m | \u001b[39m4.0921304\u001b[39m | \u001b[39m0.0552384\u001b[39m | \u001b[39m1.5227525\u001b[39m | \u001b[39m4.3308807\u001b[39m |\n",
      "| \u001b[39m3        \u001b[39m | \u001b[39m0.7948197\u001b[39m | \u001b[39m7.2078050\u001b[39m | \u001b[39m0.2153410\u001b[39m | \u001b[39m1.1852604\u001b[39m | \u001b[39m4.8495492\u001b[39m |\n"
     ]
    },
    {
     "name": "stderr",
     "output_type": "stream",
     "text": [
      "/Users/andy/research/Flexibench/.venv/lib/python3.13/site-packages/xgboost/training.py:183: UserWarning: [16:40:39] WARNING: /Users/runner/work/xgboost/xgboost/src/learner.cc:738: \n",
      "Parameters: { \"use_label_encoder\" } are not used.\n",
      "\n",
      "  bst.update(dtrain, iteration=i, fobj=obj)\n",
      "/Users/andy/research/Flexibench/.venv/lib/python3.13/site-packages/xgboost/training.py:183: UserWarning: [16:40:39] WARNING: /Users/runner/work/xgboost/xgboost/src/learner.cc:738: \n",
      "Parameters: { \"use_label_encoder\" } are not used.\n",
      "\n",
      "  bst.update(dtrain, iteration=i, fobj=obj)\n",
      "/Users/andy/research/Flexibench/.venv/lib/python3.13/site-packages/xgboost/training.py:183: UserWarning: [16:40:39] WARNING: /Users/runner/work/xgboost/xgboost/src/learner.cc:738: \n",
      "Parameters: { \"use_label_encoder\" } are not used.\n",
      "\n",
      "  bst.update(dtrain, iteration=i, fobj=obj)\n",
      "/Users/andy/research/Flexibench/.venv/lib/python3.13/site-packages/xgboost/training.py:183: UserWarning: [16:40:39] WARNING: /Users/runner/work/xgboost/xgboost/src/learner.cc:738: \n",
      "Parameters: { \"use_label_encoder\" } are not used.\n",
      "\n",
      "  bst.update(dtrain, iteration=i, fobj=obj)\n"
     ]
    },
    {
     "name": "stdout",
     "output_type": "stream",
     "text": [
      "| \u001b[35m4        \u001b[39m | \u001b[35m0.7985441\u001b[39m | \u001b[35m6.6732950\u001b[39m | \u001b[35m0.0796367\u001b[39m | \u001b[35m9.7496467\u001b[39m | \u001b[35m0.5137295\u001b[39m |\n",
      "| \u001b[39m5        \u001b[39m | \u001b[39m0.7966819\u001b[39m | \u001b[39m6.6747199\u001b[39m | \u001b[39m0.0681601\u001b[39m | \u001b[39m9.6975104\u001b[39m | \u001b[39m0.5167987\u001b[39m |\n"
     ]
    },
    {
     "name": "stderr",
     "output_type": "stream",
     "text": [
      "/Users/andy/research/Flexibench/.venv/lib/python3.13/site-packages/xgboost/training.py:183: UserWarning: [16:40:39] WARNING: /Users/runner/work/xgboost/xgboost/src/learner.cc:738: \n",
      "Parameters: { \"use_label_encoder\" } are not used.\n",
      "\n",
      "  bst.update(dtrain, iteration=i, fobj=obj)\n",
      "/Users/andy/research/Flexibench/.venv/lib/python3.13/site-packages/xgboost/training.py:183: UserWarning: [16:40:39] WARNING: /Users/runner/work/xgboost/xgboost/src/learner.cc:738: \n",
      "Parameters: { \"use_label_encoder\" } are not used.\n",
      "\n",
      "  bst.update(dtrain, iteration=i, fobj=obj)\n"
     ]
    },
    {
     "name": "stdout",
     "output_type": "stream",
     "text": [
      "| \u001b[35m6        \u001b[39m | \u001b[35m0.8053157\u001b[39m | \u001b[35m6.5833558\u001b[39m | \u001b[35m0.3      \u001b[39m | \u001b[35m10.0     \u001b[39m | \u001b[35m0.3183143\u001b[39m |\n",
      "| \u001b[35m7        \u001b[39m | \u001b[35m0.8065007\u001b[39m | \u001b[35m7.2239624\u001b[39m | \u001b[35m0.2302209\u001b[39m | \u001b[35m8.4532248\u001b[39m | \u001b[35m0.8097380\u001b[39m |\n"
     ]
    },
    {
     "name": "stderr",
     "output_type": "stream",
     "text": [
      "/Users/andy/research/Flexibench/.venv/lib/python3.13/site-packages/xgboost/training.py:183: UserWarning: [16:40:39] WARNING: /Users/runner/work/xgboost/xgboost/src/learner.cc:738: \n",
      "Parameters: { \"use_label_encoder\" } are not used.\n",
      "\n",
      "  bst.update(dtrain, iteration=i, fobj=obj)\n",
      "/Users/andy/research/Flexibench/.venv/lib/python3.13/site-packages/xgboost/training.py:183: UserWarning: [16:40:39] WARNING: /Users/runner/work/xgboost/xgboost/src/learner.cc:738: \n",
      "Parameters: { \"use_label_encoder\" } are not used.\n",
      "\n",
      "  bst.update(dtrain, iteration=i, fobj=obj)\n"
     ]
    },
    {
     "name": "stdout",
     "output_type": "stream",
     "text": [
      "| \u001b[39m8        \u001b[39m | \u001b[39m0.8059928\u001b[39m | \u001b[39m7.4698750\u001b[39m | \u001b[39m0.3      \u001b[39m | \u001b[39m7.9847285\u001b[39m | \u001b[39m0.9341014\u001b[39m |\n",
      "| \u001b[35m9        \u001b[39m | \u001b[35m0.8073472\u001b[39m | \u001b[35m7.8782046\u001b[39m | \u001b[35m0.3      \u001b[39m | \u001b[35m8.5374060\u001b[39m | \u001b[35m0.9282994\u001b[39m |\n"
     ]
    },
    {
     "name": "stderr",
     "output_type": "stream",
     "text": [
      "/Users/andy/research/Flexibench/.venv/lib/python3.13/site-packages/xgboost/training.py:183: UserWarning: [16:40:39] WARNING: /Users/runner/work/xgboost/xgboost/src/learner.cc:738: \n",
      "Parameters: { \"use_label_encoder\" } are not used.\n",
      "\n",
      "  bst.update(dtrain, iteration=i, fobj=obj)\n",
      "/Users/andy/research/Flexibench/.venv/lib/python3.13/site-packages/xgboost/training.py:183: UserWarning: [16:40:40] WARNING: /Users/runner/work/xgboost/xgboost/src/learner.cc:738: \n",
      "Parameters: { \"use_label_encoder\" } are not used.\n",
      "\n",
      "  bst.update(dtrain, iteration=i, fobj=obj)\n"
     ]
    },
    {
     "name": "stdout",
     "output_type": "stream",
     "text": [
      "| \u001b[39m10       \u001b[39m | \u001b[39m0.8066700\u001b[39m | \u001b[39m7.4860866\u001b[39m | \u001b[39m0.3      \u001b[39m | \u001b[39m8.4823112\u001b[39m | \u001b[39m1.5509666\u001b[39m |\n",
      "=========================================================================\n",
      "Best parameters found: {'target': np.float64(0.8073472151684442), 'params': {'max_depth': np.float64(7.878204661394358), 'learning_rate': np.float64(0.3), 'n_estimators': np.float64(8.537406039796043), 'gamma': np.float64(0.9282994045112581)}}\n"
     ]
    }
   ],
   "source": [
    "\n",
    "# Define the function to optimize\n",
    "def xgb_evaluate(max_depth, learning_rate, n_estimators, gamma):\n",
    "    params = {\n",
    "        'max_depth': int(max_depth),\n",
    "        'learning_rate': learning_rate,\n",
    "        'n_estimators': int(n_estimators),\n",
    "        'gamma': gamma,\n",
    "        'use_label_encoder': False,\n",
    "        'eval_metric': 'mlogloss'\n",
    "    }\n",
    "    model = XGBClassifier(**params)\n",
    "    model.fit(X_train, y_train)\n",
    "    preds = model.predict(X_test)\n",
    "    return accuracy_score(y_test, preds)\n",
    "\n",
    "# Set the bounds of the hyperparameters\n",
    "pbounds = {\n",
    "    'max_depth': (3, 10),\n",
    "    'learning_rate': (0.01, 0.3),\n",
    "    'n_estimators': (1, 10),\n",
    "    'gamma': (0, 5)\n",
    "}\n",
    "\n",
    "optimizer = BayesianOptimization(\n",
    "    f=xgb_evaluate,\n",
    "    pbounds=pbounds,\n",
    "    random_state=42,\n",
    "    verbose=2\n",
    ")\n",
    "\n",
    "optimizer.maximize(init_points=3, n_iter=7)\n",
    "\n",
    "print(\"Best parameters found:\", optimizer.max)\n"
   ]
  },
  {
   "cell_type": "code",
   "execution_count": 4,
   "id": "1074f04d",
   "metadata": {},
   "outputs": [
    {
     "name": "stdout",
     "output_type": "stream",
     "text": [
      "Train Accuracy: 0.8405\n",
      "Test Accuracy: 0.8073\n"
     ]
    },
    {
     "name": "stderr",
     "output_type": "stream",
     "text": [
      "/Users/andy/research/Flexibench/.venv/lib/python3.13/site-packages/xgboost/training.py:183: UserWarning: [16:40:43] WARNING: /Users/runner/work/xgboost/xgboost/src/learner.cc:738: \n",
      "Parameters: { \"use_label_encoder\" } are not used.\n",
      "\n",
      "  bst.update(dtrain, iteration=i, fobj=obj)\n"
     ]
    }
   ],
   "source": [
    "# Get the best parameters from the optimizer\n",
    "best_params = optimizer.max['params']\n",
    "best_params['max_depth'] = int(best_params['max_depth'])\n",
    "best_params['n_estimators'] = int(best_params['n_estimators'])\n",
    "best_params['use_label_encoder'] = False\n",
    "best_params['eval_metric'] = 'mlogloss'\n",
    "\n",
    "# Train model with best parameters\n",
    "best_model = XGBClassifier(**best_params)\n",
    "best_model.fit(X_train, y_train)\n",
    "\n",
    "# Calculate train accuracy\n",
    "train_preds = best_model.predict(X_train)\n",
    "train_acc = accuracy_score(y_train, train_preds)\n",
    "\n",
    "# Calculate test accuracy\n",
    "test_preds = best_model.predict(X_test)\n",
    "test_acc = accuracy_score(y_test, test_preds)\n",
    "\n",
    "print(f\"Train Accuracy: {train_acc:.4f}\")\n",
    "print(f\"Test Accuracy: {test_acc:.4f}\")\n"
   ]
  },
  {
   "cell_type": "code",
   "execution_count": 5,
   "id": "130e3663",
   "metadata": {},
   "outputs": [
    {
     "data": {
      "text/plain": [
       "{'max_depth': 7,\n",
       " 'learning_rate': np.float64(0.3),\n",
       " 'n_estimators': 8,\n",
       " 'gamma': np.float64(0.9282994045112581),\n",
       " 'use_label_encoder': False,\n",
       " 'eval_metric': 'mlogloss'}"
      ]
     },
     "execution_count": 5,
     "metadata": {},
     "output_type": "execute_result"
    }
   ],
   "source": [
    "best_params"
   ]
  },
  {
   "cell_type": "code",
   "execution_count": 11,
   "id": "8779a309",
   "metadata": {},
   "outputs": [
    {
     "data": {
      "image/png": "[encoded data removed]",
      "text/plain": [
       "<Figure size 1000x400 with 1 Axes>"
      ]
     },
     "metadata": {},
     "output_type": "display_data"
    }
   ],
   "source": [
    "import matplotlib.pyplot as plt\n",
    "\n",
    "# Collect all leaf values from all trees\n",
    "leaf_values = []\n",
    "\n",
    "for tree_json in best_model.get_booster().get_dump(dump_format='json'):\n",
    "    def collect_leaves(node):\n",
    "        if \"leaf\" in node:\n",
    "            leaf_values.append(node[\"leaf\"])\n",
    "        elif \"children\" in node:\n",
    "            for child in node[\"children\"]:\n",
    "                collect_leaves(child)\n",
    "    import json\n",
    "    tree = json.loads(tree_json)\n",
    "    collect_leaves(tree)\n",
    "\n",
    "plt.figure(figsize=(10, 4))\n",
    "plt.hist(leaf_values, bins=30, edgecolor='black')\n",
    "plt.title(\"Histogram of leaf values of all trees in best_model\")\n",
    "plt.xlabel(\"Leaf value\")\n",
    "plt.ylabel(\"Frequency\")\n",
    "plt.grid(True)\n",
    "plt.show()\n"
   ]
  },
  {
   "cell_type": "code",
   "execution_count": null,
   "id": "1664f3fa",
   "metadata": {},
   "outputs": [],
   "source": [
    "# Write out all trees of the trained XGBoost model as C functions for inference, quantizing the leaf node values.\n",
    "\n",
    "import xgboost as xgb\n",
    "import json\n",
    "\n",
    "# Get all trees as JSON\n",
    "booster = best_model.get_booster()\n",
    "tree_jsons = booster.get_dump(dump_format='json')\n",
    "\n"
   ]
  },
  {
   "cell_type": "code",
   "execution_count": 19,
   "id": "6ef78d96",
   "metadata": {},
   "outputs": [
    {
     "name": "stdout",
     "output_type": "stream",
     "text": [
      "Class 0: 8 trees\n",
      "Class 1: 8 trees\n",
      "Class 2: 8 trees\n",
      "Class 3: 8 trees\n",
      "Class 4: 8 trees\n",
      "Class 5: 8 trees\n"
     ]
    }
   ],
   "source": [
    "# Differentiate which trees correspond to each class from 0 to 5\n",
    "\n",
    "# XGBoost multiclass: trees are grouped in order, one per class per boosting round.\n",
    "n_classes = len(best_model.classes_) if hasattr(best_model, \"classes_\") else best_model.n_classes_\n",
    "n_trees = len(tree_jsons)\n",
    "trees_per_class = n_trees // n_classes\n",
    "\n",
    "trees_by_class = {c: [] for c in range(n_classes)}\n",
    "for i, tree_json in enumerate(tree_jsons):\n",
    "    class_idx = i % n_classes\n",
    "    trees_by_class[class_idx].append(tree_json)\n",
    "\n",
    "for c in range(n_classes):\n",
    "    print(f\"Class {c}: {len(trees_by_class[c])} trees\")"
   ]
  },
  {
   "cell_type": "code",
   "execution_count": 22,
   "id": "f6c65f5d",
   "metadata": {},
   "outputs": [],
   "source": [
    "\n",
    "\n",
    "feature_names = booster.feature_names\n",
    "\n",
    "# Use the min/max from earlier cells\n",
    "min_leaf = min(leaf_values)\n",
    "max_leaf = max(leaf_values)\n",
    "\n",
    "def get_feature_index(split_name, feature_names):\n",
    "    # XGBoost split names are like \"f0\", \"f1\", etc.\n",
    "    if split_name in feature_names:\n",
    "        return feature_names.index(split_name)\n",
    "    if split_name.startswith(\"f\"):\n",
    "        return int(split_name[1:])\n",
    "    raise ValueError(f\"Unknown split name: {split_name}\")\n",
    "\n",
    "def quantize_leaf_value(value, min_val, max_val):\n",
    "    \"\"\"\n",
    "    Quantize a float leaf value in [min_val, max_val] to int16 in [-32768, 32767].\n",
    "    \"\"\"\n",
    "    if max_val == min_val:\n",
    "        return 0\n",
    "    scale = (value - min_val) / (max_val - min_val)\n",
    "    quantized = int(round(scale * (2**15 - 1) * 2 - (2**16 - 1)/2))\n",
    "    quantized = max(-32768, min(32767, quantized))\n",
    "    return quantized\n",
    "\n",
    "def emit_c_tree_quantized(node, feature_names, indent=2):\n",
    "    pad = \" \" * indent\n",
    "    if \"leaf\" in node:\n",
    "        quantized_leaf = quantize_leaf_value(node[\"leaf\"], min_leaf, max_leaf)\n",
    "        return f\"{pad}return {quantized_leaf};\\n\"\n",
    "    else:\n",
    "        fidx = get_feature_index(node['split'], feature_names)\n",
    "        thresh = node['split_condition']\n",
    "        left = emit_c_tree_quantized(node['children'][0], feature_names, indent+2)\n",
    "        right = emit_c_tree_quantized(node['children'][1], feature_names, indent+2)\n",
    "        s = f\"{pad}if (features[{fidx}] < {thresh}) {{\\n\"\n",
    "        s += left\n",
    "        s += f\"{pad}}} else {{\\n\"\n",
    "        s += right\n",
    "        s += f\"{pad}}}\\n\"\n",
    "        return s\n",
    "\n",
    "# Generate the C functions for all trees, quantizing the leaf values\n",
    "c_funcs = []\n",
    "for i, tree_json in enumerate(tree_jsons):\n",
    "    tree = json.loads(tree_json)\n",
    "    c_func = f\"short tree{i}(const unsigned char* features) {{\\n\"\n",
    "    c_func += emit_c_tree_quantized(tree, feature_names)\n",
    "    c_func += \"}\\n\"\n",
    "    c_funcs.append(c_func)\n",
    "\n",
    "# Write the C functions for all trees to a file, and add a prediction function\n",
    "with open(\"air-pollution.c\", \"w\") as f:\n",
    "    # Write all tree functions\n",
    "    for c_func in c_funcs:\n",
    "        f.write(c_func)\n",
    "        f.write(\"\\n\")\n",
    "\n",
    "    # Write the boosted prediction function\n",
    "    f.write(\"\"\"\n",
    "int boosted_predict(const unsigned char* features) {\n",
    "    int acc[6] = {0, 0, 0, 0, 0, 0};\n",
    "\"\"\")\n",
    "    for i in range(len(c_funcs)):\n",
    "        f.write(f\"    acc[{i % 6}] += tree{i}(features);\\n\")\n",
    "    f.write(\"    int max_idx = 0;\\n\")\n",
    "    f.write(\"    for (int i = 1; i < 6; ++i) {\\n\")\n",
    "    f.write(\"        if (acc[i] > acc[max_idx]) max_idx = i;\\n\")\n",
    "    f.write(\"    }\\n\")\n",
    "    f.write(\"    return max_idx;\\n}\\n\")\n"
   ]
  }
 ],
 "metadata": {
  "kernelspec": {
   "display_name": ".venv",
   "language": "python",
   "name": "python3"
  },
  "language_info": {
   "codemirror_mode": {
    "name": "ipython",
    "version": 3
   },
   "file_extension": ".py",
   "mimetype": "text/x-python",
   "name": "python",
   "nbconvert_exporter": "python",
   "pygments_lexer": "ipython3",
   "version": "3.13.1"
  }
 },
 "nbformat": 4,
 "nbformat_minor": 5
}
