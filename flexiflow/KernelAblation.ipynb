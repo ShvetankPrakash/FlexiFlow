{
 "cells": [
  {
   "cell_type": "markdown",
   "id": "16c27f6b",
   "metadata": {},
   "source": [
    "# Food Spoilage Kernel Case Study"
   ]
  },
  {
   "cell_type": "markdown",
   "id": "657ad432",
   "metadata": {},
   "source": [
    "## Setup"
   ]
  },
  {
   "cell_type": "code",
   "execution_count": 1,
   "id": "c52a742f",
   "metadata": {},
   "outputs": [],
   "source": [
    "import numpy as np\n",
    "import seaborn as sns\n",
    "import matplotlib.pyplot as plt\n",
    "from matplotlib.lines import Line2D\n",
    "import ipywidgets as widgets\n",
    "from ipywidgets import interact, FloatSlider, IntSlider, Dropdown\n",
    "\n",
    "from lifetime_modeling import *\n",
    "from ablation_modeling import *"
   ]
  },
  {
   "cell_type": "code",
   "execution_count": 2,
   "id": "944590b3",
   "metadata": {},
   "outputs": [],
   "source": [
    "load_execution_time_from_csv(\"timing-ablation.csv\")\n",
    "load_embodied_values_from_csv(\"embodied-carbon-ablation.csv\")\n",
    "load_memory_from_csv(\"memory-ablation.csv\")"
   ]
  },
  {
   "cell_type": "markdown",
   "id": "362f0a26",
   "metadata": {},
   "source": [
    "## Lifetime Modeling"
   ]
  },
  {
   "cell_type": "code",
   "execution_count": null,
   "id": "5ebd97d4",
   "metadata": {},
   "outputs": [
    {
     "data": {
      "application/vnd.jupyter.widget-view+json": {
       "model_id": "b602cc352cd14876bf98ab7b295d966a",
       "version_major": 2,
       "version_minor": 0
      },
      "text/plain": [
       "VBox(children=(Dropdown(description='Kernel:', options=('DT-Small', 'DT-Medium', 'DT-Large', 'KNN-Small', 'KNN…"
      ]
     },
     "metadata": {},
     "output_type": "display_data"
    },
    {
     "data": {
      "application/vnd.jupyter.widget-view+json": {
       "model_id": "9c7b80e4a214416294ff3c26cf98017c",
       "version_major": 2,
       "version_minor": 0
      },
      "text/plain": [
       "Output()"
      ]
     },
     "metadata": {},
     "output_type": "display_data"
    }
   ],
   "source": [
    "workload_dropdown = widgets.Dropdown(\n",
    "    options=execution_time.keys(),\n",
    "    value=\"DT-Small\",\n",
    "    description=\"Kernel:\",\n",
    ")\n",
    "\n",
    "lifetime_slider = widgets.FloatSlider(\n",
    "    value=1.0,\n",
    "    min=MIN_LIFETIME,\n",
    "    max=MAX_LIFETIME,\n",
    "    step=0.5,\n",
    "    description='Lifetime (yrs)'\n",
    ")\n",
    "\n",
    "inf_freq_slider = widgets.BoundedFloatText(\n",
    "    value=1.0,\n",
    "    min=MIN_INF_FREQ,\n",
    "    max=MAX_INF_FREQ,\n",
    "    step=1.0,\n",
    "    description='Number of Executed Tasks per Year'\n",
    ")\n",
    "\n",
    "power_source_dropdown = widgets.Dropdown(\n",
    "    options=carbon_intensity_values.keys(),\n",
    "    value=list(carbon_intensity_values.keys())[0],\n",
    "    description=\"Power Source:\",\n",
    ")\n",
    "\n",
    "carbon_intensity_box = widgets.Text(\n",
    "    value=carbon_intensity_values[power_source_dropdown.value],\n",
    "    description=\"Carbon Int. (CO₂/unit energy)\",\n",
    ")\n",
    "\n",
    "carbon_intensity_box.disabled = True\n",
    "def update_carbon_intensity(*args):\n",
    "    if power_source_dropdown.value == \"Custom\":\n",
    "        carbon_intensity_box.disabled = False\n",
    "    else:\n",
    "        carbon_intensity_box.value = carbon_intensity_values[power_source_dropdown.value]\n",
    "        carbon_intensity_box.disabled = True\n",
    "\n",
    "power_source_dropdown.observe(update_carbon_intensity, 'value')\n",
    "\n",
    "core_freq_box = widgets.BoundedFloatText(\n",
    "    value=10000.0,\n",
    "    min=1000.0,\n",
    "    max=100000.0,\n",
    "    step=100.0,\n",
    "    description='Core Freq'\n",
    ")\n",
    "\n",
    "ui = widgets.VBox([\n",
    "    workload_dropdown,\n",
    "    lifetime_slider,\n",
    "    inf_freq_slider,\n",
    "    power_source_dropdown,\n",
    "    carbon_intensity_box,\n",
    "    core_freq_box\n",
    "])\n",
    "\n",
    "out = widgets.interactive_output(\n",
    "    plot_carbon_vs_lifetime,\n",
    "    {\n",
    "        'workload_choice': workload_dropdown,\n",
    "        'lifetime_yrs': lifetime_slider,\n",
    "        'inf_freq': inf_freq_slider,\n",
    "        'carbon_intensity': carbon_intensity_box,\n",
    "        'core_freq': core_freq_box,\n",
    "    }\n",
    ")\n",
    "\n",
    "display(ui, out)"
   ]
  },
  {
   "cell_type": "markdown",
   "id": "febf7c9d",
   "metadata": {},
   "source": [
    "## Carbon-Accuracy Kernel Modeling"
   ]
  },
  {
   "cell_type": "code",
   "execution_count": null,
   "id": "146a11d3",
   "metadata": {},
   "outputs": [
    {
     "data": {
      "application/vnd.jupyter.widget-view+json": {
       "model_id": "1f9e3b4aa31748e1a0664b7667489ea0",
       "version_major": 2,
       "version_minor": 0
      },
      "text/plain": [
       "interactive(children=(FloatSlider(value=1.0, description='Lifetime (years)', max=10.0, min=0.1), IntSlider(val…"
      ]
     },
     "metadata": {},
     "output_type": "display_data"
    },
    {
     "data": {
      "text/plain": [
       "<function __main__.plot_accuracy_vs_carbon_with_fig(lifetime_years, tasks_per_year, carbon_intensity)>"
      ]
     },
     "execution_count": 4,
     "metadata": {},
     "output_type": "execute_result"
    }
   ],
   "source": [
    "\n",
    "import matplotlib.pyplot as plt\n",
    "\n",
    "def plot_accuracy_vs_carbon_with_fig(lifetime_years, tasks_per_year, carbon_intensity):\n",
    "    fig, ax = plt.subplots(figsize=(10, 6))\n",
    "    plot_accuracy_vs_carbon(\n",
    "        lifetime_years=lifetime_years,\n",
    "        tasks_per_year=tasks_per_year,\n",
    "        carbon_intensity=carbon_intensity,\n",
    "        ax=ax\n",
    "    )\n",
    "    plt.show()\n",
    "\n",
    "# Reasonable slider ranges for interactive exploration\n",
    "interact(\n",
    "    plot_accuracy_vs_carbon_with_fig,\n",
    "    lifetime_years=FloatSlider(value=1, min=0.1, max=10, step=0.1, description='Lifetime (years)'),\n",
    "    tasks_per_year=IntSlider(value=365, min=1, max=10000, step=1, description='Tasks/year'),\n",
    "    carbon_intensity=Dropdown(\n",
    "        options=carbon_intensity_values,\n",
    "        value=carbon_intensity_values[\"US Avg (2023)\"],\n",
    "        description='Carbon Intensity\\n(gCO2e/Wh)'\n",
    "    )\n",
    ")\n"
   ]
  },
  {
   "cell_type": "markdown",
   "id": "bc26d63f",
   "metadata": {},
   "source": [
    "## At-scale Carbon Projections"
   ]
  },
  {
   "cell_type": "code",
   "execution_count": 5,
   "id": "a012f39c",
   "metadata": {},
   "outputs": [
    {
     "data": {
      "text/plain": [
       "(1.285745959, 0.001894388481443765, 1.2876403474814437)"
      ]
     },
     "execution_count": 5,
     "metadata": {},
     "output_type": "execute_result"
    }
   ],
   "source": [
    "compute_total_carbon(\"Serv\", \"LR\", 1, 365, 367 / 3600 / 1000000, 10000)"
   ]
  },
  {
   "cell_type": "code",
   "execution_count": 6,
   "id": "ed58d54f",
   "metadata": {},
   "outputs": [],
   "source": [
    "ideal_carbon = 0.00129 + 0.00129 + 0.00828\n",
    "conservative_carbon = 0.02 + 0.00129 + 0.107\n",
    "silicon_carbon = 2.66\n",
    "\n",
    "beef_kg_carbon = 14.5\n",
    "beef_total_kg = 26.19 * 453.592 * 1_000_000\n",
    "beef_total_carbon = beef_kg_carbon * beef_total_kg\n",
    "\n",
    "beef_wasted_percent = 0.31\n",
    "\n",
    "car_kg = 4600\n",
    "\n",
    "config_carbons = {\n",
    "    \"Flexible\": 0.01086,\n",
    "    \"Hybrid\": 0.12829,\n",
    "    \"Silicon\": 2.66\n",
    "}"
   ]
  },
  {
   "cell_type": "code",
   "execution_count": 7,
   "id": "09cd00b0",
   "metadata": {},
   "outputs": [
    {
     "name": "stdout",
     "output_type": "stream",
     "text": [
      "                  100%           10%            1%          0.1%         0.01%\n",
      "Flexible  5.326968e+10  5.210857e+09  4.049747e+08 -7.561349e+07 -1.236723e+08\n",
      "Hybrid    5.187466e+10  3.815838e+09 -9.900437e+08 -1.470632e+09 -1.518691e+09\n",
      "Silicon   2.179902e+10 -2.625980e+10 -3.106568e+10 -3.154627e+10 -3.159433e+10\n",
      "                  100%           10%            1%          0.1%         0.01%\n",
      "Flexible  1.158036e+07  1.132795e+06  8.803798e+04 -1.643772e+04 -2.688528e+04\n",
      "Hybrid    1.127710e+07  8.295300e+05 -2.152269e+05 -3.197026e+05 -3.301502e+05\n",
      "Silicon   4.738917e+06 -5.708652e+06 -6.753409e+06 -6.857885e+06 -6.868332e+06\n"
     ]
    }
   ],
   "source": [
    "# Calculate savings for each variant at specified savings portions\n",
    "savings_portions = [1.0, 0.1, 0.01, 0.001, 0.0001]  # 100%, 10%, 1%, 0.1%, 0.01%\n",
    "savings_portion_labels = [\"100%\", \"10%\", \"1%\", \"0.1%\", \"0.01%\"]\n",
    "\n",
    "variant_savings_results = {}\n",
    "variant_cars_results = {}\n",
    "\n",
    "for label, carbon_val in config_carbons.items():\n",
    "    savings_list = []\n",
    "    cars_list = []\n",
    "    for portion in savings_portions:\n",
    "        savings = beef_total_carbon * portion * beef_wasted_percent - beef_total_kg * carbon_val\n",
    "        savings_list.append(savings)\n",
    "        cars_equiv = savings / car_kg\n",
    "        cars_list.append(cars_equiv)\n",
    "    variant_savings_results[label] = savings_list\n",
    "    variant_cars_results[label] = cars_list\n",
    "\n",
    "import pandas as pd\n",
    "\n",
    "# Define the desired row and column order\n",
    "row_order = [\"Ideal\", \"Conservative\", \"Silicon\"]\n",
    "col_order = savings_portion_labels\n",
    "\n",
    "# Reorganize the DataFrame: rows = variants, columns = percentages\n",
    "df_savings = pd.DataFrame(variant_savings_results, index=col_order).T\n",
    "\n",
    "df_cars = pd.DataFrame(variant_cars_results, index=col_order).T\n",
    "\n",
    "print(df_savings)\n",
    "print(df_cars)\n",
    "\n"
   ]
  },
  {
   "cell_type": "code",
   "execution_count": 8,
   "id": "c0cca799",
   "metadata": {},
   "outputs": [
    {
     "name": "stdout",
     "output_type": "stream",
     "text": [
      "Portion required for each variant to reach zero savings (i.e., break-even point):\n",
      "Flexible: 0.002416\n",
      "Hybrid: 0.028541\n",
      "Silicon: 0.591769\n"
     ]
    }
   ],
   "source": [
    "# For each variant, calculate the portion needed to achieve zero savings (i.e., set equation to zero and solve for portion)\n",
    "required_portions = {}\n",
    "for label, carbon_val in config_carbons.items():\n",
    "    numerator = beef_total_kg * carbon_val\n",
    "    denominator = beef_total_carbon * beef_wasted_percent\n",
    "    if denominator != 0:\n",
    "        portion = numerator / denominator\n",
    "    else:\n",
    "        portion = float('nan')\n",
    "    required_portions[label] = portion\n",
    "\n",
    "print(\"Portion required for each variant to reach zero savings (i.e., break-even point):\")\n",
    "for label, portion in required_portions.items():\n",
    "    print(f\"{label}: {portion:.6f}\")\n"
   ]
  }
 ],
 "metadata": {
  "kernelspec": {
   "display_name": ".venv",
   "language": "python",
   "name": "python3"
  },
  "language_info": {
   "codemirror_mode": {
    "name": "ipython",
    "version": 3
   },
   "file_extension": ".py",
   "mimetype": "text/x-python",
   "name": "python",
   "nbconvert_exporter": "python",
   "pygments_lexer": "ipython3",
   "version": "3.13.1"
  }
 },
 "nbformat": 4,
 "nbformat_minor": 5
}
