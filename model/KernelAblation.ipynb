{
 "cells": [
  {
   "cell_type": "markdown",
   "id": "16c27f6b",
   "metadata": {},
   "source": [
    "# Food Spoilage Kernel Case Study"
   ]
  },
  {
   "cell_type": "markdown",
   "id": "657ad432",
   "metadata": {},
   "source": [
    "## Setup"
   ]
  },
  {
   "cell_type": "code",
   "execution_count": 1,
   "id": "c52a742f",
   "metadata": {},
   "outputs": [],
   "source": [
    "import numpy as np\n",
    "import matplotlib.pyplot as plt\n",
    "from matplotlib.colors import ListedColormap\n",
    "import matplotlib.patches as mpatches\n",
    "import ipywidgets as widgets\n",
    "from ipywidgets import interact\n",
    "from ipywidgets import interact, FloatSlider, IntSlider, Dropdown\n",
    "from matplotlib.lines import Line2D\n",
    "\n",
    "from lifetime_modeling import *"
   ]
  },
  {
   "cell_type": "code",
   "execution_count": 2,
   "id": "944590b3",
   "metadata": {},
   "outputs": [],
   "source": [
    "load_execution_time_from_csv(\"timing-ablation.csv\")\n",
    "load_embodied_values_from_csv(\"embodied-carbon-ablation.csv\")\n",
    "load_memory_from_csv(\"memory-ablation.csv\")\n",
    "\n",
    "workload_accuracies = {\n",
    "    \"DT-Small\": 414 / 555,\n",
    "    \"DT-Medium\": 465 / 555,\n",
    "    \"DT-Large\": 528 / 555,\n",
    "    \"KNN-Large\": 549 / 555,\n",
    "    \"KNN-Medium\": 547 / 555,\n",
    "    \"KNN-Small\": 535 / 555,\n",
    "    \"LR\": 545 / 555,\n",
    "    \"MLP\": 507 / 555\n",
    "}\n"
   ]
  },
  {
   "cell_type": "markdown",
   "id": "362f0a26",
   "metadata": {},
   "source": [
    "## Lifetime Modeling"
   ]
  },
  {
   "cell_type": "code",
   "execution_count": 3,
   "id": "5ebd97d4",
   "metadata": {},
   "outputs": [
    {
     "data": {
      "application/vnd.jupyter.widget-view+json": {
       "model_id": "5d3693c4bf114fde9c1cc91d73bddae8",
       "version_major": 2,
       "version_minor": 0
      },
      "text/plain": [
       "VBox(children=(Dropdown(description='Kernel:', options=('DT-Small', 'DT-Medium', 'DT-Large', 'KNN-Small', 'KNN…"
      ]
     },
     "metadata": {},
     "output_type": "display_data"
    },
    {
     "data": {
      "application/vnd.jupyter.widget-view+json": {
       "model_id": "033b9bc1ca8847a9bab27d3d07c91edc",
       "version_major": 2,
       "version_minor": 0
      },
      "text/plain": [
       "Output()"
      ]
     },
     "metadata": {},
     "output_type": "display_data"
    }
   ],
   "source": [
    "workload_dropdown = widgets.Dropdown(\n",
    "    options=execution_time.keys(),\n",
    "    value=\"DT-Small\",\n",
    "    description=\"Kernel:\",\n",
    ")\n",
    "\n",
    "lifetime_slider = widgets.FloatSlider(\n",
    "    value=1.0,\n",
    "    min=MIN_LIFETIME,\n",
    "    max=MAX_LIFETIME,\n",
    "    step=0.5,\n",
    "    description='Lifetime (yrs)'\n",
    ")\n",
    "\n",
    "inf_freq_slider = widgets.BoundedFloatText(\n",
    "    value=1.0,\n",
    "    min=MIN_INF_FREQ,\n",
    "    max=MAX_INF_FREQ,\n",
    "    step=1.0,\n",
    "    description='Number of Executed Tasks per Year'\n",
    ")\n",
    "\n",
    "power_source_dropdown = widgets.Dropdown(\n",
    "    options=carbon_intensity_values.keys(),\n",
    "    value=list(carbon_intensity_values.keys())[0],\n",
    "    description=\"Power Source:\",\n",
    ")\n",
    "\n",
    "carbon_intensity_box = widgets.Text(\n",
    "    value=carbon_intensity_values[power_source_dropdown.value],\n",
    "    description=\"Carbon Int. (CO₂/unit energy)\",\n",
    ")\n",
    "\n",
    "carbon_intensity_box.disabled = True\n",
    "def update_carbon_intensity(*args):\n",
    "    if power_source_dropdown.value == \"Custom\":\n",
    "        carbon_intensity_box.disabled = False\n",
    "    else:\n",
    "        carbon_intensity_box.value = carbon_intensity_values[power_source_dropdown.value]\n",
    "        carbon_intensity_box.disabled = True\n",
    "\n",
    "power_source_dropdown.observe(update_carbon_intensity, 'value')\n",
    "\n",
    "core_freq_box = widgets.BoundedFloatText(\n",
    "    value=10000.0,\n",
    "    min=1000.0,\n",
    "    max=100000.0,\n",
    "    step=100.0,\n",
    "    description='Core Freq'\n",
    ")\n",
    "\n",
    "ui = widgets.VBox([\n",
    "    workload_dropdown,\n",
    "    lifetime_slider,\n",
    "    inf_freq_slider,\n",
    "    power_source_dropdown,\n",
    "    carbon_intensity_box,\n",
    "    core_freq_box\n",
    "])\n",
    "\n",
    "out = widgets.interactive_output(\n",
    "    plot_carbon_vs_lifetime,\n",
    "    {\n",
    "        'workload_choice': workload_dropdown,\n",
    "        'lifetime_yrs': lifetime_slider,\n",
    "        'inf_freq': inf_freq_slider,\n",
    "        'carbon_intensity': carbon_intensity_box,\n",
    "        'core_freq': core_freq_box,\n",
    "    }\n",
    ")\n",
    "\n",
    "display(ui, out)"
   ]
  },
  {
   "cell_type": "markdown",
   "id": "febf7c9d",
   "metadata": {},
   "source": [
    "## Carbon-Accuracy Kernel Modeling"
   ]
  },
  {
   "cell_type": "code",
   "execution_count": 4,
   "id": "e943a270",
   "metadata": {},
   "outputs": [],
   "source": [
    "def plot_accuracy_vs_carbon(lifetime_years, tasks_per_year, carbon_intensity):\n",
    "    x_acc = []\n",
    "    y_cf = []\n",
    "    labels = []\n",
    "    colors = []\n",
    "    carbon_intensity = float(carbon_intensity) / 3600 / 1000000\n",
    "    variant_color_map = {\n",
    "        'Serv': 'tab:blue',\n",
    "        'Qerv': 'tab:orange',\n",
    "        'Herv': 'tab:green'\n",
    "    }\n",
    "    x_acc = []\n",
    "    y_cf = []\n",
    "    labels = []\n",
    "    colors = []\n",
    "    markers = []\n",
    "    sizes = []\n",
    "\n",
    "    STAR_SIZE = 100\n",
    "    X_SIZE = 30\n",
    "\n",
    "    for workload, acc in workload_accuracies.items():\n",
    "        footprints = []\n",
    "        for variant in ['Serv', 'Qerv', 'Herv']:\n",
    "            footprint = compute_total_carbon(variant, workload, lifetime_years, tasks_per_year, carbon_intensity, 10000)[2]\n",
    "            footprints.append((variant, footprint))\n",
    "        # Find the variant with the smallest footprint\n",
    "        min_footprint = min(footprints, key=lambda x: x[1])[1]\n",
    "        footprints.sort(key=lambda x: x[1], reverse=True)\n",
    "        for variant, footprint in footprints:\n",
    "            x_acc.append(acc)\n",
    "            y_cf.append(footprint)\n",
    "            colors.append(variant_color_map[variant])\n",
    "            if footprint == min_footprint:\n",
    "                labels.append(f\"{workload}\")\n",
    "            else:\n",
    "                labels.append(\"\")\n",
    "\n",
    "            # Hardcoded - we know that MLP and KNN-Small are only workloads with non-pareto\n",
    "            if footprint != min_footprint or workload in [\"MLP\", \"KNN-Small\"]:\n",
    "                markers.append('x')\n",
    "                sizes.append(X_SIZE)\n",
    "            else:\n",
    "                markers.append('*')\n",
    "                sizes.append(STAR_SIZE)\n",
    "\n",
    "    plt.figure(figsize=(10, 6))\n",
    "    plt.yscale('log')\n",
    "    # Plot each point with its marker and size\n",
    "    for x, y, c, m, s in zip(x_acc, y_cf, colors, markers, sizes):\n",
    "        plt.scatter(x, y, c=c, s=s, marker=m, alpha=0.9)\n",
    "\n",
    "    # Place labels to the bottom right of the datapoint\n",
    "    for i, label in enumerate(labels):\n",
    "        if label:  # Only annotate non-empty labels\n",
    "            # xytext=(+8, -8): right and down from the point\n",
    "            plt.annotate(\n",
    "                label,\n",
    "                (x_acc[i], y_cf[i]),\n",
    "                textcoords=\"offset points\",\n",
    "                xytext=(0, -8),\n",
    "                ha='center',\n",
    "                va='top',\n",
    "                fontsize=9\n",
    "            )\n",
    "\n",
    "    # Custom legend for the variants and marker types\n",
    "    legend_elements = [\n",
    "        Line2D([0], [0], marker='*', color='w', label='Pareto-Optimal', markerfacecolor='gray', markeredgecolor='k', markersize=14),\n",
    "        Line2D([0], [0], marker='x', color='w', label='Not Pareto-Optimal', markerfacecolor='gray', markeredgecolor='k', markersize=8),\n",
    "        Line2D([0], [0], marker='o', color='w', label='Serv', markerfacecolor='tab:blue', markersize=10),\n",
    "        Line2D([0], [0], marker='o', color='w', label='Qerv', markerfacecolor='tab:orange', markersize=10),\n",
    "        Line2D([0], [0], marker='o', color='w', label='Herv', markerfacecolor='tab:green', markersize=10)\n",
    "    ]\n",
    "    plt.legend(handles=legend_elements, title=\"Variant / Marker\")\n",
    "\n",
    "    plt.xlabel(\"Accuracy\")\n",
    "    plt.ylabel(f\"Total Carbon Footprint over {lifetime_years:.1f} years (gCO2e)\")\n",
    "    plt.title(\"Accuracy vs. Carbon Footprint\")\n",
    "    plt.grid(True)\n",
    "    plt.tight_layout()\n",
    "    plt.show()\n"
   ]
  },
  {
   "cell_type": "code",
   "execution_count": null,
   "id": "146a11d3",
   "metadata": {},
   "outputs": [
    {
     "data": {
      "application/vnd.jupyter.widget-view+json": {
       "model_id": "b0ce1aba28364ed1992d8edad58c670e",
       "version_major": 2,
       "version_minor": 0
      },
      "text/plain": [
       "interactive(children=(FloatSlider(value=1.0, description='Lifetime (years)', max=10.0, min=0.1), IntSlider(val…"
      ]
     },
     "metadata": {},
     "output_type": "display_data"
    },
    {
     "data": {
      "text/plain": [
       "<function __main__.plot_accuracy_vs_carbon(lifetime_years, tasks_per_year, carbon_intensity)>"
      ]
     },
     "execution_count": 5,
     "metadata": {},
     "output_type": "execute_result"
    }
   ],
   "source": [
    "\n",
    "# Reasonable slider ranges for interactive exploration\n",
    "interact(\n",
    "    plot_accuracy_vs_carbon,\n",
    "    lifetime_years=FloatSlider(value=1, min=0.1, max=10, step=0.1, description='Lifetime (years)'),\n",
    "    tasks_per_year=IntSlider(value=365, min=1, max=10000, step=1, description='Tasks/year'),\n",
    "    carbon_intensity=Dropdown(\n",
    "        options=carbon_intensity_values,\n",
    "        value=carbon_intensity_values[\"US Avg (2023)\"],\n",
    "        description='Carbon Intensity\\n(gCO2e/Wh)'\n",
    "    )\n",
    ")\n"
   ]
  }
 ],
 "metadata": {
  "kernelspec": {
   "display_name": ".venv",
   "language": "python",
   "name": "python3"
  },
  "language_info": {
   "codemirror_mode": {
    "name": "ipython",
    "version": 3
   },
   "file_extension": ".py",
   "mimetype": "text/x-python",
   "name": "python",
   "nbconvert_exporter": "python",
   "pygments_lexer": "ipython3",
   "version": "3.13.1"
  }
 },
 "nbformat": 4,
 "nbformat_minor": 5
}
