{
 "cells": [
  {
   "cell_type": "markdown",
   "id": "16c27f6b",
   "metadata": {},
   "source": [
    "# Food Spoilage Kernel Case Study"
   ]
  },
  {
   "cell_type": "markdown",
   "id": "657ad432",
   "metadata": {},
   "source": [
    "## Setup"
   ]
  },
  {
   "cell_type": "code",
   "execution_count": 1,
   "id": "c52a742f",
   "metadata": {},
   "outputs": [],
   "source": [
    "import numpy as np\n",
    "import seaborn as sns\n",
    "import matplotlib.pyplot as plt\n",
    "from matplotlib.lines import Line2D\n",
    "import ipywidgets as widgets\n",
    "from ipywidgets import interact, FloatSlider, IntSlider, Dropdown\n",
    "\n",
    "from lifetime_modeling import *\n",
    "from ablation_modeling import *"
   ]
  },
  {
   "cell_type": "code",
   "execution_count": 2,
   "id": "944590b3",
   "metadata": {},
   "outputs": [],
   "source": [
    "load_execution_time_from_csv(\"timing-ablation.csv\")\n",
    "load_embodied_values_from_csv(\"embodied-carbon-ablation.csv\")\n",
    "load_memory_from_csv(\"memory-ablation.csv\")"
   ]
  },
  {
   "cell_type": "markdown",
   "id": "362f0a26",
   "metadata": {},
   "source": [
    "## Lifetime Modeling"
   ]
  },
  {
   "cell_type": "code",
   "execution_count": null,
   "id": "5ebd97d4",
   "metadata": {},
   "outputs": [
    {
     "data": {
      "application/vnd.jupyter.widget-view+json": {
       "model_id": "ab632bb77c21488ea0f3060572827823",
       "version_major": 2,
       "version_minor": 0
      },
      "text/plain": [
       "VBox(children=(Dropdown(description='Kernel:', options=('DT-Small', 'DT-Medium', 'DT-Large', 'KNN-Small', 'KNN…"
      ]
     },
     "metadata": {},
     "output_type": "display_data"
    },
    {
     "data": {
      "application/vnd.jupyter.widget-view+json": {
       "model_id": "07abbdc84a2f4d4c88abf26308cccb59",
       "version_major": 2,
       "version_minor": 0
      },
      "text/plain": [
       "Output()"
      ]
     },
     "metadata": {},
     "output_type": "display_data"
    }
   ],
   "source": [
    "workload_dropdown = widgets.Dropdown(\n",
    "    options=execution_time.keys(),\n",
    "    value=\"DT-Small\",\n",
    "    description=\"Kernel:\",\n",
    ")\n",
    "\n",
    "lifetime_slider = widgets.FloatSlider(\n",
    "    value=1.0,\n",
    "    min=MIN_LIFETIME,\n",
    "    max=MAX_LIFETIME,\n",
    "    step=0.5,\n",
    "    description='Lifetime (yrs)'\n",
    ")\n",
    "\n",
    "inf_freq_slider = widgets.BoundedFloatText(\n",
    "    value=1.0,\n",
    "    min=MIN_INF_FREQ,\n",
    "    max=MAX_INF_FREQ,\n",
    "    step=1.0,\n",
    "    description='Number of Executed Tasks per Year'\n",
    ")\n",
    "\n",
    "power_source_dropdown = widgets.Dropdown(\n",
    "    options=carbon_intensity_values.keys(),\n",
    "    value=list(carbon_intensity_values.keys())[0],\n",
    "    description=\"Power Source:\",\n",
    ")\n",
    "\n",
    "carbon_intensity_box = widgets.Text(\n",
    "    value=carbon_intensity_values[power_source_dropdown.value],\n",
    "    description=\"Carbon Int. (CO₂/unit energy)\",\n",
    ")\n",
    "\n",
    "carbon_intensity_box.disabled = True\n",
    "def update_carbon_intensity(*args):\n",
    "    if power_source_dropdown.value == \"Custom\":\n",
    "        carbon_intensity_box.disabled = False\n",
    "    else:\n",
    "        carbon_intensity_box.value = carbon_intensity_values[power_source_dropdown.value]\n",
    "        carbon_intensity_box.disabled = True\n",
    "\n",
    "power_source_dropdown.observe(update_carbon_intensity, 'value')\n",
    "\n",
    "core_freq_box = widgets.BoundedFloatText(\n",
    "    value=10000.0,\n",
    "    min=1000.0,\n",
    "    max=100000.0,\n",
    "    step=100.0,\n",
    "    description='Core Freq'\n",
    ")\n",
    "\n",
    "ui = widgets.VBox([\n",
    "    workload_dropdown,\n",
    "    lifetime_slider,\n",
    "    inf_freq_slider,\n",
    "    power_source_dropdown,\n",
    "    carbon_intensity_box,\n",
    "    core_freq_box\n",
    "])\n",
    "\n",
    "out = widgets.interactive_output(\n",
    "    plot_carbon_vs_lifetime,\n",
    "    {\n",
    "        'workload_choice': workload_dropdown,\n",
    "        'lifetime_yrs': lifetime_slider,\n",
    "        'inf_freq': inf_freq_slider,\n",
    "        'carbon_intensity': carbon_intensity_box,\n",
    "        'core_freq': core_freq_box,\n",
    "    }\n",
    ")\n",
    "\n",
    "display(ui, out)"
   ]
  },
  {
   "cell_type": "markdown",
   "id": "febf7c9d",
   "metadata": {},
   "source": [
    "## Carbon-Accuracy Kernel Modeling"
   ]
  },
  {
   "cell_type": "code",
   "execution_count": null,
   "id": "146a11d3",
   "metadata": {},
   "outputs": [
    {
     "data": {
      "application/vnd.jupyter.widget-view+json": {
       "model_id": "abeb2becc6ce43f68048eb08a0ac218e",
       "version_major": 2,
       "version_minor": 0
      },
      "text/plain": [
       "interactive(children=(FloatSlider(value=1.0, description='Lifetime (years)', max=10.0, min=0.1), IntSlider(val…"
      ]
     },
     "metadata": {},
     "output_type": "display_data"
    },
    {
     "data": {
      "text/plain": [
       "<function __main__.plot_accuracy_vs_carbon_with_fig(lifetime_years, tasks_per_year, carbon_intensity)>"
      ]
     },
     "execution_count": 4,
     "metadata": {},
     "output_type": "execute_result"
    }
   ],
   "source": [
    "\n",
    "import matplotlib.pyplot as plt\n",
    "\n",
    "def plot_accuracy_vs_carbon_with_fig(lifetime_years, tasks_per_year, carbon_intensity):\n",
    "    fig, ax = plt.subplots(figsize=(10, 6))\n",
    "    plot_accuracy_vs_carbon(\n",
    "        lifetime_years=lifetime_years,\n",
    "        tasks_per_year=tasks_per_year,\n",
    "        carbon_intensity=carbon_intensity,\n",
    "        ax=ax\n",
    "    )\n",
    "    plt.show()\n",
    "\n",
    "# Reasonable slider ranges for interactive exploration\n",
    "interact(\n",
    "    plot_accuracy_vs_carbon_with_fig,\n",
    "    lifetime_years=FloatSlider(value=1, min=0.1, max=10, step=0.1, description='Lifetime (years)'),\n",
    "    tasks_per_year=IntSlider(value=365, min=1, max=10000, step=1, description='Tasks/year'),\n",
    "    carbon_intensity=Dropdown(\n",
    "        options=carbon_intensity_values,\n",
    "        value=carbon_intensity_values[\"US Avg (2023)\"],\n",
    "        description='Carbon Intensity\\n(gCO2e/Wh)'\n",
    "    )\n",
    ")\n"
   ]
  }
 ],
 "metadata": {
  "kernelspec": {
   "display_name": ".venv",
   "language": "python",
   "name": "python3"
  },
  "language_info": {
   "codemirror_mode": {
    "name": "ipython",
    "version": 3
   },
   "file_extension": ".py",
   "mimetype": "text/x-python",
   "name": "python",
   "nbconvert_exporter": "python",
   "pygments_lexer": "ipython3",
   "version": "3.13.1"
  }
 },
 "nbformat": 4,
 "nbformat_minor": 5
}
